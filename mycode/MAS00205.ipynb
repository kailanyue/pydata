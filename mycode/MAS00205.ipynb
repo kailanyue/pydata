{
 "cells": [
  {
   "cell_type": "code",
   "execution_count": null,
   "metadata": {
    "collapsed": true,
    "ExecuteTime": {
     "start_time": "2023-04-18T16:29:55.359964Z",
     "end_time": "2023-04-18T16:29:56.097778Z"
    }
   },
   "outputs": [],
   "source": [
    "import numpy as np\n",
    "import pandas as pd"
   ]
  },
  {
   "cell_type": "code",
   "execution_count": null,
   "outputs": [],
   "source": [
    "data_raw = pd.read_parquet(\"datasets/result-1681803723540.parquet.gzip\")\n",
    "\n",
    "drop_columns = [\"ebs_Q_Charge\", \"ebs_Q_Discharge\", \"BCM_ebs_I_BATT\", \"dcdc_OverTemperature\",\"IC_LowBatteryvoltage\", \"DCDC_realInputVoltage\", \"DCDC_realInputCurrent\"]\n",
    "data_raw = data_raw.drop(columns=drop_columns)\n",
    "data_raw.info()"
   ],
   "metadata": {
    "collapsed": false,
    "ExecuteTime": {
     "start_time": "2023-04-18T16:29:56.745492Z",
     "end_time": "2023-04-18T16:29:57.220798Z"
    }
   }
  },
  {
   "cell_type": "code",
   "execution_count": null,
   "outputs": [],
   "source": [
    "data_raw.head(20)"
   ],
   "metadata": {
    "collapsed": false,
    "ExecuteTime": {
     "start_time": "2023-04-18T16:30:01.439703Z",
     "end_time": "2023-04-18T16:30:01.462230Z"
    }
   }
  },
  {
   "cell_type": "code",
   "execution_count": null,
   "outputs": [],
   "source": [
    "# 填充操作\n",
    "MAS00198 = data_raw[data_raw.vin == \"LM8F7D890MAS00205\"].fillna(method='ffill').sort_values(by=\"collect_ts\")\n",
    "MAS00198.info()"
   ],
   "metadata": {
    "collapsed": false,
    "ExecuteTime": {
     "start_time": "2023-04-18T16:30:02.356294Z",
     "end_time": "2023-04-18T16:30:02.395668Z"
    }
   }
  },
  {
   "cell_type": "code",
   "execution_count": null,
   "outputs": [],
   "source": [
    "MAS00198 = MAS00198[MAS00198[\"BCM_ebs_U_BATT\"] > 7.]\n",
    "MAS00198.info()"
   ],
   "metadata": {
    "collapsed": false,
    "ExecuteTime": {
     "start_time": "2023-04-18T16:30:10.376076Z",
     "end_time": "2023-04-18T16:30:10.387075Z"
    }
   }
  },
  {
   "cell_type": "code",
   "execution_count": null,
   "outputs": [],
   "source": [
    "pd.DataFrame(MAS00198[\"BCM_ebs_U_BATT\"].value_counts()).sort_values(by='BCM_ebs_U_BATT')\n"
   ],
   "metadata": {
    "collapsed": false,
    "ExecuteTime": {
     "start_time": "2023-04-18T16:30:15.137000Z",
     "end_time": "2023-04-18T16:30:15.146755Z"
    }
   }
  },
  {
   "cell_type": "code",
   "execution_count": null,
   "outputs": [],
   "source": [
    "import matplotlib.pyplot as plt\n",
    "MAS00198.BCM_ebs_U_BATT.hist(bins=1000, figsize=(15,3))\n",
    "plt.show()"
   ],
   "metadata": {
    "collapsed": false,
    "ExecuteTime": {
     "start_time": "2023-04-18T16:30:21.128869Z",
     "end_time": "2023-04-18T16:30:22.354876Z"
    }
   }
  },
  {
   "cell_type": "code",
   "execution_count": null,
   "outputs": [],
   "source": [
    "MAS00198_copy = MAS00198.copy()\n",
    "\n",
    "MAS00198_copy['date'] = pd.to_datetime(MAS00198_copy[\"collect_ts\"], unit='ms')\n",
    "\n",
    "MAS00198_copy = MAS00198_copy.set_index(\"date\")\n",
    "MAS00198_copy"
   ],
   "metadata": {
    "collapsed": false,
    "ExecuteTime": {
     "start_time": "2023-04-18T16:30:42.697884Z",
     "end_time": "2023-04-18T16:30:42.719323Z"
    }
   }
  },
  {
   "cell_type": "code",
   "execution_count": null,
   "outputs": [],
   "source": [
    "MAS00198_copy[\"2023-04-18 02:55:00\":\"2023-04-18 03:01:00\"].loc[:, [\"BCM_ebs_U_BATT\", \"dcdc_realOutputVoltage\"]]"
   ],
   "metadata": {
    "collapsed": false,
    "ExecuteTime": {
     "start_time": "2023-04-19T14:02:17.406378Z",
     "end_time": "2023-04-19T14:02:17.428595Z"
    }
   }
  },
  {
   "cell_type": "code",
   "execution_count": null,
   "outputs": [],
   "source": [],
   "metadata": {
    "collapsed": false
   }
  },
  {
   "cell_type": "code",
   "execution_count": null,
   "outputs": [],
   "source": [
    "import matplotlib.pyplot as plt\n",
    "\n",
    "MAS00198_copy[\"2023-04-18 02:55:00\":\"2023-04-18 03:01:00\"][[\"BCM_ebs_U_BATT\", \"dcdc_realOutputVoltage\"]].plot(grid=True, marker=\".\", figsize=(5, 3))\n",
    "\n",
    "# extra code – saves the figure for the book\n",
    "plt.show()"
   ],
   "metadata": {
    "collapsed": false,
    "ExecuteTime": {
     "start_time": "2023-04-19T14:10:05.700051Z",
     "end_time": "2023-04-19T14:10:05.870017Z"
    }
   }
  },
  {
   "cell_type": "code",
   "execution_count": null,
   "outputs": [],
   "source": [
    "import matplotlib.pyplot as plt\n",
    "\n",
    "MAS00198_copy[[\"BCM_ebs_U_BATT\", \"dcdc_realOutputVoltage\"]].plot(grid=True, marker=\".\", figsize=(15, 3))\n",
    "\n",
    "# extra code – saves the figure for the book\n",
    "plt.show()"
   ],
   "metadata": {
    "collapsed": false,
    "ExecuteTime": {
     "start_time": "2023-04-18T16:30:51.971632Z",
     "end_time": "2023-04-18T16:30:52.124457Z"
    }
   }
  },
  {
   "cell_type": "code",
   "execution_count": null,
   "outputs": [],
   "source": [
    "import matplotlib.pyplot as plt\n",
    "\n",
    "MAS00198_copy[[\"BCM_ebs_U_BATT\"]].plot(grid=True, marker=\".\", figsize=(15, 3))\n",
    "\n",
    "MAS00198_copy[[\"dcdc_realOutputVoltage\"]].plot(grid=True, marker=\".\", figsize=(15, 3))\n",
    "\n",
    "MAS00198_copy[[\"BCM_ebs_SOC\"]].plot(grid=True, marker=\".\", figsize=(15, 3))\n",
    "\n",
    "MAS00198_copy[[\"dcdc_realOutputCurrent\"]].plot(grid=True, marker=\".\", figsize=(15, 3))\n",
    "MAS00198_copy[[\"DCDC_OutPwr\"]].plot(grid=True, marker=\".\", figsize=(15, 3))\n",
    "# extra code – saves the figure for the book\n",
    "plt.show()"
   ],
   "metadata": {
    "collapsed": false,
    "ExecuteTime": {
     "start_time": "2023-04-18T16:31:02.440206Z",
     "end_time": "2023-04-18T16:31:03.101729Z"
    }
   }
  },
  {
   "cell_type": "code",
   "execution_count": null,
   "outputs": [],
   "source": [],
   "metadata": {
    "collapsed": false,
    "ExecuteTime": {
     "start_time": "2023-04-18T16:18:04.156043Z",
     "end_time": "2023-04-18T16:18:05.019195Z"
    }
   }
  }
 ],
 "metadata": {
  "kernelspec": {
   "display_name": "Python 3",
   "language": "python",
   "name": "python3"
  },
  "language_info": {
   "codemirror_mode": {
    "name": "ipython",
    "version": 2
   },
   "file_extension": ".py",
   "mimetype": "text/x-python",
   "name": "python",
   "nbconvert_exporter": "python",
   "pygments_lexer": "ipython2",
   "version": "2.7.6"
  }
 },
 "nbformat": 4,
 "nbformat_minor": 0
}
