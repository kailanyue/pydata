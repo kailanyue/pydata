{
 "cells": [
  {
   "cell_type": "code",
   "execution_count": null,
   "metadata": {
    "collapsed": true,
    "ExecuteTime": {
     "start_time": "2023-04-18T15:15:23.958622Z",
     "end_time": "2023-04-18T15:15:23.979433Z"
    }
   },
   "outputs": [],
   "source": [
    "import numpy as np\n",
    "import pandas as pd"
   ]
  },
  {
   "cell_type": "code",
   "execution_count": null,
   "outputs": [],
   "source": [
    "data_raw = pd.read_parquet(\"datasets/data-0-1.parquet.gzip\")\n",
    "\n",
    "drop_columns = [\"ebs_Q_Charge\", \"ebs_Q_Discharge\", \"BCM_ebs_I_BATT\", \"dcdc_OverTemperature\",\"IC_LowBatteryvoltage\", \"DCDC_realInputVoltage\", \"DCDC_realInputCurrent\"]\n",
    "data_raw = data_raw.drop(columns=drop_columns)\n",
    "data_raw.describe()\n",
    "\n",
    "data = data_raw[data_raw.BCM_ebs_U_BATT >= 10.]"
   ],
   "metadata": {
    "collapsed": false,
    "ExecuteTime": {
     "start_time": "2023-04-18T15:15:24.486830Z",
     "end_time": "2023-04-18T15:15:24.593338Z"
    }
   }
  },
  {
   "cell_type": "code",
   "execution_count": null,
   "outputs": [],
   "source": [
    "pd.DataFrame(data[\"BCM_ebs_U_BATT\"].value_counts()).sort_values(by='BCM_ebs_U_BATT')"
   ],
   "metadata": {
    "collapsed": false,
    "ExecuteTime": {
     "start_time": "2023-04-18T15:15:25.023092Z",
     "end_time": "2023-04-18T15:15:25.036667Z"
    }
   }
  },
  {
   "cell_type": "code",
   "execution_count": null,
   "outputs": [],
   "source": [
    "# 找到两条数据\n",
    "# LM8F7D992MAS00656 1681713513549 10.215820\n",
    "# LM8F7D898MA008093 1681715192990 10.464844\n",
    "data[data[\"BCM_ebs_U_BATT\"] < 10.5]"
   ],
   "metadata": {
    "collapsed": false,
    "ExecuteTime": {
     "start_time": "2023-04-18T15:15:25.839632Z",
     "end_time": "2023-04-18T15:15:25.855770Z"
    }
   }
  },
  {
   "cell_type": "code",
   "execution_count": null,
   "outputs": [],
   "source": [
    "# 按照时间排序\n",
    "MAS00656 = data[data.vin == \"LM8F7D992MAS00656\"].sort_values(by = 'collect_ts')\n",
    "MA008093 = data[data.vin == \"LM8F7D898MA008093\"].sort_values(by = 'collect_ts')"
   ],
   "metadata": {
    "collapsed": false,
    "ExecuteTime": {
     "start_time": "2023-04-18T15:15:26.549262Z",
     "end_time": "2023-04-18T15:15:26.561084Z"
    }
   }
  },
  {
   "cell_type": "code",
   "execution_count": null,
   "outputs": [],
   "source": [
    "MAS00656"
   ],
   "metadata": {
    "collapsed": false,
    "ExecuteTime": {
     "start_time": "2023-04-18T15:15:27.873023Z",
     "end_time": "2023-04-18T15:15:27.891154Z"
    }
   }
  },
  {
   "cell_type": "code",
   "execution_count": null,
   "outputs": [],
   "source": [
    "MA008093"
   ],
   "metadata": {
    "collapsed": false,
    "ExecuteTime": {
     "start_time": "2023-04-18T15:15:28.791321Z",
     "end_time": "2023-04-18T15:15:28.813597Z"
    }
   }
  },
  {
   "cell_type": "code",
   "execution_count": null,
   "outputs": [],
   "source": [
    "# 按照 BCM_ebs_U_BATT 进行排序统计每个电压值的数据量\n",
    "pd.DataFrame(MA008093[\"BCM_ebs_U_BATT\"].value_counts()).sort_values(by='BCM_ebs_U_BATT')"
   ],
   "metadata": {
    "collapsed": false,
    "ExecuteTime": {
     "start_time": "2023-04-18T15:15:29.550018Z",
     "end_time": "2023-04-18T15:15:29.568032Z"
    }
   }
  },
  {
   "cell_type": "code",
   "execution_count": null,
   "outputs": [],
   "source": [
    "# 电压直方图\n",
    "import matplotlib.pyplot as plt\n",
    "MA008093.BCM_ebs_U_BATT.hist(bins=5, figsize=(15,3))\n",
    "plt.show()"
   ],
   "metadata": {
    "collapsed": false,
    "ExecuteTime": {
     "start_time": "2023-04-18T15:15:31.336289Z",
     "end_time": "2023-04-18T15:15:32.046308Z"
    }
   }
  },
  {
   "cell_type": "code",
   "execution_count": null,
   "outputs": [],
   "source": [
    "# soc 和 电压的关系\n",
    "from  pandas.plotting import scatter_matrix\n",
    "\n",
    "attributes = [\"BCM_ebs_U_BATT\", \"BCM_ebs_SOC\"]\n",
    "\n",
    "scatter_matrix(MA008093[attributes], figsize=(6,5))"
   ],
   "metadata": {
    "collapsed": false,
    "ExecuteTime": {
     "start_time": "2023-04-18T15:15:34.603695Z",
     "end_time": "2023-04-18T15:15:34.820797Z"
    }
   }
  },
  {
   "cell_type": "code",
   "execution_count": null,
   "outputs": [],
   "source": [
    "MA008093_copy = MA008093.copy()\n",
    "\n",
    "MA008093_copy['date'] = pd.to_datetime(MA008093_copy[\"collect_ts\"], unit='ms')\n",
    "MA008093_copy.describe()"
   ],
   "metadata": {
    "collapsed": false,
    "ExecuteTime": {
     "start_time": "2023-04-18T15:31:23.264399Z",
     "end_time": "2023-04-18T15:31:23.369164Z"
    }
   }
  },
  {
   "cell_type": "code",
   "execution_count": null,
   "outputs": [],
   "source": [
    "MA008093_copy = MA008093_copy.set_index(\"date\")\n",
    "MA008093_copy"
   ],
   "metadata": {
    "collapsed": false,
    "ExecuteTime": {
     "start_time": "2023-04-18T15:31:42.774140Z",
     "end_time": "2023-04-18T15:31:42.797350Z"
    }
   }
  },
  {
   "cell_type": "code",
   "execution_count": null,
   "outputs": [],
   "source": [
    "import matplotlib.pyplot as plt\n",
    "\n",
    "MA008093_copy[[\"BCM_ebs_U_BATT\"]].plot(grid=True, marker=\".\", figsize=(15, 3))\n",
    "MA008093_copy[[\"BCM_ebs_SOC\"]].plot(grid=True, marker=\".\", figsize=(15, 3))\n",
    "MA008093_copy[[\"dcdc_realOutputVoltage\"]].plot(grid=True, marker=\".\", figsize=(15, 3))\n",
    "MA008093_copy[[\"dcdc_realOutputCurrent\"]].plot(grid=True, marker=\".\", figsize=(15, 3))\n",
    "MA008093_copy[[\"DCDC_OutPwr\"]].plot(grid=True, marker=\".\", figsize=(15, 3))\n",
    " # extra code – saves the figure for the book\n",
    "plt.show()"
   ],
   "metadata": {
    "collapsed": false,
    "ExecuteTime": {
     "start_time": "2023-04-18T15:36:47.419196Z",
     "end_time": "2023-04-18T15:36:48.153835Z"
    }
   }
  },
  {
   "cell_type": "code",
   "execution_count": null,
   "outputs": [],
   "source": [],
   "metadata": {
    "collapsed": false,
    "ExecuteTime": {
     "start_time": "2023-04-18T15:36:47.639211Z",
     "end_time": "2023-04-18T15:36:48.155828Z"
    }
   }
  },
  {
   "cell_type": "code",
   "execution_count": null,
   "outputs": [],
   "source": [],
   "metadata": {
    "collapsed": false
   }
  }
 ],
 "metadata": {
  "kernelspec": {
   "display_name": "Python 3",
   "language": "python",
   "name": "python3"
  },
  "language_info": {
   "codemirror_mode": {
    "name": "ipython",
    "version": 2
   },
   "file_extension": ".py",
   "mimetype": "text/x-python",
   "name": "python",
   "nbconvert_exporter": "python",
   "pygments_lexer": "ipython2",
   "version": "2.7.6"
  }
 },
 "nbformat": 4,
 "nbformat_minor": 0
}
