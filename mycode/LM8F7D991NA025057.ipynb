{
 "cells": [
  {
   "cell_type": "code",
   "execution_count": 1,
   "metadata": {
    "collapsed": true,
    "ExecuteTime": {
     "start_time": "2023-04-25T18:23:04.453201Z",
     "end_time": "2023-04-25T18:23:04.457488Z"
    }
   },
   "outputs": [],
   "source": [
    "import numpy as np\n",
    "import pandas as pd"
   ]
  },
  {
   "cell_type": "code",
   "execution_count": 5,
   "outputs": [
    {
     "name": "stdout",
     "output_type": "stream",
     "text": [
      "<class 'pandas.core.frame.DataFrame'>\n",
      "RangeIndex: 432919 entries, 0 to 432918\n",
      "Data columns (total 39 columns):\n",
      " #   Column                    Non-Null Count   Dtype  \n",
      "---  ------                    --------------   -----  \n",
      " 0   vin                       432919 non-null  object \n",
      " 1   collect_ts                432919 non-null  int64  \n",
      " 2   uuid                      432919 non-null  object \n",
      " 3   model_name                432919 non-null  object \n",
      " 4   series_code               432919 non-null  object \n",
      " 5   msg_create_time           432919 non-null  object \n",
      " 6   vcu_VehicleMode           432634 non-null  float32\n",
      " 7   vcu_vehicleSpeed          432629 non-null  float32\n",
      " 8   VCU_VehicleSpeedValid     432629 non-null  float32\n",
      " 9   vcu_state                 432919 non-null  float32\n",
      " 10  bms_SOC                   431903 non-null  float32\n",
      " 11  bms_state                 432919 non-null  float32\n",
      " 12  BCM_ebs_U_BATT            43092 non-null   float32\n",
      " 13  BCM_ebs_SOC               43092 non-null   float32\n",
      " 14  BCM_ebs_SOH_SUL           43092 non-null   float32\n",
      " 15  BCM_ebs_SOC_STATE         43070 non-null   float32\n",
      " 16  BCM_ebs_SOH_SUL_STATE     43070 non-null   float32\n",
      " 17  bcm_12VBatterySOC         43131 non-null   float32\n",
      " 18  dcdc_realOutputVoltage    432919 non-null  float32\n",
      " 19  dcdc_realOutputCurrent    432919 non-null  float32\n",
      " 20  DCDC_AlerState            432919 non-null  float32\n",
      " 21  DCDC_OutPwr               422022 non-null  float32\n",
      " 22  DCDC_MaxPwrTime           422022 non-null  float32\n",
      " 23  vcu_dcdc_enable           405740 non-null  float32\n",
      " 24  vcu_dcdc_voltageReq       405740 non-null  float32\n",
      " 25  DCDC_MCU_HVIL_Warning     432919 non-null  float32\n",
      " 26  DCDC_BMS_HVIL_Warning     432919 non-null  float32\n",
      " 27  DCDC_HV_InterlockStatus1  432919 non-null  float32\n",
      " 28  DCDC_HV_InterlockStatus   432919 non-null  float32\n",
      " 29  dcdc_systemStatus         432919 non-null  float32\n",
      " 30  dcdc_deratingStatus       432919 non-null  float32\n",
      " 31  dcdc_realTemperature      432919 non-null  float32\n",
      " 32  BCM_EBSHvoffset           43131 non-null   float32\n",
      " 33  bcm_pepsPowerMode         43131 non-null   float32\n",
      " 34  bms_iLimitDrive           405740 non-null  float32\n",
      " 35  bms_iLimitRegen           405740 non-null  float32\n",
      " 36  bms_pLimitDrive           405740 non-null  float32\n",
      " 37  bms_pLimitRegen           405740 non-null  float32\n",
      " 38  bcm_HvOnRequest           43131 non-null   float32\n",
      "dtypes: float32(33), int64(1), object(5)\n",
      "memory usage: 74.3+ MB\n"
     ]
    }
   ],
   "source": [
    "data_raw = pd.read_parquet(\"vhrdata\").drop_duplicates(subset=None, keep='last', inplace=False)\n",
    "drop_columns = [\"ebs_Q_Charge\", \"ebs_Q_Discharge\", \"BCM_ebs_I_BATT\", \"dcdc_OverTemperature\",\"IC_LowBatteryvoltage\", \"DCDC_realInputVoltage\", \"DCDC_realInputCurrent\"]\n",
    "data_raw = data_raw.drop(columns=drop_columns)\n",
    "data_raw.info()"
   ],
   "metadata": {
    "collapsed": false,
    "ExecuteTime": {
     "start_time": "2023-04-25T18:23:42.786714Z",
     "end_time": "2023-04-25T18:23:43.782253Z"
    }
   }
  },
  {
   "cell_type": "code",
   "execution_count": null,
   "outputs": [],
   "source": [
    "data_raw.head(20)"
   ],
   "metadata": {
    "collapsed": false,
    "ExecuteTime": {
     "start_time": "2023-04-20T10:24:20.116348Z",
     "end_time": "2023-04-20T10:24:20.151609Z"
    }
   }
  },
  {
   "cell_type": "code",
   "execution_count": 13,
   "outputs": [
    {
     "name": "stdout",
     "output_type": "stream",
     "text": [
      "<class 'pandas.core.frame.DataFrame'>\n",
      "Index: 13220 entries, 316793 to 151530\n",
      "Data columns (total 39 columns):\n",
      " #   Column                    Non-Null Count  Dtype  \n",
      "---  ------                    --------------  -----  \n",
      " 0   vin                       13220 non-null  object \n",
      " 1   collect_ts                13220 non-null  int64  \n",
      " 2   uuid                      13220 non-null  object \n",
      " 3   model_name                13220 non-null  object \n",
      " 4   series_code               13220 non-null  object \n",
      " 5   msg_create_time           13220 non-null  object \n",
      " 6   vcu_VehicleMode           13220 non-null  float32\n",
      " 7   vcu_vehicleSpeed          13220 non-null  float32\n",
      " 8   VCU_VehicleSpeedValid     13220 non-null  float32\n",
      " 9   vcu_state                 13220 non-null  float32\n",
      " 10  bms_SOC                   13220 non-null  float32\n",
      " 11  bms_state                 13220 non-null  float32\n",
      " 12  BCM_ebs_U_BATT            13211 non-null  float32\n",
      " 13  BCM_ebs_SOC               13211 non-null  float32\n",
      " 14  BCM_ebs_SOH_SUL           13211 non-null  float32\n",
      " 15  BCM_ebs_SOC_STATE         13211 non-null  float32\n",
      " 16  BCM_ebs_SOH_SUL_STATE     13211 non-null  float32\n",
      " 17  bcm_12VBatterySOC         13211 non-null  float32\n",
      " 18  dcdc_realOutputVoltage    13220 non-null  float32\n",
      " 19  dcdc_realOutputCurrent    13220 non-null  float32\n",
      " 20  DCDC_AlerState            13220 non-null  float32\n",
      " 21  DCDC_OutPwr               13220 non-null  float32\n",
      " 22  DCDC_MaxPwrTime           13220 non-null  float32\n",
      " 23  vcu_dcdc_enable           13220 non-null  float32\n",
      " 24  vcu_dcdc_voltageReq       13220 non-null  float32\n",
      " 25  DCDC_MCU_HVIL_Warning     13220 non-null  float32\n",
      " 26  DCDC_BMS_HVIL_Warning     13220 non-null  float32\n",
      " 27  DCDC_HV_InterlockStatus1  13220 non-null  float32\n",
      " 28  DCDC_HV_InterlockStatus   13220 non-null  float32\n",
      " 29  dcdc_systemStatus         13220 non-null  float32\n",
      " 30  dcdc_deratingStatus       13220 non-null  float32\n",
      " 31  dcdc_realTemperature      13220 non-null  float32\n",
      " 32  BCM_EBSHvoffset           13211 non-null  float32\n",
      " 33  bcm_pepsPowerMode         13211 non-null  float32\n",
      " 34  bms_iLimitDrive           13220 non-null  float32\n",
      " 35  bms_iLimitRegen           13220 non-null  float32\n",
      " 36  bms_pLimitDrive           13220 non-null  float32\n",
      " 37  bms_pLimitRegen           13220 non-null  float32\n",
      " 38  bcm_HvOnRequest           13211 non-null  float32\n",
      "dtypes: float32(33), int64(1), object(5)\n",
      "memory usage: 2.4+ MB\n"
     ]
    }
   ],
   "source": [
    "# 填充操作\n",
    "data= data_raw[data_raw.vin == 'LM8F7D792NA012370'].fillna(method='ffill').sort_values(by=\"collect_ts\")\n",
    "data.info()"
   ],
   "metadata": {
    "collapsed": false,
    "ExecuteTime": {
     "start_time": "2023-04-25T18:26:20.955548Z",
     "end_time": "2023-04-25T18:26:20.998605Z"
    }
   }
  },
  {
   "cell_type": "code",
   "execution_count": 14,
   "outputs": [
    {
     "name": "stdout",
     "output_type": "stream",
     "text": [
      "<class 'pandas.core.frame.DataFrame'>\n",
      "Index: 13211 entries, 316793 to 151530\n",
      "Data columns (total 39 columns):\n",
      " #   Column                    Non-Null Count  Dtype  \n",
      "---  ------                    --------------  -----  \n",
      " 0   vin                       13211 non-null  object \n",
      " 1   collect_ts                13211 non-null  int64  \n",
      " 2   uuid                      13211 non-null  object \n",
      " 3   model_name                13211 non-null  object \n",
      " 4   series_code               13211 non-null  object \n",
      " 5   msg_create_time           13211 non-null  object \n",
      " 6   vcu_VehicleMode           13211 non-null  float32\n",
      " 7   vcu_vehicleSpeed          13211 non-null  float32\n",
      " 8   VCU_VehicleSpeedValid     13211 non-null  float32\n",
      " 9   vcu_state                 13211 non-null  float32\n",
      " 10  bms_SOC                   13211 non-null  float32\n",
      " 11  bms_state                 13211 non-null  float32\n",
      " 12  BCM_ebs_U_BATT            13211 non-null  float32\n",
      " 13  BCM_ebs_SOC               13211 non-null  float32\n",
      " 14  BCM_ebs_SOH_SUL           13211 non-null  float32\n",
      " 15  BCM_ebs_SOC_STATE         13211 non-null  float32\n",
      " 16  BCM_ebs_SOH_SUL_STATE     13211 non-null  float32\n",
      " 17  bcm_12VBatterySOC         13211 non-null  float32\n",
      " 18  dcdc_realOutputVoltage    13211 non-null  float32\n",
      " 19  dcdc_realOutputCurrent    13211 non-null  float32\n",
      " 20  DCDC_AlerState            13211 non-null  float32\n",
      " 21  DCDC_OutPwr               13211 non-null  float32\n",
      " 22  DCDC_MaxPwrTime           13211 non-null  float32\n",
      " 23  vcu_dcdc_enable           13211 non-null  float32\n",
      " 24  vcu_dcdc_voltageReq       13211 non-null  float32\n",
      " 25  DCDC_MCU_HVIL_Warning     13211 non-null  float32\n",
      " 26  DCDC_BMS_HVIL_Warning     13211 non-null  float32\n",
      " 27  DCDC_HV_InterlockStatus1  13211 non-null  float32\n",
      " 28  DCDC_HV_InterlockStatus   13211 non-null  float32\n",
      " 29  dcdc_systemStatus         13211 non-null  float32\n",
      " 30  dcdc_deratingStatus       13211 non-null  float32\n",
      " 31  dcdc_realTemperature      13211 non-null  float32\n",
      " 32  BCM_EBSHvoffset           13211 non-null  float32\n",
      " 33  bcm_pepsPowerMode         13211 non-null  float32\n",
      " 34  bms_iLimitDrive           13211 non-null  float32\n",
      " 35  bms_iLimitRegen           13211 non-null  float32\n",
      " 36  bms_pLimitDrive           13211 non-null  float32\n",
      " 37  bms_pLimitRegen           13211 non-null  float32\n",
      " 38  bcm_HvOnRequest           13211 non-null  float32\n",
      "dtypes: float32(33), int64(1), object(5)\n",
      "memory usage: 2.4+ MB\n"
     ]
    }
   ],
   "source": [
    "data = data[(data[\"BCM_ebs_U_BATT\"] > 3.) & (data[\"BCM_ebs_U_BATT\"] < 18.)]\n",
    "data.info()"
   ],
   "metadata": {
    "collapsed": false,
    "ExecuteTime": {
     "start_time": "2023-04-25T18:26:26.763294Z",
     "end_time": "2023-04-25T18:26:26.778696Z"
    }
   }
  },
  {
   "cell_type": "code",
   "execution_count": null,
   "outputs": [],
   "source": [],
   "metadata": {
    "collapsed": false,
    "ExecuteTime": {
     "start_time": "2023-04-20T11:10:08.060933Z",
     "end_time": "2023-04-20T11:10:08.072016Z"
    }
   }
  },
  {
   "cell_type": "code",
   "execution_count": null,
   "outputs": [],
   "source": [
    "pd.DataFrame(data[\"BCM_ebs_U_BATT\"].value_counts()).sort_values(by='BCM_ebs_U_BATT')"
   ],
   "metadata": {
    "collapsed": false,
    "ExecuteTime": {
     "start_time": "2023-04-20T10:33:02.180639Z",
     "end_time": "2023-04-20T10:33:02.191582Z"
    }
   }
  },
  {
   "cell_type": "code",
   "execution_count": null,
   "outputs": [],
   "source": [
    "import matplotlib.pyplot as plt\n",
    "data[(data[\"BCM_ebs_U_BATT\"] > 3.) & (data[\"BCM_ebs_U_BATT\"] < 11.)].BCM_ebs_U_BATT.hist(bins=12, figsize=(5,3))\n",
    "plt.show()"
   ],
   "metadata": {
    "collapsed": false,
    "ExecuteTime": {
     "start_time": "2023-04-20T10:33:47.180721Z",
     "end_time": "2023-04-20T10:33:47.315984Z"
    }
   }
  },
  {
   "cell_type": "code",
   "execution_count": null,
   "outputs": [],
   "source": [
    "data_copy = data.copy()\n",
    "\n",
    "data_copy['date'] = pd.to_datetime(data_copy[\"collect_ts\"], unit='ms')\n",
    "\n",
    "data_copy = data_copy.set_index(\"date\")\n",
    "data_copy"
   ],
   "metadata": {
    "collapsed": false,
    "ExecuteTime": {
     "start_time": "2023-04-25T18:26:37.230363Z",
     "end_time": "2023-04-25T18:26:37.266910Z"
    }
   }
  },
  {
   "cell_type": "code",
   "execution_count": 29,
   "outputs": [
    {
     "data": {
      "text/plain": "<Figure size 1500x300 with 1 Axes>",
      "image/png": "[encoded data removed]"
     },
     "metadata": {},
     "output_type": "display_data"
    }
   ],
   "source": [
    "import matplotlib.pyplot as plt\n",
    "\n",
    "data_copy[\"2023-04-16 05:00:00\":\"2023-04-19 21:00:00\"][[\"BCM_ebs_U_BATT\", \"dcdc_realOutputVoltage\"]].plot(grid=True, marker=\".\", figsize=(15, 3))\n",
    "\n",
    "# extra code – saves the figure for the book\n",
    "plt.show()"
   ],
   "metadata": {
    "collapsed": false,
    "ExecuteTime": {
     "start_time": "2023-04-25T18:31:16.458777Z",
     "end_time": "2023-04-25T18:31:16.660978Z"
    }
   }
  },
  {
   "cell_type": "code",
   "execution_count": 19,
   "outputs": [
    {
     "ename": "KeyError",
     "evalue": "\"None of [Index(['esc_vehicleSpeed'], dtype='object')] are in the [columns]\"",
     "output_type": "error",
     "traceback": [
      "\u001B[1;31m---------------------------------------------------------------------------\u001B[0m",
      "\u001B[1;31mKeyError\u001B[0m                                  Traceback (most recent call last)",
      "Cell \u001B[1;32mIn[19], line 3\u001B[0m\n\u001B[0;32m      1\u001B[0m \u001B[38;5;28;01mimport\u001B[39;00m \u001B[38;5;21;01mmatplotlib\u001B[39;00m\u001B[38;5;21;01m.\u001B[39;00m\u001B[38;5;21;01mpyplot\u001B[39;00m \u001B[38;5;28;01mas\u001B[39;00m \u001B[38;5;21;01mplt\u001B[39;00m\n\u001B[1;32m----> 3\u001B[0m \u001B[43mdata_copy\u001B[49m\u001B[43m[\u001B[49m\u001B[38;5;124;43m\"\u001B[39;49m\u001B[38;5;124;43m2023-04-15 00:50:00\u001B[39;49m\u001B[38;5;124;43m\"\u001B[39;49m\u001B[43m:\u001B[49m\u001B[38;5;124;43m\"\u001B[39;49m\u001B[38;5;124;43m2023-04-17 00:00:00\u001B[39;49m\u001B[38;5;124;43m\"\u001B[39;49m\u001B[43m]\u001B[49m\u001B[43m[\u001B[49m\u001B[43m[\u001B[49m\u001B[38;5;124;43m\"\u001B[39;49m\u001B[38;5;124;43mesc_vehicleSpeed\u001B[39;49m\u001B[38;5;124;43m\"\u001B[39;49m\u001B[43m]\u001B[49m\u001B[43m]\u001B[49m\u001B[38;5;241m.\u001B[39mplot(grid\u001B[38;5;241m=\u001B[39m\u001B[38;5;28;01mTrue\u001B[39;00m, marker\u001B[38;5;241m=\u001B[39m\u001B[38;5;124m\"\u001B[39m\u001B[38;5;124m.\u001B[39m\u001B[38;5;124m\"\u001B[39m, figsize\u001B[38;5;241m=\u001B[39m(\u001B[38;5;241m15\u001B[39m, \u001B[38;5;241m3\u001B[39m))\n\u001B[0;32m      5\u001B[0m data_copy[\u001B[38;5;124m\"\u001B[39m\u001B[38;5;124m2023-04-15 00:50:00\u001B[39m\u001B[38;5;124m\"\u001B[39m:\u001B[38;5;124m\"\u001B[39m\u001B[38;5;124m2023-04-17 00:00:00\u001B[39m\u001B[38;5;124m\"\u001B[39m][[\u001B[38;5;124m\"\u001B[39m\u001B[38;5;124mvcu_vehicleSpeed\u001B[39m\u001B[38;5;124m\"\u001B[39m]]\u001B[38;5;241m.\u001B[39mplot(grid\u001B[38;5;241m=\u001B[39m\u001B[38;5;28;01mTrue\u001B[39;00m, marker\u001B[38;5;241m=\u001B[39m\u001B[38;5;124m\"\u001B[39m\u001B[38;5;124m.\u001B[39m\u001B[38;5;124m\"\u001B[39m, figsize\u001B[38;5;241m=\u001B[39m(\u001B[38;5;241m15\u001B[39m, \u001B[38;5;241m3\u001B[39m))\n\u001B[0;32m      7\u001B[0m data_copy[\u001B[38;5;124m\"\u001B[39m\u001B[38;5;124m2023-04-15 00:50:00\u001B[39m\u001B[38;5;124m\"\u001B[39m:\u001B[38;5;124m\"\u001B[39m\u001B[38;5;124m2023-04-17 00:00:00\u001B[39m\u001B[38;5;124m\"\u001B[39m][[\u001B[38;5;124m\"\u001B[39m\u001B[38;5;124mbms_SOC\u001B[39m\u001B[38;5;124m\"\u001B[39m]]\u001B[38;5;241m.\u001B[39mplot(grid\u001B[38;5;241m=\u001B[39m\u001B[38;5;28;01mTrue\u001B[39;00m, marker\u001B[38;5;241m=\u001B[39m\u001B[38;5;124m\"\u001B[39m\u001B[38;5;124m.\u001B[39m\u001B[38;5;124m\"\u001B[39m, figsize\u001B[38;5;241m=\u001B[39m(\u001B[38;5;241m15\u001B[39m, \u001B[38;5;241m3\u001B[39m))\n",
      "File \u001B[1;32mD:\\anaconda3\\envs\\sklearn\\Lib\\site-packages\\pandas\\core\\frame.py:3766\u001B[0m, in \u001B[0;36mDataFrame.__getitem__\u001B[1;34m(self, key)\u001B[0m\n\u001B[0;32m   3764\u001B[0m     \u001B[38;5;28;01mif\u001B[39;00m is_iterator(key):\n\u001B[0;32m   3765\u001B[0m         key \u001B[38;5;241m=\u001B[39m \u001B[38;5;28mlist\u001B[39m(key)\n\u001B[1;32m-> 3766\u001B[0m     indexer \u001B[38;5;241m=\u001B[39m \u001B[38;5;28;43mself\u001B[39;49m\u001B[38;5;241;43m.\u001B[39;49m\u001B[43mcolumns\u001B[49m\u001B[38;5;241;43m.\u001B[39;49m\u001B[43m_get_indexer_strict\u001B[49m\u001B[43m(\u001B[49m\u001B[43mkey\u001B[49m\u001B[43m,\u001B[49m\u001B[43m \u001B[49m\u001B[38;5;124;43m\"\u001B[39;49m\u001B[38;5;124;43mcolumns\u001B[39;49m\u001B[38;5;124;43m\"\u001B[39;49m\u001B[43m)\u001B[49m[\u001B[38;5;241m1\u001B[39m]\n\u001B[0;32m   3768\u001B[0m \u001B[38;5;66;03m# take() does not accept boolean indexers\u001B[39;00m\n\u001B[0;32m   3769\u001B[0m \u001B[38;5;28;01mif\u001B[39;00m \u001B[38;5;28mgetattr\u001B[39m(indexer, \u001B[38;5;124m\"\u001B[39m\u001B[38;5;124mdtype\u001B[39m\u001B[38;5;124m\"\u001B[39m, \u001B[38;5;28;01mNone\u001B[39;00m) \u001B[38;5;241m==\u001B[39m \u001B[38;5;28mbool\u001B[39m:\n",
      "File \u001B[1;32mD:\\anaconda3\\envs\\sklearn\\Lib\\site-packages\\pandas\\core\\indexes\\base.py:5876\u001B[0m, in \u001B[0;36mIndex._get_indexer_strict\u001B[1;34m(self, key, axis_name)\u001B[0m\n\u001B[0;32m   5873\u001B[0m \u001B[38;5;28;01melse\u001B[39;00m:\n\u001B[0;32m   5874\u001B[0m     keyarr, indexer, new_indexer \u001B[38;5;241m=\u001B[39m \u001B[38;5;28mself\u001B[39m\u001B[38;5;241m.\u001B[39m_reindex_non_unique(keyarr)\n\u001B[1;32m-> 5876\u001B[0m \u001B[38;5;28;43mself\u001B[39;49m\u001B[38;5;241;43m.\u001B[39;49m\u001B[43m_raise_if_missing\u001B[49m\u001B[43m(\u001B[49m\u001B[43mkeyarr\u001B[49m\u001B[43m,\u001B[49m\u001B[43m \u001B[49m\u001B[43mindexer\u001B[49m\u001B[43m,\u001B[49m\u001B[43m \u001B[49m\u001B[43maxis_name\u001B[49m\u001B[43m)\u001B[49m\n\u001B[0;32m   5878\u001B[0m keyarr \u001B[38;5;241m=\u001B[39m \u001B[38;5;28mself\u001B[39m\u001B[38;5;241m.\u001B[39mtake(indexer)\n\u001B[0;32m   5879\u001B[0m \u001B[38;5;28;01mif\u001B[39;00m \u001B[38;5;28misinstance\u001B[39m(key, Index):\n\u001B[0;32m   5880\u001B[0m     \u001B[38;5;66;03m# GH 42790 - Preserve name from an Index\u001B[39;00m\n",
      "File \u001B[1;32mD:\\anaconda3\\envs\\sklearn\\Lib\\site-packages\\pandas\\core\\indexes\\base.py:5935\u001B[0m, in \u001B[0;36mIndex._raise_if_missing\u001B[1;34m(self, key, indexer, axis_name)\u001B[0m\n\u001B[0;32m   5933\u001B[0m     \u001B[38;5;28;01mif\u001B[39;00m use_interval_msg:\n\u001B[0;32m   5934\u001B[0m         key \u001B[38;5;241m=\u001B[39m \u001B[38;5;28mlist\u001B[39m(key)\n\u001B[1;32m-> 5935\u001B[0m     \u001B[38;5;28;01mraise\u001B[39;00m \u001B[38;5;167;01mKeyError\u001B[39;00m(\u001B[38;5;124mf\u001B[39m\u001B[38;5;124m\"\u001B[39m\u001B[38;5;124mNone of [\u001B[39m\u001B[38;5;132;01m{\u001B[39;00mkey\u001B[38;5;132;01m}\u001B[39;00m\u001B[38;5;124m] are in the [\u001B[39m\u001B[38;5;132;01m{\u001B[39;00maxis_name\u001B[38;5;132;01m}\u001B[39;00m\u001B[38;5;124m]\u001B[39m\u001B[38;5;124m\"\u001B[39m)\n\u001B[0;32m   5937\u001B[0m not_found \u001B[38;5;241m=\u001B[39m \u001B[38;5;28mlist\u001B[39m(ensure_index(key)[missing_mask\u001B[38;5;241m.\u001B[39mnonzero()[\u001B[38;5;241m0\u001B[39m]]\u001B[38;5;241m.\u001B[39munique())\n\u001B[0;32m   5938\u001B[0m \u001B[38;5;28;01mraise\u001B[39;00m \u001B[38;5;167;01mKeyError\u001B[39;00m(\u001B[38;5;124mf\u001B[39m\u001B[38;5;124m\"\u001B[39m\u001B[38;5;132;01m{\u001B[39;00mnot_found\u001B[38;5;132;01m}\u001B[39;00m\u001B[38;5;124m not in index\u001B[39m\u001B[38;5;124m\"\u001B[39m)\n",
      "\u001B[1;31mKeyError\u001B[0m: \"None of [Index(['esc_vehicleSpeed'], dtype='object')] are in the [columns]\""
     ]
    }
   ],
   "source": [
    "import matplotlib.pyplot as plt\n",
    "\n",
    "data_copy[\"2023-04-15 00:50:00\":\"2023-04-17 00:00:00\"][[\"esc_vehicleSpeed\"]].plot(grid=True, marker=\".\", figsize=(15, 3))\n",
    "\n",
    "data_copy[\"2023-04-15 00:50:00\":\"2023-04-17 00:00:00\"][[\"vcu_vehicleSpeed\"]].plot(grid=True, marker=\".\", figsize=(15, 3))\n",
    "\n",
    "data_copy[\"2023-04-15 00:50:00\":\"2023-04-17 00:00:00\"][[\"bms_SOC\"]].plot(grid=True, marker=\".\", figsize=(15, 3))\n",
    "# extra code – saves the figure for the book\n",
    "plt.show()"
   ],
   "metadata": {
    "collapsed": false,
    "ExecuteTime": {
     "start_time": "2023-04-20T11:26:43.212444Z",
     "end_time": "2023-04-20T11:26:44.824518Z"
    }
   }
  },
  {
   "cell_type": "code",
   "execution_count": null,
   "outputs": [],
   "source": [],
   "metadata": {
    "collapsed": false
   }
  }
 ],
 "metadata": {
  "kernelspec": {
   "display_name": "Python 3",
   "language": "python",
   "name": "python3"
  },
  "language_info": {
   "codemirror_mode": {
    "name": "ipython",
    "version": 2
   },
   "file_extension": ".py",
   "mimetype": "text/x-python",
   "name": "python",
   "nbconvert_exporter": "python",
   "pygments_lexer": "ipython2",
   "version": "2.7.6"
  }
 },
 "nbformat": 4,
 "nbformat_minor": 0
}
