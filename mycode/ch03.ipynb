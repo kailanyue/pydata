{
 "cells": [
  {
   "cell_type": "markdown",
   "source": [
    "1. 用tuple可以将任意序列或迭代器转换成元组\n",
    "2. 元组乘以一个整数，像列表一样，会将几个元组的复制串联起来\n",
    "3. 变量拆分常用来迭代元组或列表序列：\n",
    "4. 允许从元组的开头“摘取”几个元素。它使用了特殊的语法*rest，这也用在函数签名中以抓取任意长度列表的位置参数："
   ],
   "metadata": {
    "collapsed": false
   }
  },
  {
   "cell_type": "code",
   "execution_count": 1,
   "metadata": {
    "collapsed": true,
    "ExecuteTime": {
     "start_time": "2023-04-13T23:31:30.151899Z",
     "end_time": "2023-04-13T23:31:30.156996Z"
    }
   },
   "outputs": [
    {
     "data": {
      "text/plain": "('s', 't', 'r', 'i', 'n', 'g')"
     },
     "execution_count": 1,
     "metadata": {},
     "output_type": "execute_result"
    }
   ],
   "source": [
    "tup = tuple('string')\n",
    "tup"
   ]
  },
  {
   "cell_type": "code",
   "execution_count": 2,
   "outputs": [
    {
     "data": {
      "text/plain": "('foo', 'bar', 'foo', 'bar', 'foo', 'bar', 'foo', 'bar')"
     },
     "execution_count": 2,
     "metadata": {},
     "output_type": "execute_result"
    }
   ],
   "source": [
    "('foo', 'bar') * 4"
   ],
   "metadata": {
    "collapsed": false,
    "ExecuteTime": {
     "start_time": "2023-04-13T23:32:13.780547Z",
     "end_time": "2023-04-13T23:32:13.791635Z"
    }
   }
  },
  {
   "cell_type": "code",
   "execution_count": 5,
   "outputs": [
    {
     "name": "stdout",
     "output_type": "stream",
     "text": [
      "a=1, b=2, c=3\n",
      "a=4, b=5, c=6\n",
      "a=7, b=8, c=9\n"
     ]
    }
   ],
   "source": [
    "seq = [(1, 2, 3), (4, 5, 6), (7, 8, 9)]\n",
    "for a, b, c in seq:\n",
    "    print(f'a={a}, b={b}, c={c}')"
   ],
   "metadata": {
    "collapsed": false,
    "ExecuteTime": {
     "start_time": "2023-04-13T23:33:14.736856Z",
     "end_time": "2023-04-13T23:33:14.754849Z"
    }
   }
  },
  {
   "cell_type": "code",
   "execution_count": 4,
   "outputs": [
    {
     "name": "stdout",
     "output_type": "stream",
     "text": [
      "1 2\n",
      "3 4 5\n"
     ]
    }
   ],
   "source": [
    "values = 1, 2, 3, 4, 5\n",
    "a, b, *_ = values\n",
    "print(a, b)\n",
    "print(*_)"
   ],
   "metadata": {
    "collapsed": false,
    "ExecuteTime": {
     "start_time": "2023-04-13T23:33:01.786594Z",
     "end_time": "2023-04-13T23:33:01.796466Z"
    }
   }
  },
  {
   "cell_type": "markdown",
   "source": [
    "1. 使用 append 和 insert 追加和插入元素，使用 pop 删除元素\n",
    "2. 可以用remove去除某个值，remove会先寻找第一个值并除去\n",
    "3. 用in可以检查列表是否包含某个值\n",
    "4. 如果已经定义了一个列表，用extend方法可以追加多个元素"
   ],
   "metadata": {
    "collapsed": false
   }
  },
  {
   "cell_type": "code",
   "execution_count": 9,
   "outputs": [
    {
     "name": "stdout",
     "output_type": "stream",
     "text": [
      "peekaboo\n",
      "['foo', 'red', 'baz', 'dwarf']\n"
     ]
    }
   ],
   "source": [
    "b_list = ['foo', 'red', 'peekaboo', 'baz', 'dwarf']\n",
    "print(b_list.pop(2))\n",
    "print(b_list)"
   ],
   "metadata": {
    "collapsed": false,
    "ExecuteTime": {
     "start_time": "2023-04-13T23:36:27.751285Z",
     "end_time": "2023-04-13T23:36:27.751896Z"
    }
   }
  },
  {
   "cell_type": "code",
   "execution_count": 12,
   "outputs": [
    {
     "data": {
      "text/plain": "['red', 'baz', 'dwarf']"
     },
     "execution_count": 12,
     "metadata": {},
     "output_type": "execute_result"
    }
   ],
   "source": [
    "b_list"
   ],
   "metadata": {
    "collapsed": false,
    "ExecuteTime": {
     "start_time": "2023-04-13T23:38:48.225366Z",
     "end_time": "2023-04-13T23:38:48.232700Z"
    }
   }
  },
  {
   "cell_type": "code",
   "execution_count": 16,
   "outputs": [
    {
     "name": "stdout",
     "output_type": "stream",
     "text": [
      "['abc', 'red', 'baz', 'dwarf', '12', 'abc']\n",
      "['red', 'baz', 'dwarf', '12', 'abc']\n",
      "['red', 'baz', 'dwarf', '12']\n"
     ]
    }
   ],
   "source": [
    "b_list.append('abc')\n",
    "b_list.insert(0, 'abc')\n",
    "print(b_list)\n",
    "b_list.remove('abc')\n",
    "print(b_list)\n",
    "b_list.remove('abc')\n",
    "print(b_list)"
   ],
   "metadata": {
    "collapsed": false,
    "ExecuteTime": {
     "start_time": "2023-04-13T23:40:31.264367Z",
     "end_time": "2023-04-13T23:40:31.273060Z"
    }
   }
  },
  {
   "cell_type": "markdown",
   "source": [
    "1. 用sort函数将一个列表原地排序（不创建新的对象）\n",
    "2. 用sorted函数，它可以产生一个排好序的序列副本"
   ],
   "metadata": {
    "collapsed": false
   }
  },
  {
   "cell_type": "code",
   "execution_count": 18,
   "outputs": [
    {
     "data": {
      "text/plain": "[1, 2, 3, 5, 7]"
     },
     "execution_count": 18,
     "metadata": {},
     "output_type": "execute_result"
    }
   ],
   "source": [
    "a = [7, 2, 5, 1, 3]\n",
    "a.sort()\n",
    "a"
   ],
   "metadata": {
    "collapsed": false,
    "ExecuteTime": {
     "start_time": "2023-04-13T23:55:55.610504Z",
     "end_time": "2023-04-13T23:55:55.650761Z"
    }
   }
  },
  {
   "cell_type": "code",
   "execution_count": 19,
   "outputs": [
    {
     "data": {
      "text/plain": "['He', 'saw', 'six', 'small', 'foxes']"
     },
     "execution_count": 19,
     "metadata": {},
     "output_type": "execute_result"
    }
   ],
   "source": [
    "b = ['saw', 'small', 'He', 'foxes', 'six']\n",
    "b.sort(key=len)\n",
    "b"
   ],
   "metadata": {
    "collapsed": false,
    "ExecuteTime": {
     "start_time": "2023-04-13T23:56:42.651004Z",
     "end_time": "2023-04-13T23:56:42.695965Z"
    }
   }
  },
  {
   "cell_type": "markdown",
   "source": [
    "1. 字典可能是Python最为重要的数据结构。它更为常见的名字是哈希映射或关联数组\n",
    "2. 可以用del关键字或pop方法（返回值的同时删除键）删除值\n",
    "3. 你可能想将两个序列配对组合成字典。下面是一种写法："
   ],
   "metadata": {
    "collapsed": false
   }
  },
  {
   "cell_type": "code",
   "execution_count": null,
   "outputs": [],
   "source": [
    "# mapping = {}\n",
    "# for key, value in zip(key_list, value_list):\n",
    "#     mapping[key] = value"
   ],
   "metadata": {
    "collapsed": false
   }
  },
  {
   "cell_type": "code",
   "execution_count": 20,
   "outputs": [
    {
     "data": {
      "text/plain": "{0: 4, 1: 3, 2: 2, 3: 1, 4: 0}"
     },
     "execution_count": 20,
     "metadata": {},
     "output_type": "execute_result"
    }
   ],
   "source": [
    "tuples = zip(range(5), reversed(range(5)))\n",
    "mapping = dict(tuples)\n",
    "mapping"
   ],
   "metadata": {
    "collapsed": false,
    "ExecuteTime": {
     "start_time": "2023-04-14T00:03:04.030733Z",
     "end_time": "2023-04-14T00:03:04.068704Z"
    }
   }
  },
  {
   "cell_type": "code",
   "execution_count": 21,
   "outputs": [
    {
     "data": {
      "text/plain": "{'a': ['apple', 'atom'], 'b': ['bat', 'bar', 'book']}"
     },
     "execution_count": 21,
     "metadata": {},
     "output_type": "execute_result"
    }
   ],
   "source": [
    "words = [\"apple\", \"bat\", \"bar\", \"atom\", \"book\"]\n",
    "\n",
    "by_letter = {}\n",
    "\n",
    "for word in words:\n",
    "    letter = word[0]\n",
    "    if letter not in by_letter:\n",
    "        by_letter[letter] = [word]\n",
    "    else:\n",
    "        by_letter[letter].append(word)\n",
    "\n",
    "by_letter"
   ],
   "metadata": {
    "collapsed": false,
    "ExecuteTime": {
     "start_time": "2023-04-14T00:06:21.565817Z",
     "end_time": "2023-04-14T00:06:21.569978Z"
    }
   }
  },
  {
   "cell_type": "code",
   "execution_count": 22,
   "outputs": [
    {
     "data": {
      "text/plain": "{'a': ['apple', 'atom'], 'b': ['bat', 'bar', 'book']}"
     },
     "execution_count": 22,
     "metadata": {},
     "output_type": "execute_result"
    }
   ],
   "source": [
    "words = [\"apple\", \"bat\", \"bar\", \"atom\", \"book\"]\n",
    "\n",
    "by_letter = {}\n",
    "\n",
    "for word in words:\n",
    "    letter = word[0]\n",
    "    by_letter.setdefault(letter, []).append(word)\n",
    "\n",
    "by_letter"
   ],
   "metadata": {
    "collapsed": false,
    "ExecuteTime": {
     "start_time": "2023-04-14T00:07:56.164670Z",
     "end_time": "2023-04-14T00:07:56.175734Z"
    }
   }
  },
  {
   "cell_type": "markdown",
   "source": [
    "![](https://camo.githubusercontent.com/b0279a887c3361fb7dc6b73807abc703c211449115081a3cfcdfffcdaf49559f/687474703a2f2f75706c6f61642d696d616765732e6a69616e7368752e696f2f75706c6f61645f696d616765732f373137383639312d393830656665356439386563633464362e706e673f696d6167654d6f6772322f6175746f2d6f7269656e742f7374726970253743696d61676556696577322f322f772f31323430)\n"
   ],
   "metadata": {
    "collapsed": false
   }
  },
  {
   "cell_type": "markdown",
   "source": [
    "列表、集合和字典推导式\n",
    "1. 列表推导 `[expr for val in collection if condition]`\n",
    "2. 集合推导 `{key-expr : value-expr for value in collection if condition}`\n"
   ],
   "metadata": {
    "collapsed": false
   }
  },
  {
   "cell_type": "code",
   "execution_count": 24,
   "outputs": [],
   "source": [
    "strings = ['a', 'as', 'bat', 'car', 'dove', 'python']"
   ],
   "metadata": {
    "collapsed": false,
    "ExecuteTime": {
     "start_time": "2023-04-14T00:20:15.323796Z",
     "end_time": "2023-04-14T00:20:15.329130Z"
    }
   }
  },
  {
   "cell_type": "code",
   "execution_count": 25,
   "outputs": [
    {
     "data": {
      "text/plain": "['BAT', 'CAR', 'DOVE', 'PYTHON']"
     },
     "execution_count": 25,
     "metadata": {},
     "output_type": "execute_result"
    }
   ],
   "source": [
    "[x.upper() for x in strings if len(x) > 2]"
   ],
   "metadata": {
    "collapsed": false,
    "ExecuteTime": {
     "start_time": "2023-04-14T00:21:16.027818Z",
     "end_time": "2023-04-14T00:21:16.047885Z"
    }
   }
  },
  {
   "cell_type": "code",
   "execution_count": 26,
   "outputs": [
    {
     "data": {
      "text/plain": "{1, 2, 3, 4, 6}"
     },
     "execution_count": 26,
     "metadata": {},
     "output_type": "execute_result"
    }
   ],
   "source": [
    "{len(x) for x in strings}"
   ],
   "metadata": {
    "collapsed": false,
    "ExecuteTime": {
     "start_time": "2023-04-14T00:21:40.627850Z",
     "end_time": "2023-04-14T00:21:40.663827Z"
    }
   }
  },
  {
   "cell_type": "code",
   "execution_count": 28,
   "outputs": [
    {
     "data": {
      "text/plain": "{0: 'a', 1: 'as', 2: 'bat', 3: 'car', 4: 'dove', 5: 'python'}"
     },
     "execution_count": 28,
     "metadata": {},
     "output_type": "execute_result"
    }
   ],
   "source": [
    "{key: value for key, value in enumerate(strings)}"
   ],
   "metadata": {
    "collapsed": false,
    "ExecuteTime": {
     "start_time": "2023-04-14T00:23:39.637721Z",
     "end_time": "2023-04-14T00:23:39.657557Z"
    }
   }
  },
  {
   "cell_type": "code",
   "execution_count": 30,
   "outputs": [
    {
     "data": {
      "text/plain": "['Maria', 'Natalia']"
     },
     "execution_count": 30,
     "metadata": {},
     "output_type": "execute_result"
    }
   ],
   "source": [
    "all_data = [[\"John\", \"Emily\", \"Michael\", \"Mary\", \"Steven\"],\n",
    "            [\"Maria\", \"Juan\", \"Javier\", \"Natalia\", \"Pilar\"]]\n",
    "\n",
    "names_of_interest = []\n",
    "\n",
    "# 方法1\n",
    "for names in all_data:\n",
    "    enough_as = [name for name in names if name.count('a') > 1]\n",
    "    names_of_interest.extend(enough_as)\n",
    "\n",
    "names_of_interest"
   ],
   "metadata": {
    "collapsed": false,
    "ExecuteTime": {
     "start_time": "2023-04-14T00:39:40.423547Z",
     "end_time": "2023-04-14T00:39:40.433712Z"
    }
   }
  },
  {
   "cell_type": "code",
   "execution_count": 31,
   "outputs": [
    {
     "data": {
      "text/plain": "['Maria', 'Natalia']"
     },
     "execution_count": 31,
     "metadata": {},
     "output_type": "execute_result"
    }
   ],
   "source": [
    "# for names in all_data 视为一个整体\n",
    "result = [name for names in all_data for name in names if name.count(\"a\") >= 2]\n",
    "\n",
    "result\n"
   ],
   "metadata": {
    "collapsed": false,
    "ExecuteTime": {
     "start_time": "2023-04-14T00:42:45.409687Z",
     "end_time": "2023-04-14T00:42:45.421783Z"
    }
   }
  },
  {
   "cell_type": "markdown",
   "source": [
    "将需要在一组给定字符串上执行的所有运算做成一个列表"
   ],
   "metadata": {
    "collapsed": false
   }
  },
  {
   "cell_type": "code",
   "execution_count": 33,
   "outputs": [],
   "source": [
    "import re\n",
    "\n",
    "\n",
    "def remove_punctuation(value):\n",
    "    return re.sub('[!#?]', \"\", value)\n",
    "\n",
    "\n",
    "clean_ops = [str.strip, remove_punctuation, str.title]\n",
    "\n",
    "\n",
    "def clean_strings(strings, ops):\n",
    "    result = []\n",
    "    for value in strings:\n",
    "        for func in ops:\n",
    "            value = func(value)\n",
    "        result.append(value)\n",
    "    return result"
   ],
   "metadata": {
    "collapsed": false,
    "ExecuteTime": {
     "start_time": "2023-04-14T00:50:32.568062Z",
     "end_time": "2023-04-14T00:50:32.570285Z"
    }
   }
  },
  {
   "cell_type": "code",
   "execution_count": 34,
   "outputs": [
    {
     "data": {
      "text/plain": "['Alabama',\n 'Georgia',\n 'Georgia',\n 'Georgia',\n 'Florida',\n 'South   Carolina',\n 'West Virginia']"
     },
     "execution_count": 34,
     "metadata": {},
     "output_type": "execute_result"
    }
   ],
   "source": [
    "states = [\"   Alabama \", \"Georgia!\", \"Georgia\", \"georgia\", \"FlOrIda\", \"south   carolina##\", \"West virginia?\"]\n",
    "clean_strings(states, clean_ops)"
   ],
   "metadata": {
    "collapsed": false,
    "ExecuteTime": {
     "start_time": "2023-04-14T00:51:15.397656Z",
     "end_time": "2023-04-14T00:51:15.427748Z"
    }
   }
  },
  {
   "cell_type": "markdown",
   "source": [
    "## 生成器\n",
    "生成器（generator）是构造新的可迭代对象的一种简单方式。一般的函数执行之后只会返回单个值，而生成器则是以延迟的方式一个值序列，即每返回一个值之后暂停，直到下一个值被请求时再继续。要创建一个生成器，只需将函数中的return替换为yeild即可\n",
    "\n",
    "生成表达式，把列表推导式两端的方括号改成圆括号：\n"
   ],
   "metadata": {
    "collapsed": false
   }
  },
  {
   "cell_type": "code",
   "execution_count": 35,
   "outputs": [],
   "source": [
    "def squares(n=10):\n",
    "    print('Generating squares from 1 to {0}'.format(n ** 2))\n",
    "    for i in range(1, n + 1):\n",
    "        yield i ** 2"
   ],
   "metadata": {
    "collapsed": false,
    "ExecuteTime": {
     "start_time": "2023-04-14T01:06:32.549380Z",
     "end_time": "2023-04-14T01:06:32.565042Z"
    }
   }
  },
  {
   "cell_type": "code",
   "execution_count": 37,
   "outputs": [],
   "source": [
    "gen = squares()"
   ],
   "metadata": {
    "collapsed": false,
    "ExecuteTime": {
     "start_time": "2023-04-14T01:06:50.764061Z",
     "end_time": "2023-04-14T01:06:50.772088Z"
    }
   }
  },
  {
   "cell_type": "code",
   "execution_count": 38,
   "outputs": [
    {
     "name": "stdout",
     "output_type": "stream",
     "text": [
      "Generating squares from 1 to 100\n"
     ]
    },
    {
     "data": {
      "text/plain": "[1, 4, 9, 16, 25, 36, 49, 64, 81, 100]"
     },
     "execution_count": 38,
     "metadata": {},
     "output_type": "execute_result"
    }
   ],
   "source": [
    "[x for x in gen]"
   ],
   "metadata": {
    "collapsed": false,
    "ExecuteTime": {
     "start_time": "2023-04-14T01:07:12.003106Z",
     "end_time": "2023-04-14T01:07:12.019078Z"
    }
   }
  },
  {
   "cell_type": "code",
   "execution_count": 39,
   "outputs": [],
   "source": [
    "gen = (x ** 2 for x in range(100))"
   ],
   "metadata": {
    "collapsed": false,
    "ExecuteTime": {
     "start_time": "2023-04-14T01:07:49.016174Z",
     "end_time": "2023-04-14T01:07:49.078820Z"
    }
   }
  },
  {
   "cell_type": "code",
   "execution_count": 40,
   "outputs": [
    {
     "data": {
      "text/plain": "[0,\n 1,\n 4,\n 9,\n 16,\n 25,\n 36,\n 49,\n 64,\n 81,\n 100,\n 121,\n 144,\n 169,\n 196,\n 225,\n 256,\n 289,\n 324,\n 361,\n 400,\n 441,\n 484,\n 529,\n 576,\n 625,\n 676,\n 729,\n 784,\n 841,\n 900,\n 961,\n 1024,\n 1089,\n 1156,\n 1225,\n 1296,\n 1369,\n 1444,\n 1521,\n 1600,\n 1681,\n 1764,\n 1849,\n 1936,\n 2025,\n 2116,\n 2209,\n 2304,\n 2401,\n 2500,\n 2601,\n 2704,\n 2809,\n 2916,\n 3025,\n 3136,\n 3249,\n 3364,\n 3481,\n 3600,\n 3721,\n 3844,\n 3969,\n 4096,\n 4225,\n 4356,\n 4489,\n 4624,\n 4761,\n 4900,\n 5041,\n 5184,\n 5329,\n 5476,\n 5625,\n 5776,\n 5929,\n 6084,\n 6241,\n 6400,\n 6561,\n 6724,\n 6889,\n 7056,\n 7225,\n 7396,\n 7569,\n 7744,\n 7921,\n 8100,\n 8281,\n 8464,\n 8649,\n 8836,\n 9025,\n 9216,\n 9409,\n 9604,\n 9801]"
     },
     "execution_count": 40,
     "metadata": {},
     "output_type": "execute_result"
    }
   ],
   "source": [
    "[x for x in gen]"
   ],
   "metadata": {
    "collapsed": false,
    "ExecuteTime": {
     "start_time": "2023-04-14T01:07:53.792705Z",
     "end_time": "2023-04-14T01:07:53.808475Z"
    }
   }
  },
  {
   "cell_type": "code",
   "execution_count": 41,
   "outputs": [
    {
     "data": {
      "text/plain": "328350"
     },
     "execution_count": 41,
     "metadata": {},
     "output_type": "execute_result"
    }
   ],
   "source": [
    "sum(x ** 2 for x in range(100))"
   ],
   "metadata": {
    "collapsed": false,
    "ExecuteTime": {
     "start_time": "2023-04-14T01:08:46.866811Z",
     "end_time": "2023-04-14T01:08:46.882664Z"
    }
   }
  },
  {
   "cell_type": "code",
   "execution_count": 42,
   "outputs": [
    {
     "data": {
      "text/plain": "{0: 0, 1: 1, 2: 4, 3: 9, 4: 16}"
     },
     "execution_count": 42,
     "metadata": {},
     "output_type": "execute_result"
    }
   ],
   "source": [
    "dict((i, i ** 2) for i in range(5))"
   ],
   "metadata": {
    "collapsed": false,
    "ExecuteTime": {
     "start_time": "2023-04-14T01:08:56.149620Z",
     "end_time": "2023-04-14T01:08:56.165504Z"
    }
   }
  },
  {
   "cell_type": "markdown",
   "source": [],
   "metadata": {
    "collapsed": false
   }
  },
  {
   "cell_type": "code",
   "execution_count": null,
   "outputs": [],
   "source": [],
   "metadata": {
    "collapsed": false
   }
  }
 ],
 "metadata": {
  "kernelspec": {
   "display_name": "Python 3",
   "language": "python",
   "name": "python3"
  },
  "language_info": {
   "codemirror_mode": {
    "name": "ipython",
    "version": 2
   },
   "file_extension": ".py",
   "mimetype": "text/x-python",
   "name": "python",
   "nbconvert_exporter": "python",
   "pygments_lexer": "ipython2",
   "version": "2.7.6"
  }
 },
 "nbformat": 4,
 "nbformat_minor": 0
}
