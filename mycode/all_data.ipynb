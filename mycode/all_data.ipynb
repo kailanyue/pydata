{
 "cells": [
  {
   "cell_type": "code",
   "execution_count": 11,
   "metadata": {
    "collapsed": true,
    "ExecuteTime": {
     "start_time": "2023-04-25T18:19:48.693864Z",
     "end_time": "2023-04-25T18:19:48.695876Z"
    }
   },
   "outputs": [],
   "source": [
    "import numpy as np\n",
    "import pandas as pd\n",
    "from pandas.plotting import scatter_matrix"
   ]
  },
  {
   "cell_type": "code",
   "execution_count": 12,
   "outputs": [],
   "source": [
    "data_raw = pd.read_parquet(\"vhrdata\").drop_duplicates(subset=None, keep='last', inplace=False)\n",
    "drop_columns = [\"ebs_Q_Charge\", \"ebs_Q_Discharge\", \"BCM_ebs_I_BATT\", \"dcdc_OverTemperature\",\"IC_LowBatteryvoltage\", \"DCDC_realInputVoltage\", \"DCDC_realInputCurrent\"]\n",
    "data_raw = data_raw.drop(columns=drop_columns)"
   ],
   "metadata": {
    "collapsed": false,
    "ExecuteTime": {
     "start_time": "2023-04-25T18:19:50.205543Z",
     "end_time": "2023-04-25T18:19:51.209086Z"
    }
   }
  },
  {
   "cell_type": "code",
   "execution_count": 13,
   "outputs": [
    {
     "data": {
      "text/plain": "                      vin\n0       LM8F7D796NA013165\n10      LM8F7D899NA000800\n30      LM8F7D892NA001321\n90      LM8F7D891NA003609\n110     LM8F7D891NA000192\n130     LM8F7D797MAS00719\n190     LM8F7D896NA007722\n230     LM8F7D897NA000312\n240     LM8F7D896NA000737\n270     LM8F7D996NA043361\n300     LM8F7D997MAS00619\n1689    LM8F7D996NA042257\n4539    LM8F7D993NA014092\n4949    LM8F7D990NA050483\n7219    LM8F7D798NA045423\n12090   LM8F7D792NA012370\n14097   LM8F7D992NA055488\n14727   LM8F7D895NA002236\n15017   LM8F7D795NA038249\n15801   LM8F7D893NA000825\n16421   LM8F7D991NA025057\n19121   LM8F7D797NA030721\n20741   LM8F7D994NA042662\n23075   LM8F7D896NA001211\n23621   LM8F7D791NA047269\n24307   LM8F7D992NA036889\n24546   LM8F7D897NA001329\n27666   LM8F7D895NA001281\n33087   LM8F7D994NA018247\n33617   LM8F7D99XNA019581\n35287   LM8F7D899PA005501\n36327   LM8F7D995NA044968\n40567   LM8F7D892NA000976\n40577   LM8F7D995NAS00166\n47485   LM8F7D895NA000485\n49545   LM8F7D89XMA008192\n52431   LM8F7D793PA004930\n56160   LM8F7D899MA008085\n58329   LM8F7D992NA031787\n67025   LM8F7D895NA004276\n68660   LM8F7D898NA003168\n72269   LM8F7D992NA056382\n96124   LM8F7D893NA002400\n98254   LM8F7D897NA000147\n98784   LM8F7D790NA020970\n105695  LM8F7D895NA003368\n110225  LM8F7D999NA042740\n227466  LM8F7D999NA028966\n246886  LM8F7D795NA049722\n247406  LM8F7D990NA037345\n272793  LM8F7D992NA032289\n305023  LM8F7D994NA013680\n341404  LM8F7D997NA050478",
      "text/html": "<div>\n<style scoped>\n    .dataframe tbody tr th:only-of-type {\n        vertical-align: middle;\n    }\n\n    .dataframe tbody tr th {\n        vertical-align: top;\n    }\n\n    .dataframe thead th {\n        text-align: right;\n    }\n</style>\n<table border=\"1\" class=\"dataframe\">\n  <thead>\n    <tr style=\"text-align: right;\">\n      <th></th>\n      <th>vin</th>\n    </tr>\n  </thead>\n  <tbody>\n    <tr>\n      <th>0</th>\n      <td>LM8F7D796NA013165</td>\n    </tr>\n    <tr>\n      <th>10</th>\n      <td>LM8F7D899NA000800</td>\n    </tr>\n    <tr>\n      <th>30</th>\n      <td>LM8F7D892NA001321</td>\n    </tr>\n    <tr>\n      <th>90</th>\n      <td>LM8F7D891NA003609</td>\n    </tr>\n    <tr>\n      <th>110</th>\n      <td>LM8F7D891NA000192</td>\n    </tr>\n    <tr>\n      <th>130</th>\n      <td>LM8F7D797MAS00719</td>\n    </tr>\n    <tr>\n      <th>190</th>\n      <td>LM8F7D896NA007722</td>\n    </tr>\n    <tr>\n      <th>230</th>\n      <td>LM8F7D897NA000312</td>\n    </tr>\n    <tr>\n      <th>240</th>\n      <td>LM8F7D896NA000737</td>\n    </tr>\n    <tr>\n      <th>270</th>\n      <td>LM8F7D996NA043361</td>\n    </tr>\n    <tr>\n      <th>300</th>\n      <td>LM8F7D997MAS00619</td>\n    </tr>\n    <tr>\n      <th>1689</th>\n      <td>LM8F7D996NA042257</td>\n    </tr>\n    <tr>\n      <th>4539</th>\n      <td>LM8F7D993NA014092</td>\n    </tr>\n    <tr>\n      <th>4949</th>\n      <td>LM8F7D990NA050483</td>\n    </tr>\n    <tr>\n      <th>7219</th>\n      <td>LM8F7D798NA045423</td>\n    </tr>\n    <tr>\n      <th>12090</th>\n      <td>LM8F7D792NA012370</td>\n    </tr>\n    <tr>\n      <th>14097</th>\n      <td>LM8F7D992NA055488</td>\n    </tr>\n    <tr>\n      <th>14727</th>\n      <td>LM8F7D895NA002236</td>\n    </tr>\n    <tr>\n      <th>15017</th>\n      <td>LM8F7D795NA038249</td>\n    </tr>\n    <tr>\n      <th>15801</th>\n      <td>LM8F7D893NA000825</td>\n    </tr>\n    <tr>\n      <th>16421</th>\n      <td>LM8F7D991NA025057</td>\n    </tr>\n    <tr>\n      <th>19121</th>\n      <td>LM8F7D797NA030721</td>\n    </tr>\n    <tr>\n      <th>20741</th>\n      <td>LM8F7D994NA042662</td>\n    </tr>\n    <tr>\n      <th>23075</th>\n      <td>LM8F7D896NA001211</td>\n    </tr>\n    <tr>\n      <th>23621</th>\n      <td>LM8F7D791NA047269</td>\n    </tr>\n    <tr>\n      <th>24307</th>\n      <td>LM8F7D992NA036889</td>\n    </tr>\n    <tr>\n      <th>24546</th>\n      <td>LM8F7D897NA001329</td>\n    </tr>\n    <tr>\n      <th>27666</th>\n      <td>LM8F7D895NA001281</td>\n    </tr>\n    <tr>\n      <th>33087</th>\n      <td>LM8F7D994NA018247</td>\n    </tr>\n    <tr>\n      <th>33617</th>\n      <td>LM8F7D99XNA019581</td>\n    </tr>\n    <tr>\n      <th>35287</th>\n      <td>LM8F7D899PA005501</td>\n    </tr>\n    <tr>\n      <th>36327</th>\n      <td>LM8F7D995NA044968</td>\n    </tr>\n    <tr>\n      <th>40567</th>\n      <td>LM8F7D892NA000976</td>\n    </tr>\n    <tr>\n      <th>40577</th>\n      <td>LM8F7D995NAS00166</td>\n    </tr>\n    <tr>\n      <th>47485</th>\n      <td>LM8F7D895NA000485</td>\n    </tr>\n    <tr>\n      <th>49545</th>\n      <td>LM8F7D89XMA008192</td>\n    </tr>\n    <tr>\n      <th>52431</th>\n      <td>LM8F7D793PA004930</td>\n    </tr>\n    <tr>\n      <th>56160</th>\n      <td>LM8F7D899MA008085</td>\n    </tr>\n    <tr>\n      <th>58329</th>\n      <td>LM8F7D992NA031787</td>\n    </tr>\n    <tr>\n      <th>67025</th>\n      <td>LM8F7D895NA004276</td>\n    </tr>\n    <tr>\n      <th>68660</th>\n      <td>LM8F7D898NA003168</td>\n    </tr>\n    <tr>\n      <th>72269</th>\n      <td>LM8F7D992NA056382</td>\n    </tr>\n    <tr>\n      <th>96124</th>\n      <td>LM8F7D893NA002400</td>\n    </tr>\n    <tr>\n      <th>98254</th>\n      <td>LM8F7D897NA000147</td>\n    </tr>\n    <tr>\n      <th>98784</th>\n      <td>LM8F7D790NA020970</td>\n    </tr>\n    <tr>\n      <th>105695</th>\n      <td>LM8F7D895NA003368</td>\n    </tr>\n    <tr>\n      <th>110225</th>\n      <td>LM8F7D999NA042740</td>\n    </tr>\n    <tr>\n      <th>227466</th>\n      <td>LM8F7D999NA028966</td>\n    </tr>\n    <tr>\n      <th>246886</th>\n      <td>LM8F7D795NA049722</td>\n    </tr>\n    <tr>\n      <th>247406</th>\n      <td>LM8F7D990NA037345</td>\n    </tr>\n    <tr>\n      <th>272793</th>\n      <td>LM8F7D992NA032289</td>\n    </tr>\n    <tr>\n      <th>305023</th>\n      <td>LM8F7D994NA013680</td>\n    </tr>\n    <tr>\n      <th>341404</th>\n      <td>LM8F7D997NA050478</td>\n    </tr>\n  </tbody>\n</table>\n</div>"
     },
     "execution_count": 13,
     "metadata": {},
     "output_type": "execute_result"
    }
   ],
   "source": [
    "pd.DataFrame(data_raw[\"vin\"]).drop_duplicates(subset=None, keep='first', inplace=False)"
   ],
   "metadata": {
    "collapsed": false,
    "ExecuteTime": {
     "start_time": "2023-04-25T18:19:56.234596Z",
     "end_time": "2023-04-25T18:19:56.266337Z"
    }
   }
  },
  {
   "cell_type": "code",
   "execution_count": 16,
   "outputs": [
    {
     "data": {
      "text/plain": "vin\nLM8F7D991NA025057    2\nLM8F7D895NA002236    2\nLM8F7D792NA012370    2\nName: count, dtype: int64"
     },
     "execution_count": 16,
     "metadata": {},
     "output_type": "execute_result"
    }
   ],
   "source": [
    "data_raw[(data_raw.bms_SOC>=30.)&(data_raw.BCM_ebs_U_BATT<10.5)&(data_raw.BCM_ebs_U_BATT>5.)][\"vin\"].value_counts()"
   ],
   "metadata": {
    "collapsed": false,
    "ExecuteTime": {
     "start_time": "2023-04-25T18:22:19.348501Z",
     "end_time": "2023-04-25T18:22:19.379821Z"
    }
   }
  },
  {
   "cell_type": "code",
   "execution_count": 14,
   "outputs": [
    {
     "data": {
      "text/plain": "count    432629.000000\nmean          6.220991\nstd          17.796839\nmin           0.000000\n25%           0.000000\n50%           0.000000\n75%           0.000000\nmax         143.887497\nName: vcu_vehicleSpeed, dtype: float64"
     },
     "execution_count": 14,
     "metadata": {},
     "output_type": "execute_result"
    }
   ],
   "source": [
    "data_raw[\"vcu_vehicleSpeed\"].describe()"
   ],
   "metadata": {
    "collapsed": false,
    "ExecuteTime": {
     "start_time": "2023-04-25T18:20:37.424499Z",
     "end_time": "2023-04-25T18:20:37.460929Z"
    }
   }
  },
  {
   "cell_type": "markdown",
   "source": [
    "1. ebs_Q_Charge ebs_Q_Discharge BCM_ebs_I_BATT  dcdc_OverTemperature 一直为 0.0，同时又不是状态值，直接删除这些特征\n",
    "2. IC_LowBatteryvoltage  DCDC_realInputVoltage  DCDC_realInputCurrent 全为空，直接删除这些特征\n",
    "3. DCDC_MCU_HVIL_Warning DCDC_BMS_HVIL_Warning DCDC_HV_InterlockStatus1 DCDC_HV_InterlockStatus dcdc_deratingStatus 作为状态值先保留\n",
    "4. BCM_ebs_U_BATT 中间存在 3.0 的值将这部分提取出来进一步观察"
   ],
   "metadata": {
    "collapsed": false
   }
  },
  {
   "cell_type": "code",
   "execution_count": null,
   "outputs": [],
   "source": [
    "data_raw[\"vin\"].drop_duplicates()"
   ],
   "metadata": {
    "collapsed": false,
    "ExecuteTime": {
     "start_time": "2023-04-20T10:21:20.631155Z",
     "end_time": "2023-04-20T10:21:20.672430Z"
    }
   }
  },
  {
   "cell_type": "code",
   "execution_count": null,
   "outputs": [],
   "source": [
    "import seaborn as sns\n",
    "sns.distplot(data_raw[data_raw.dcdc_realOutputVoltage < 11.].dcdc_realOutputVoltage, hist=True, kde=False)"
   ],
   "metadata": {
    "collapsed": false,
    "ExecuteTime": {
     "start_time": "2023-04-20T18:19:01.285065Z",
     "end_time": "2023-04-20T18:19:01.667795Z"
    }
   }
  },
  {
   "cell_type": "code",
   "execution_count": null,
   "outputs": [],
   "source": [
    "pd.DataFrame(data_raw[data_raw.BCM_ebs_U_BATT > 14.25].BCM_ebs_U_BATT.value_counts()).sort_values(by='BCM_ebs_U_BATT')"
   ],
   "metadata": {
    "collapsed": false,
    "ExecuteTime": {
     "start_time": "2023-04-19T18:42:22.917972Z",
     "end_time": "2023-04-19T18:42:22.946506Z"
    }
   }
  },
  {
   "cell_type": "code",
   "execution_count": null,
   "outputs": [],
   "source": [
    "import seaborn as sns\n",
    "sns.distplot(data_raw[data_raw.BCM_ebs_U_BATT > 14.252].BCM_ebs_U_BATT, hist=True, kde=False)"
   ],
   "metadata": {
    "collapsed": false,
    "ExecuteTime": {
     "start_time": "2023-04-19T18:42:28.636117Z",
     "end_time": "2023-04-19T18:42:28.806014Z"
    }
   }
  },
  {
   "cell_type": "code",
   "execution_count": null,
   "outputs": [],
   "source": [
    "data_raw.describe()"
   ],
   "metadata": {
    "collapsed": false,
    "ExecuteTime": {
     "start_time": "2023-04-20T15:24:28.075713Z",
     "end_time": "2023-04-20T15:24:38.730533Z"
    }
   }
  },
  {
   "cell_type": "code",
   "execution_count": null,
   "outputs": [],
   "source": [
    "pd.DataFrame(data_raw[\"BCM_ebs_U_BATT\"].value_counts()).sort_values(by='BCM_ebs_U_BATT')"
   ],
   "metadata": {
    "collapsed": false,
    "ExecuteTime": {
     "start_time": "2023-04-19T18:42:39.028603Z",
     "end_time": "2023-04-19T18:42:39.044881Z"
    }
   }
  },
  {
   "cell_type": "code",
   "execution_count": null,
   "outputs": [],
   "source": [
    "# 清除异常数据之后的数据\n",
    "data_raw = data_raw.fillna(method='ffill')\n",
    "data = data_raw[(data_raw.BCM_ebs_U_BATT > 3.) & (data_raw.BCM_ebs_U_BATT < 18.)\n",
    "                & (data_raw.BCM_ebs_SOC <= 100.)\n",
    "                & (data_raw.bms_pLimitDrive <= 400.)\n",
    "]\n",
    "data.info()"
   ],
   "metadata": {
    "collapsed": false,
    "ExecuteTime": {
     "start_time": "2023-04-21T15:06:03.422444Z",
     "end_time": "2023-04-21T15:06:04.333244Z"
    }
   }
  },
  {
   "cell_type": "code",
   "execution_count": null,
   "outputs": [],
   "source": [
    "data[\"vin\"].value_counts()"
   ],
   "metadata": {
    "collapsed": false,
    "ExecuteTime": {
     "start_time": "2023-04-21T15:38:28.888628Z",
     "end_time": "2023-04-21T15:38:29.037841Z"
    }
   }
  },
  {
   "cell_type": "code",
   "execution_count": null,
   "outputs": [],
   "source": [
    "data.info()"
   ],
   "metadata": {
    "collapsed": false,
    "ExecuteTime": {
     "start_time": "2023-04-19T09:57:21.920153Z",
     "end_time": "2023-04-19T09:57:21.964461Z"
    }
   }
  },
  {
   "cell_type": "code",
   "execution_count": null,
   "outputs": [],
   "source": [
    "import matplotlib.pyplot as plt\n",
    "data.BCM_ebs_U_BATT.hist(bins=10, figsize=(15,3))\n",
    "plt.show()"
   ],
   "metadata": {
    "collapsed": false,
    "ExecuteTime": {
     "start_time": "2023-04-20T09:31:31.086837Z",
     "end_time": "2023-04-20T09:31:31.308478Z"
    }
   }
  },
  {
   "cell_type": "code",
   "execution_count": null,
   "outputs": [],
   "source": [
    "from pandas.plotting import scatter_matrix\n",
    "\n",
    "attributes = [\"BCM_ebs_U_BATT\", \"BCM_ebs_SOC\"]\n",
    "scatter_matrix(data[attributes], figsize=(8, 8))"
   ],
   "metadata": {
    "collapsed": false,
    "ExecuteTime": {
     "start_time": "2023-04-21T15:07:18.340778Z",
     "end_time": "2023-04-21T15:07:45.624065Z"
    }
   }
  },
  {
   "cell_type": "code",
   "execution_count": null,
   "outputs": [],
   "source": [
    "data[(data.bms_SOC>=30.)&(data.BCM_ebs_U_BATT<10.5)][\"vin\"].value_counts()"
   ],
   "metadata": {
    "collapsed": false,
    "ExecuteTime": {
     "start_time": "2023-04-21T15:12:18.706095Z",
     "end_time": "2023-04-21T15:12:18.741375Z"
    }
   }
  },
  {
   "cell_type": "code",
   "execution_count": null,
   "outputs": [],
   "source": [
    "from pandas.plotting import scatter_matrix\n",
    "attributes = [\"BCM_ebs_U_BATT\", \"BCM_ebs_SOC\"]\n",
    "scatter_matrix(data[data[\"vin\"]==\"LM8F7D895NA004066\"][attributes], figsize=(8, 8))"
   ],
   "metadata": {
    "collapsed": false,
    "ExecuteTime": {
     "start_time": "2023-04-21T15:14:17.737607Z",
     "end_time": "2023-04-21T15:14:18.660021Z"
    }
   }
  },
  {
   "cell_type": "code",
   "execution_count": null,
   "outputs": [],
   "source": [
    "\n",
    "\n",
    "attributes = [\"BCM_ebs_U_BATT\",  \"DCDC_AlerState\"]\n",
    "scatter_matrix(data[attributes], figsize=(8, 8))"
   ],
   "metadata": {
    "collapsed": false,
    "ExecuteTime": {
     "start_time": "2023-04-20T18:38:03.335384Z",
     "end_time": "2023-04-20T18:38:29.191913Z"
    }
   }
  },
  {
   "cell_type": "code",
   "execution_count": null,
   "outputs": [],
   "source": [],
   "metadata": {
    "collapsed": false
   }
  },
  {
   "cell_type": "code",
   "execution_count": null,
   "outputs": [],
   "source": [
    "data.BCM_ebs_U_BATT.describe()"
   ],
   "metadata": {
    "collapsed": false,
    "ExecuteTime": {
     "start_time": "2023-04-20T14:37:20.554209Z",
     "end_time": "2023-04-20T14:37:20.610346Z"
    }
   }
  },
  {
   "cell_type": "code",
   "execution_count": null,
   "outputs": [],
   "source": [
    "import seaborn as sns\n",
    "sns.distplot(data.bms_SOC, hist=True, kde=True)"
   ],
   "metadata": {
    "collapsed": false,
    "ExecuteTime": {
     "start_time": "2023-04-20T13:46:51.541336Z",
     "end_time": "2023-04-20T13:47:00.378936Z"
    }
   }
  },
  {
   "cell_type": "code",
   "execution_count": null,
   "outputs": [],
   "source": [
    "import seaborn as sns\n",
    "sns.distplot(data[data.BCM_ebs_U_BATT>10.0].BCM_ebs_U_BATT, hist=True, kde=True)"
   ],
   "metadata": {
    "collapsed": false,
    "ExecuteTime": {
     "start_time": "2023-04-20T14:20:23.926354Z",
     "end_time": "2023-04-20T14:20:37.764750Z"
    }
   }
  }
 ],
 "metadata": {
  "kernelspec": {
   "display_name": "Python 3",
   "language": "python",
   "name": "python3"
  },
  "language_info": {
   "codemirror_mode": {
    "name": "ipython",
    "version": 2
   },
   "file_extension": ".py",
   "mimetype": "text/x-python",
   "name": "python",
   "nbconvert_exporter": "python",
   "pygments_lexer": "ipython2",
   "version": "2.7.6"
  }
 },
 "nbformat": 4,
 "nbformat_minor": 0
}
