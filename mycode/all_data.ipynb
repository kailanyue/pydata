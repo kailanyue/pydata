{
 "cells": [
  {
   "cell_type": "code",
   "execution_count": 28,
   "metadata": {
    "collapsed": true,
    "ExecuteTime": {
     "start_time": "2023-04-18T14:57:25.751066Z",
     "end_time": "2023-04-18T14:57:25.781133Z"
    }
   },
   "outputs": [],
   "source": [
    "import numpy as np\n",
    "import pandas as pd"
   ]
  },
  {
   "cell_type": "code",
   "execution_count": 55,
   "outputs": [
    {
     "name": "stdout",
     "output_type": "stream",
     "text": [
      "<class 'pandas.core.frame.DataFrame'>\n",
      "RangeIndex: 915706 entries, 0 to 915705\n",
      "Data columns (total 39 columns):\n",
      " #   Column                    Non-Null Count   Dtype  \n",
      "---  ------                    --------------   -----  \n",
      " 0   vin                       915706 non-null  object \n",
      " 1   collect_ts                915706 non-null  int64  \n",
      " 2   uuid                      915706 non-null  object \n",
      " 3   model_name                915706 non-null  object \n",
      " 4   series_code               915706 non-null  object \n",
      " 5   msg_create_time           915706 non-null  object \n",
      " 6   vcu_VehicleMode           0 non-null       float32\n",
      " 7   vcu_vehicleSpeed          0 non-null       float32\n",
      " 8   VCU_VehicleSpeedValid     0 non-null       float32\n",
      " 9   vcu_state                 0 non-null       float32\n",
      " 10  bms_SOC                   0 non-null       float32\n",
      " 11  bms_state                 0 non-null       float32\n",
      " 12  BCM_ebs_U_BATT            103894 non-null  float32\n",
      " 13  BCM_ebs_SOC               103894 non-null  float32\n",
      " 14  BCM_ebs_SOH_SUL           103894 non-null  float32\n",
      " 15  ebs_Q_Charge              103894 non-null  float32\n",
      " 16  ebs_Q_Discharge           103894 non-null  float32\n",
      " 17  BCM_ebs_SOC_STATE         103902 non-null  float32\n",
      " 18  BCM_ebs_SOH_SUL_STATE     103902 non-null  float32\n",
      " 19  BCM_ebs_I_BATT            103902 non-null  float32\n",
      " 20  bcm_12VBatterySOC         107509 non-null  float32\n",
      " 21  IC_LowBatteryvoltage      0 non-null       float32\n",
      " 22  dcdc_realOutputVoltage    915706 non-null  float32\n",
      " 23  dcdc_realOutputCurrent    915706 non-null  float32\n",
      " 24  dcdc_OverTemperature      915706 non-null  float32\n",
      " 25  DCDC_AlerState            915706 non-null  float32\n",
      " 26  DCDC_realInputVoltage     0 non-null       float32\n",
      " 27  DCDC_realInputCurrent     0 non-null       float32\n",
      " 28  DCDC_OutPwr               845290 non-null  float32\n",
      " 29  DCDC_MaxPwrTime           825693 non-null  float32\n",
      " 30  vcu_dcdc_enable           89888 non-null   float32\n",
      " 31  vcu_dcdc_voltageReq       89888 non-null   float32\n",
      " 32  DCDC_MCU_HVIL_Warning     894425 non-null  float32\n",
      " 33  DCDC_BMS_HVIL_Warning     894425 non-null  float32\n",
      " 34  DCDC_HV_InterlockStatus1  894425 non-null  float32\n",
      " 35  DCDC_HV_InterlockStatus   915706 non-null  float32\n",
      " 36  dcdc_systemStatus         915706 non-null  float32\n",
      " 37  dcdc_deratingStatus       915706 non-null  float32\n",
      " 38  dcdc_realTemperature      915706 non-null  float32\n",
      "dtypes: float32(33), int64(1), object(5)\n",
      "memory usage: 157.2+ MB\n"
     ]
    }
   ],
   "source": [
    "data_raw = pd.read_parquet(\"datasets/result-1681818213560.parquet.gzip\")\\\n",
    "    .drop_duplicates(subset=None, keep='first', inplace=False)\n",
    "data_raw.info()"
   ],
   "metadata": {
    "collapsed": false,
    "ExecuteTime": {
     "start_time": "2023-04-18T19:53:58.361039Z",
     "end_time": "2023-04-18T19:53:59.755546Z"
    }
   }
  },
  {
   "cell_type": "markdown",
   "source": [
    "1. ebs_Q_Charge ebs_Q_Discharge BCM_ebs_I_BATT  dcdc_OverTemperature 一直为 0.0，同时又不是状态值，直接删除这些特征\n",
    "2. IC_LowBatteryvoltage  DCDC_realInputVoltage  DCDC_realInputCurrent 全为空，直接删除这些特征\n",
    "3. DCDC_MCU_HVIL_Warning DCDC_BMS_HVIL_Warning DCDC_HV_InterlockStatus1 DCDC_HV_InterlockStatus dcdc_deratingStatus 作为状态值先保留\n",
    "4. BCM_ebs_U_BATT 中间存在 3.0 的值将这部分提取出来进一步观察"
   ],
   "metadata": {
    "collapsed": false
   }
  },
  {
   "cell_type": "code",
   "execution_count": 43,
   "outputs": [
    {
     "data": {
      "text/plain": "         collect_ts  BCM_ebs_U_BATT   BCM_ebs_SOC  BCM_ebs_SOH_SUL   \ncount  7.774790e+05    87488.000000  87488.000000     87488.000000  \\\nmean   1.681754e+12       14.049490     81.095787        87.845177   \nstd    3.395991e+07        0.870883     14.898796        13.562264   \nmin    1.681552e+12        3.000000      0.000000         0.000000   \n25%    1.681721e+12       14.119141     70.000000        81.000000   \n50%    1.681749e+12       14.173828     81.000000        89.000000   \n75%    1.681788e+12       14.202148     92.000000       100.000000   \nmax    1.681804e+12       18.999023    255.000000       255.000000   \n\n       ebs_Q_Charge  ebs_Q_Discharge  BCM_ebs_SOC_STATE   \ncount       87488.0          87488.0       87492.000000  \\\nmean            0.0              0.0           1.725392   \nstd             0.0              0.0           0.511140   \nmin             0.0              0.0           0.000000   \n25%             0.0              0.0           2.000000   \n50%             0.0              0.0           2.000000   \n75%             0.0              0.0           2.000000   \nmax             0.0              0.0           3.000000   \n\n       BCM_ebs_SOH_SUL_STATE  BCM_ebs_I_BATT  bcm_12VBatterySOC  ...   \ncount           87492.000000         87492.0       91097.000000  ...  \\\nmean                0.695926             0.0          81.712097  ...   \nstd                 0.461059             0.0          15.029283  ...   \nmin                 0.000000             0.0           0.000000  ...   \n25%                 0.000000             0.0          70.000000  ...   \n50%                 1.000000             0.0          81.000000  ...   \n75%                 1.000000             0.0          98.000000  ...   \nmax                 3.000000             0.0         255.000000  ...   \n\n       DCDC_MaxPwrTime  vcu_dcdc_enable  vcu_dcdc_voltageReq   \ncount    688461.000000     55712.000000         55712.000000  \\\nmean         33.265335         0.955611            14.086404   \nstd         324.510284         0.205960             0.551321   \nmin           0.000000         0.000000            10.000000   \n25%           0.000000         1.000000            14.200000   \n50%           0.000000         1.000000            14.200000   \n75%           0.000000         1.000000            14.200000   \nmax        4095.000000         1.000000            14.200000   \n\n       DCDC_MCU_HVIL_Warning  DCDC_BMS_HVIL_Warning  DCDC_HV_InterlockStatus1   \ncount               756198.0               756198.0                  756198.0  \\\nmean                     0.0                    0.0                       0.0   \nstd                      0.0                    0.0                       0.0   \nmin                      0.0                    0.0                       0.0   \n25%                      0.0                    0.0                       0.0   \n50%                      0.0                    0.0                       0.0   \n75%                      0.0                    0.0                       0.0   \nmax                      0.0                    0.0                       0.0   \n\n       DCDC_HV_InterlockStatus  dcdc_systemStatus  dcdc_deratingStatus   \ncount            777479.000000      777479.000000        777479.000000  \\\nmean                  0.000078           1.961785             0.000027   \nstd                   0.008857           0.233351             0.005197   \nmin                   0.000000           0.000000             0.000000   \n25%                   0.000000           2.000000             0.000000   \n50%                   0.000000           2.000000             0.000000   \n75%                   0.000000           2.000000             0.000000   \nmax                   1.000000           6.000000             1.000000   \n\n       dcdc_realTemperature  \ncount         777479.000000  \nmean              37.194752  \nstd               11.051042  \nmin              -40.000000  \n25%               29.000000  \n50%               39.000000  \n75%               43.000000  \nmax               63.000000  \n\n[8 rows x 28 columns]",
      "text/html": "<div>\n<style scoped>\n    .dataframe tbody tr th:only-of-type {\n        vertical-align: middle;\n    }\n\n    .dataframe tbody tr th {\n        vertical-align: top;\n    }\n\n    .dataframe thead th {\n        text-align: right;\n    }\n</style>\n<table border=\"1\" class=\"dataframe\">\n  <thead>\n    <tr style=\"text-align: right;\">\n      <th></th>\n      <th>collect_ts</th>\n      <th>BCM_ebs_U_BATT</th>\n      <th>BCM_ebs_SOC</th>\n      <th>BCM_ebs_SOH_SUL</th>\n      <th>ebs_Q_Charge</th>\n      <th>ebs_Q_Discharge</th>\n      <th>BCM_ebs_SOC_STATE</th>\n      <th>BCM_ebs_SOH_SUL_STATE</th>\n      <th>BCM_ebs_I_BATT</th>\n      <th>bcm_12VBatterySOC</th>\n      <th>...</th>\n      <th>DCDC_MaxPwrTime</th>\n      <th>vcu_dcdc_enable</th>\n      <th>vcu_dcdc_voltageReq</th>\n      <th>DCDC_MCU_HVIL_Warning</th>\n      <th>DCDC_BMS_HVIL_Warning</th>\n      <th>DCDC_HV_InterlockStatus1</th>\n      <th>DCDC_HV_InterlockStatus</th>\n      <th>dcdc_systemStatus</th>\n      <th>dcdc_deratingStatus</th>\n      <th>dcdc_realTemperature</th>\n    </tr>\n  </thead>\n  <tbody>\n    <tr>\n      <th>count</th>\n      <td>7.774790e+05</td>\n      <td>87488.000000</td>\n      <td>87488.000000</td>\n      <td>87488.000000</td>\n      <td>87488.0</td>\n      <td>87488.0</td>\n      <td>87492.000000</td>\n      <td>87492.000000</td>\n      <td>87492.0</td>\n      <td>91097.000000</td>\n      <td>...</td>\n      <td>688461.000000</td>\n      <td>55712.000000</td>\n      <td>55712.000000</td>\n      <td>756198.0</td>\n      <td>756198.0</td>\n      <td>756198.0</td>\n      <td>777479.000000</td>\n      <td>777479.000000</td>\n      <td>777479.000000</td>\n      <td>777479.000000</td>\n    </tr>\n    <tr>\n      <th>mean</th>\n      <td>1.681754e+12</td>\n      <td>14.049490</td>\n      <td>81.095787</td>\n      <td>87.845177</td>\n      <td>0.0</td>\n      <td>0.0</td>\n      <td>1.725392</td>\n      <td>0.695926</td>\n      <td>0.0</td>\n      <td>81.712097</td>\n      <td>...</td>\n      <td>33.265335</td>\n      <td>0.955611</td>\n      <td>14.086404</td>\n      <td>0.0</td>\n      <td>0.0</td>\n      <td>0.0</td>\n      <td>0.000078</td>\n      <td>1.961785</td>\n      <td>0.000027</td>\n      <td>37.194752</td>\n    </tr>\n    <tr>\n      <th>std</th>\n      <td>3.395991e+07</td>\n      <td>0.870883</td>\n      <td>14.898796</td>\n      <td>13.562264</td>\n      <td>0.0</td>\n      <td>0.0</td>\n      <td>0.511140</td>\n      <td>0.461059</td>\n      <td>0.0</td>\n      <td>15.029283</td>\n      <td>...</td>\n      <td>324.510284</td>\n      <td>0.205960</td>\n      <td>0.551321</td>\n      <td>0.0</td>\n      <td>0.0</td>\n      <td>0.0</td>\n      <td>0.008857</td>\n      <td>0.233351</td>\n      <td>0.005197</td>\n      <td>11.051042</td>\n    </tr>\n    <tr>\n      <th>min</th>\n      <td>1.681552e+12</td>\n      <td>3.000000</td>\n      <td>0.000000</td>\n      <td>0.000000</td>\n      <td>0.0</td>\n      <td>0.0</td>\n      <td>0.000000</td>\n      <td>0.000000</td>\n      <td>0.0</td>\n      <td>0.000000</td>\n      <td>...</td>\n      <td>0.000000</td>\n      <td>0.000000</td>\n      <td>10.000000</td>\n      <td>0.0</td>\n      <td>0.0</td>\n      <td>0.0</td>\n      <td>0.000000</td>\n      <td>0.000000</td>\n      <td>0.000000</td>\n      <td>-40.000000</td>\n    </tr>\n    <tr>\n      <th>25%</th>\n      <td>1.681721e+12</td>\n      <td>14.119141</td>\n      <td>70.000000</td>\n      <td>81.000000</td>\n      <td>0.0</td>\n      <td>0.0</td>\n      <td>2.000000</td>\n      <td>0.000000</td>\n      <td>0.0</td>\n      <td>70.000000</td>\n      <td>...</td>\n      <td>0.000000</td>\n      <td>1.000000</td>\n      <td>14.200000</td>\n      <td>0.0</td>\n      <td>0.0</td>\n      <td>0.0</td>\n      <td>0.000000</td>\n      <td>2.000000</td>\n      <td>0.000000</td>\n      <td>29.000000</td>\n    </tr>\n    <tr>\n      <th>50%</th>\n      <td>1.681749e+12</td>\n      <td>14.173828</td>\n      <td>81.000000</td>\n      <td>89.000000</td>\n      <td>0.0</td>\n      <td>0.0</td>\n      <td>2.000000</td>\n      <td>1.000000</td>\n      <td>0.0</td>\n      <td>81.000000</td>\n      <td>...</td>\n      <td>0.000000</td>\n      <td>1.000000</td>\n      <td>14.200000</td>\n      <td>0.0</td>\n      <td>0.0</td>\n      <td>0.0</td>\n      <td>0.000000</td>\n      <td>2.000000</td>\n      <td>0.000000</td>\n      <td>39.000000</td>\n    </tr>\n    <tr>\n      <th>75%</th>\n      <td>1.681788e+12</td>\n      <td>14.202148</td>\n      <td>92.000000</td>\n      <td>100.000000</td>\n      <td>0.0</td>\n      <td>0.0</td>\n      <td>2.000000</td>\n      <td>1.000000</td>\n      <td>0.0</td>\n      <td>98.000000</td>\n      <td>...</td>\n      <td>0.000000</td>\n      <td>1.000000</td>\n      <td>14.200000</td>\n      <td>0.0</td>\n      <td>0.0</td>\n      <td>0.0</td>\n      <td>0.000000</td>\n      <td>2.000000</td>\n      <td>0.000000</td>\n      <td>43.000000</td>\n    </tr>\n    <tr>\n      <th>max</th>\n      <td>1.681804e+12</td>\n      <td>18.999023</td>\n      <td>255.000000</td>\n      <td>255.000000</td>\n      <td>0.0</td>\n      <td>0.0</td>\n      <td>3.000000</td>\n      <td>3.000000</td>\n      <td>0.0</td>\n      <td>255.000000</td>\n      <td>...</td>\n      <td>4095.000000</td>\n      <td>1.000000</td>\n      <td>14.200000</td>\n      <td>0.0</td>\n      <td>0.0</td>\n      <td>0.0</td>\n      <td>1.000000</td>\n      <td>6.000000</td>\n      <td>1.000000</td>\n      <td>63.000000</td>\n    </tr>\n  </tbody>\n</table>\n<p>8 rows × 28 columns</p>\n</div>"
     },
     "execution_count": 43,
     "metadata": {},
     "output_type": "execute_result"
    }
   ],
   "source": [
    "data_raw.describe()"
   ],
   "metadata": {
    "collapsed": false,
    "ExecuteTime": {
     "start_time": "2023-04-18T15:45:17.091177Z",
     "end_time": "2023-04-18T15:45:17.815697Z"
    }
   }
  },
  {
   "cell_type": "code",
   "execution_count": 44,
   "outputs": [
    {
     "data": {
      "text/plain": "         collect_ts  BCM_ebs_U_BATT   BCM_ebs_SOC  BCM_ebs_SOH_SUL   \ncount  7.774790e+05    87488.000000  87488.000000     87488.000000  \\\nmean   1.681754e+12       14.049490     81.095787        87.845177   \nstd    3.395991e+07        0.870883     14.898796        13.562264   \nmin    1.681552e+12        3.000000      0.000000         0.000000   \n25%    1.681721e+12       14.119141     70.000000        81.000000   \n50%    1.681749e+12       14.173828     81.000000        89.000000   \n75%    1.681788e+12       14.202148     92.000000       100.000000   \nmax    1.681804e+12       18.999023    255.000000       255.000000   \n\n       BCM_ebs_SOC_STATE  BCM_ebs_SOH_SUL_STATE  bcm_12VBatterySOC   \ncount       87492.000000           87492.000000       91097.000000  \\\nmean            1.725392               0.695926          81.712097   \nstd             0.511140               0.461059          15.029283   \nmin             0.000000               0.000000           0.000000   \n25%             2.000000               0.000000          70.000000   \n50%             2.000000               1.000000          81.000000   \n75%             2.000000               1.000000          98.000000   \nmax             3.000000               3.000000         255.000000   \n\n       dcdc_realOutputVoltage  dcdc_realOutputCurrent  DCDC_AlerState  ...   \ncount           777479.000000           777479.000000   777479.000000  ...  \\\nmean                13.969805               25.273043        0.001232  ...   \nstd                  1.136339               19.397821        0.040110  ...   \nmin                  0.000000                0.000000        0.000000  ...   \n25%                 14.100000                9.300000        0.000000  ...   \n50%                 14.100000               20.200001        0.000000  ...   \n75%                 14.100000               35.900002        0.000000  ...   \nmax                 14.200000              149.300003        2.000000  ...   \n\n       DCDC_MaxPwrTime  vcu_dcdc_enable  vcu_dcdc_voltageReq   \ncount    688461.000000     55712.000000         55712.000000  \\\nmean         33.265335         0.955611            14.086404   \nstd         324.510284         0.205960             0.551321   \nmin           0.000000         0.000000            10.000000   \n25%           0.000000         1.000000            14.200000   \n50%           0.000000         1.000000            14.200000   \n75%           0.000000         1.000000            14.200000   \nmax        4095.000000         1.000000            14.200000   \n\n       DCDC_MCU_HVIL_Warning  DCDC_BMS_HVIL_Warning  DCDC_HV_InterlockStatus1   \ncount               756198.0               756198.0                  756198.0  \\\nmean                     0.0                    0.0                       0.0   \nstd                      0.0                    0.0                       0.0   \nmin                      0.0                    0.0                       0.0   \n25%                      0.0                    0.0                       0.0   \n50%                      0.0                    0.0                       0.0   \n75%                      0.0                    0.0                       0.0   \nmax                      0.0                    0.0                       0.0   \n\n       DCDC_HV_InterlockStatus  dcdc_systemStatus  dcdc_deratingStatus   \ncount            777479.000000      777479.000000        777479.000000  \\\nmean                  0.000078           1.961785             0.000027   \nstd                   0.008857           0.233351             0.005197   \nmin                   0.000000           0.000000             0.000000   \n25%                   0.000000           2.000000             0.000000   \n50%                   0.000000           2.000000             0.000000   \n75%                   0.000000           2.000000             0.000000   \nmax                   1.000000           6.000000             1.000000   \n\n       dcdc_realTemperature  \ncount         777479.000000  \nmean              37.194752  \nstd               11.051042  \nmin              -40.000000  \n25%               29.000000  \n50%               39.000000  \n75%               43.000000  \nmax               63.000000  \n\n[8 rows x 21 columns]",
      "text/html": "<div>\n<style scoped>\n    .dataframe tbody tr th:only-of-type {\n        vertical-align: middle;\n    }\n\n    .dataframe tbody tr th {\n        vertical-align: top;\n    }\n\n    .dataframe thead th {\n        text-align: right;\n    }\n</style>\n<table border=\"1\" class=\"dataframe\">\n  <thead>\n    <tr style=\"text-align: right;\">\n      <th></th>\n      <th>collect_ts</th>\n      <th>BCM_ebs_U_BATT</th>\n      <th>BCM_ebs_SOC</th>\n      <th>BCM_ebs_SOH_SUL</th>\n      <th>BCM_ebs_SOC_STATE</th>\n      <th>BCM_ebs_SOH_SUL_STATE</th>\n      <th>bcm_12VBatterySOC</th>\n      <th>dcdc_realOutputVoltage</th>\n      <th>dcdc_realOutputCurrent</th>\n      <th>DCDC_AlerState</th>\n      <th>...</th>\n      <th>DCDC_MaxPwrTime</th>\n      <th>vcu_dcdc_enable</th>\n      <th>vcu_dcdc_voltageReq</th>\n      <th>DCDC_MCU_HVIL_Warning</th>\n      <th>DCDC_BMS_HVIL_Warning</th>\n      <th>DCDC_HV_InterlockStatus1</th>\n      <th>DCDC_HV_InterlockStatus</th>\n      <th>dcdc_systemStatus</th>\n      <th>dcdc_deratingStatus</th>\n      <th>dcdc_realTemperature</th>\n    </tr>\n  </thead>\n  <tbody>\n    <tr>\n      <th>count</th>\n      <td>7.774790e+05</td>\n      <td>87488.000000</td>\n      <td>87488.000000</td>\n      <td>87488.000000</td>\n      <td>87492.000000</td>\n      <td>87492.000000</td>\n      <td>91097.000000</td>\n      <td>777479.000000</td>\n      <td>777479.000000</td>\n      <td>777479.000000</td>\n      <td>...</td>\n      <td>688461.000000</td>\n      <td>55712.000000</td>\n      <td>55712.000000</td>\n      <td>756198.0</td>\n      <td>756198.0</td>\n      <td>756198.0</td>\n      <td>777479.000000</td>\n      <td>777479.000000</td>\n      <td>777479.000000</td>\n      <td>777479.000000</td>\n    </tr>\n    <tr>\n      <th>mean</th>\n      <td>1.681754e+12</td>\n      <td>14.049490</td>\n      <td>81.095787</td>\n      <td>87.845177</td>\n      <td>1.725392</td>\n      <td>0.695926</td>\n      <td>81.712097</td>\n      <td>13.969805</td>\n      <td>25.273043</td>\n      <td>0.001232</td>\n      <td>...</td>\n      <td>33.265335</td>\n      <td>0.955611</td>\n      <td>14.086404</td>\n      <td>0.0</td>\n      <td>0.0</td>\n      <td>0.0</td>\n      <td>0.000078</td>\n      <td>1.961785</td>\n      <td>0.000027</td>\n      <td>37.194752</td>\n    </tr>\n    <tr>\n      <th>std</th>\n      <td>3.395991e+07</td>\n      <td>0.870883</td>\n      <td>14.898796</td>\n      <td>13.562264</td>\n      <td>0.511140</td>\n      <td>0.461059</td>\n      <td>15.029283</td>\n      <td>1.136339</td>\n      <td>19.397821</td>\n      <td>0.040110</td>\n      <td>...</td>\n      <td>324.510284</td>\n      <td>0.205960</td>\n      <td>0.551321</td>\n      <td>0.0</td>\n      <td>0.0</td>\n      <td>0.0</td>\n      <td>0.008857</td>\n      <td>0.233351</td>\n      <td>0.005197</td>\n      <td>11.051042</td>\n    </tr>\n    <tr>\n      <th>min</th>\n      <td>1.681552e+12</td>\n      <td>3.000000</td>\n      <td>0.000000</td>\n      <td>0.000000</td>\n      <td>0.000000</td>\n      <td>0.000000</td>\n      <td>0.000000</td>\n      <td>0.000000</td>\n      <td>0.000000</td>\n      <td>0.000000</td>\n      <td>...</td>\n      <td>0.000000</td>\n      <td>0.000000</td>\n      <td>10.000000</td>\n      <td>0.0</td>\n      <td>0.0</td>\n      <td>0.0</td>\n      <td>0.000000</td>\n      <td>0.000000</td>\n      <td>0.000000</td>\n      <td>-40.000000</td>\n    </tr>\n    <tr>\n      <th>25%</th>\n      <td>1.681721e+12</td>\n      <td>14.119141</td>\n      <td>70.000000</td>\n      <td>81.000000</td>\n      <td>2.000000</td>\n      <td>0.000000</td>\n      <td>70.000000</td>\n      <td>14.100000</td>\n      <td>9.300000</td>\n      <td>0.000000</td>\n      <td>...</td>\n      <td>0.000000</td>\n      <td>1.000000</td>\n      <td>14.200000</td>\n      <td>0.0</td>\n      <td>0.0</td>\n      <td>0.0</td>\n      <td>0.000000</td>\n      <td>2.000000</td>\n      <td>0.000000</td>\n      <td>29.000000</td>\n    </tr>\n    <tr>\n      <th>50%</th>\n      <td>1.681749e+12</td>\n      <td>14.173828</td>\n      <td>81.000000</td>\n      <td>89.000000</td>\n      <td>2.000000</td>\n      <td>1.000000</td>\n      <td>81.000000</td>\n      <td>14.100000</td>\n      <td>20.200001</td>\n      <td>0.000000</td>\n      <td>...</td>\n      <td>0.000000</td>\n      <td>1.000000</td>\n      <td>14.200000</td>\n      <td>0.0</td>\n      <td>0.0</td>\n      <td>0.0</td>\n      <td>0.000000</td>\n      <td>2.000000</td>\n      <td>0.000000</td>\n      <td>39.000000</td>\n    </tr>\n    <tr>\n      <th>75%</th>\n      <td>1.681788e+12</td>\n      <td>14.202148</td>\n      <td>92.000000</td>\n      <td>100.000000</td>\n      <td>2.000000</td>\n      <td>1.000000</td>\n      <td>98.000000</td>\n      <td>14.100000</td>\n      <td>35.900002</td>\n      <td>0.000000</td>\n      <td>...</td>\n      <td>0.000000</td>\n      <td>1.000000</td>\n      <td>14.200000</td>\n      <td>0.0</td>\n      <td>0.0</td>\n      <td>0.0</td>\n      <td>0.000000</td>\n      <td>2.000000</td>\n      <td>0.000000</td>\n      <td>43.000000</td>\n    </tr>\n    <tr>\n      <th>max</th>\n      <td>1.681804e+12</td>\n      <td>18.999023</td>\n      <td>255.000000</td>\n      <td>255.000000</td>\n      <td>3.000000</td>\n      <td>3.000000</td>\n      <td>255.000000</td>\n      <td>14.200000</td>\n      <td>149.300003</td>\n      <td>2.000000</td>\n      <td>...</td>\n      <td>4095.000000</td>\n      <td>1.000000</td>\n      <td>14.200000</td>\n      <td>0.0</td>\n      <td>0.0</td>\n      <td>0.0</td>\n      <td>1.000000</td>\n      <td>6.000000</td>\n      <td>1.000000</td>\n      <td>63.000000</td>\n    </tr>\n  </tbody>\n</table>\n<p>8 rows × 21 columns</p>\n</div>"
     },
     "execution_count": 44,
     "metadata": {},
     "output_type": "execute_result"
    }
   ],
   "source": [
    "drop_columns = [\"ebs_Q_Charge\", \"ebs_Q_Discharge\", \"BCM_ebs_I_BATT\", \"dcdc_OverTemperature\",\"IC_LowBatteryvoltage\", \"DCDC_realInputVoltage\", \"DCDC_realInputCurrent\"]\n",
    "data_raw = data_raw.drop(columns=drop_columns)\n",
    "data_raw.describe()"
   ],
   "metadata": {
    "collapsed": false,
    "ExecuteTime": {
     "start_time": "2023-04-18T15:45:24.170634Z",
     "end_time": "2023-04-18T15:45:24.656560Z"
    }
   }
  },
  {
   "cell_type": "code",
   "execution_count": 45,
   "outputs": [
    {
     "data": {
      "text/plain": "                count\nBCM_ebs_U_BATT       \n3.000000          444\n7.016602            1\n7.070312            1\n7.245117            1\n7.551758            1\n...               ...\n14.250977          71\n14.251953          39\n14.252930          12\n14.253906           1\n18.999023          12\n\n[1524 rows x 1 columns]",
      "text/html": "<div>\n<style scoped>\n    .dataframe tbody tr th:only-of-type {\n        vertical-align: middle;\n    }\n\n    .dataframe tbody tr th {\n        vertical-align: top;\n    }\n\n    .dataframe thead th {\n        text-align: right;\n    }\n</style>\n<table border=\"1\" class=\"dataframe\">\n  <thead>\n    <tr style=\"text-align: right;\">\n      <th></th>\n      <th>count</th>\n    </tr>\n    <tr>\n      <th>BCM_ebs_U_BATT</th>\n      <th></th>\n    </tr>\n  </thead>\n  <tbody>\n    <tr>\n      <th>3.000000</th>\n      <td>444</td>\n    </tr>\n    <tr>\n      <th>7.016602</th>\n      <td>1</td>\n    </tr>\n    <tr>\n      <th>7.070312</th>\n      <td>1</td>\n    </tr>\n    <tr>\n      <th>7.245117</th>\n      <td>1</td>\n    </tr>\n    <tr>\n      <th>7.551758</th>\n      <td>1</td>\n    </tr>\n    <tr>\n      <th>...</th>\n      <td>...</td>\n    </tr>\n    <tr>\n      <th>14.250977</th>\n      <td>71</td>\n    </tr>\n    <tr>\n      <th>14.251953</th>\n      <td>39</td>\n    </tr>\n    <tr>\n      <th>14.252930</th>\n      <td>12</td>\n    </tr>\n    <tr>\n      <th>14.253906</th>\n      <td>1</td>\n    </tr>\n    <tr>\n      <th>18.999023</th>\n      <td>12</td>\n    </tr>\n  </tbody>\n</table>\n<p>1524 rows × 1 columns</p>\n</div>"
     },
     "execution_count": 45,
     "metadata": {},
     "output_type": "execute_result"
    }
   ],
   "source": [
    "pd.DataFrame(data_raw[\"BCM_ebs_U_BATT\"].value_counts()).sort_values(by='BCM_ebs_U_BATT')"
   ],
   "metadata": {
    "collapsed": false,
    "ExecuteTime": {
     "start_time": "2023-04-18T15:45:29.155693Z",
     "end_time": "2023-04-18T15:45:29.168074Z"
    }
   }
  },
  {
   "cell_type": "code",
   "execution_count": 46,
   "outputs": [
    {
     "data": {
      "text/plain": "                      vin     collect_ts   \n173644  WJF12012541741741  1681715191426  \\\n173738  WJF12012541741741  1681715201426   \n173812  WJF12012541741741  1681715211427   \n173890  WJF12012541741741  1681715221426   \n173988  WJF12012541741741  1681715231426   \n...                   ...            ...   \n210397  WJF12012541741741  1681719581435   \n210518  WJF12012541741741  1681719591435   \n210582  WJF12012541741741  1681719601435   \n210690  WJF12012541741741  1681719611439   \n210738  WJF12012541741741  1681719621434   \n\n                                        uuid     model_name series_code   \n173644  WJF12012541741741#1681715191977#8015  B24DRF6EP2L01    SERES-X1  \\\n173738  WJF12012541741741#1681715201990#1587  B24DRF6EP2L01    SERES-X1   \n173812  WJF12012541741741#1681715211996#5750  B24DRF6EP2L01    SERES-X1   \n173890   WJF12012541741741#1681715222011#146  B24DRF6EP2L01    SERES-X1   \n173988  WJF12012541741741#1681715232035#1727  B24DRF6EP2L01    SERES-X1   \n...                                      ...            ...         ...   \n210397  WJF12012541741741#1681719582072#7693  B24DRF6EP2L01    SERES-X1   \n210518  WJF12012541741741#1681719592038#4688  B24DRF6EP2L01    SERES-X1   \n210582  WJF12012541741741#1681719602016#3254  B24DRF6EP2L01    SERES-X1   \n210690  WJF12012541741741#1681719612023#9908  B24DRF6EP2L01    SERES-X1   \n210738  WJF12012541741741#1681719622047#9409  B24DRF6EP2L01    SERES-X1   \n\n       msg_create_time  BCM_ebs_U_BATT  BCM_ebs_SOC  BCM_ebs_SOH_SUL   \n173644   1681715191446             3.0          0.0              0.0  \\\n173738   1681715201446             3.0          0.0              0.0   \n173812   1681715211446             3.0          0.0              0.0   \n173890   1681715221445             3.0          0.0              0.0   \n173988   1681715231446             3.0          0.0              0.0   \n...                ...             ...          ...              ...   \n210397   1681719581460             3.0          0.0              0.0   \n210518   1681719591459             3.0          0.0              0.0   \n210582   1681719601472             3.0          0.0              0.0   \n210690   1681719611459             3.0          0.0              0.0   \n210738   1681719621455             3.0          0.0              0.0   \n\n        BCM_ebs_SOC_STATE  ...  DCDC_MaxPwrTime  vcu_dcdc_enable   \n173644                0.0  ...              0.0              0.0  \\\n173738                0.0  ...              0.0              0.0   \n173812                0.0  ...              0.0              0.0   \n173890                0.0  ...              0.0              0.0   \n173988                0.0  ...              0.0              0.0   \n...                   ...  ...              ...              ...   \n210397                0.0  ...              0.0              0.0   \n210518                0.0  ...              0.0              0.0   \n210582                0.0  ...              0.0              0.0   \n210690                0.0  ...              0.0              0.0   \n210738                0.0  ...              0.0              0.0   \n\n        vcu_dcdc_voltageReq  DCDC_MCU_HVIL_Warning  DCDC_BMS_HVIL_Warning   \n173644                 10.0                    0.0                    0.0  \\\n173738                 10.0                    0.0                    0.0   \n173812                 10.0                    0.0                    0.0   \n173890                 10.0                    0.0                    0.0   \n173988                 10.0                    0.0                    0.0   \n...                     ...                    ...                    ...   \n210397                 10.0                    0.0                    0.0   \n210518                 10.0                    0.0                    0.0   \n210582                 10.0                    0.0                    0.0   \n210690                 10.0                    0.0                    0.0   \n210738                 10.0                    0.0                    0.0   \n\n        DCDC_HV_InterlockStatus1  DCDC_HV_InterlockStatus  dcdc_systemStatus   \n173644                       0.0                      0.0                0.0  \\\n173738                       0.0                      0.0                0.0   \n173812                       0.0                      0.0                0.0   \n173890                       0.0                      0.0                0.0   \n173988                       0.0                      0.0                0.0   \n...                          ...                      ...                ...   \n210397                       0.0                      0.0                0.0   \n210518                       0.0                      0.0                0.0   \n210582                       0.0                      0.0                0.0   \n210690                       0.0                      0.0                0.0   \n210738                       0.0                      0.0                0.0   \n\n        dcdc_deratingStatus  dcdc_realTemperature  \n173644                  0.0                 -40.0  \n173738                  0.0                 -40.0  \n173812                  0.0                 -40.0  \n173890                  0.0                 -40.0  \n173988                  0.0                 -40.0  \n...                     ...                   ...  \n210397                  0.0                 -40.0  \n210518                  0.0                 -40.0  \n210582                  0.0                 -40.0  \n210690                  0.0                 -40.0  \n210738                  0.0                 -40.0  \n\n[444 rows x 26 columns]",
      "text/html": "<div>\n<style scoped>\n    .dataframe tbody tr th:only-of-type {\n        vertical-align: middle;\n    }\n\n    .dataframe tbody tr th {\n        vertical-align: top;\n    }\n\n    .dataframe thead th {\n        text-align: right;\n    }\n</style>\n<table border=\"1\" class=\"dataframe\">\n  <thead>\n    <tr style=\"text-align: right;\">\n      <th></th>\n      <th>vin</th>\n      <th>collect_ts</th>\n      <th>uuid</th>\n      <th>model_name</th>\n      <th>series_code</th>\n      <th>msg_create_time</th>\n      <th>BCM_ebs_U_BATT</th>\n      <th>BCM_ebs_SOC</th>\n      <th>BCM_ebs_SOH_SUL</th>\n      <th>BCM_ebs_SOC_STATE</th>\n      <th>...</th>\n      <th>DCDC_MaxPwrTime</th>\n      <th>vcu_dcdc_enable</th>\n      <th>vcu_dcdc_voltageReq</th>\n      <th>DCDC_MCU_HVIL_Warning</th>\n      <th>DCDC_BMS_HVIL_Warning</th>\n      <th>DCDC_HV_InterlockStatus1</th>\n      <th>DCDC_HV_InterlockStatus</th>\n      <th>dcdc_systemStatus</th>\n      <th>dcdc_deratingStatus</th>\n      <th>dcdc_realTemperature</th>\n    </tr>\n  </thead>\n  <tbody>\n    <tr>\n      <th>173644</th>\n      <td>WJF12012541741741</td>\n      <td>1681715191426</td>\n      <td>WJF12012541741741#1681715191977#8015</td>\n      <td>B24DRF6EP2L01</td>\n      <td>SERES-X1</td>\n      <td>1681715191446</td>\n      <td>3.0</td>\n      <td>0.0</td>\n      <td>0.0</td>\n      <td>0.0</td>\n      <td>...</td>\n      <td>0.0</td>\n      <td>0.0</td>\n      <td>10.0</td>\n      <td>0.0</td>\n      <td>0.0</td>\n      <td>0.0</td>\n      <td>0.0</td>\n      <td>0.0</td>\n      <td>0.0</td>\n      <td>-40.0</td>\n    </tr>\n    <tr>\n      <th>173738</th>\n      <td>WJF12012541741741</td>\n      <td>1681715201426</td>\n      <td>WJF12012541741741#1681715201990#1587</td>\n      <td>B24DRF6EP2L01</td>\n      <td>SERES-X1</td>\n      <td>1681715201446</td>\n      <td>3.0</td>\n      <td>0.0</td>\n      <td>0.0</td>\n      <td>0.0</td>\n      <td>...</td>\n      <td>0.0</td>\n      <td>0.0</td>\n      <td>10.0</td>\n      <td>0.0</td>\n      <td>0.0</td>\n      <td>0.0</td>\n      <td>0.0</td>\n      <td>0.0</td>\n      <td>0.0</td>\n      <td>-40.0</td>\n    </tr>\n    <tr>\n      <th>173812</th>\n      <td>WJF12012541741741</td>\n      <td>1681715211427</td>\n      <td>WJF12012541741741#1681715211996#5750</td>\n      <td>B24DRF6EP2L01</td>\n      <td>SERES-X1</td>\n      <td>1681715211446</td>\n      <td>3.0</td>\n      <td>0.0</td>\n      <td>0.0</td>\n      <td>0.0</td>\n      <td>...</td>\n      <td>0.0</td>\n      <td>0.0</td>\n      <td>10.0</td>\n      <td>0.0</td>\n      <td>0.0</td>\n      <td>0.0</td>\n      <td>0.0</td>\n      <td>0.0</td>\n      <td>0.0</td>\n      <td>-40.0</td>\n    </tr>\n    <tr>\n      <th>173890</th>\n      <td>WJF12012541741741</td>\n      <td>1681715221426</td>\n      <td>WJF12012541741741#1681715222011#146</td>\n      <td>B24DRF6EP2L01</td>\n      <td>SERES-X1</td>\n      <td>1681715221445</td>\n      <td>3.0</td>\n      <td>0.0</td>\n      <td>0.0</td>\n      <td>0.0</td>\n      <td>...</td>\n      <td>0.0</td>\n      <td>0.0</td>\n      <td>10.0</td>\n      <td>0.0</td>\n      <td>0.0</td>\n      <td>0.0</td>\n      <td>0.0</td>\n      <td>0.0</td>\n      <td>0.0</td>\n      <td>-40.0</td>\n    </tr>\n    <tr>\n      <th>173988</th>\n      <td>WJF12012541741741</td>\n      <td>1681715231426</td>\n      <td>WJF12012541741741#1681715232035#1727</td>\n      <td>B24DRF6EP2L01</td>\n      <td>SERES-X1</td>\n      <td>1681715231446</td>\n      <td>3.0</td>\n      <td>0.0</td>\n      <td>0.0</td>\n      <td>0.0</td>\n      <td>...</td>\n      <td>0.0</td>\n      <td>0.0</td>\n      <td>10.0</td>\n      <td>0.0</td>\n      <td>0.0</td>\n      <td>0.0</td>\n      <td>0.0</td>\n      <td>0.0</td>\n      <td>0.0</td>\n      <td>-40.0</td>\n    </tr>\n    <tr>\n      <th>...</th>\n      <td>...</td>\n      <td>...</td>\n      <td>...</td>\n      <td>...</td>\n      <td>...</td>\n      <td>...</td>\n      <td>...</td>\n      <td>...</td>\n      <td>...</td>\n      <td>...</td>\n      <td>...</td>\n      <td>...</td>\n      <td>...</td>\n      <td>...</td>\n      <td>...</td>\n      <td>...</td>\n      <td>...</td>\n      <td>...</td>\n      <td>...</td>\n      <td>...</td>\n      <td>...</td>\n    </tr>\n    <tr>\n      <th>210397</th>\n      <td>WJF12012541741741</td>\n      <td>1681719581435</td>\n      <td>WJF12012541741741#1681719582072#7693</td>\n      <td>B24DRF6EP2L01</td>\n      <td>SERES-X1</td>\n      <td>1681719581460</td>\n      <td>3.0</td>\n      <td>0.0</td>\n      <td>0.0</td>\n      <td>0.0</td>\n      <td>...</td>\n      <td>0.0</td>\n      <td>0.0</td>\n      <td>10.0</td>\n      <td>0.0</td>\n      <td>0.0</td>\n      <td>0.0</td>\n      <td>0.0</td>\n      <td>0.0</td>\n      <td>0.0</td>\n      <td>-40.0</td>\n    </tr>\n    <tr>\n      <th>210518</th>\n      <td>WJF12012541741741</td>\n      <td>1681719591435</td>\n      <td>WJF12012541741741#1681719592038#4688</td>\n      <td>B24DRF6EP2L01</td>\n      <td>SERES-X1</td>\n      <td>1681719591459</td>\n      <td>3.0</td>\n      <td>0.0</td>\n      <td>0.0</td>\n      <td>0.0</td>\n      <td>...</td>\n      <td>0.0</td>\n      <td>0.0</td>\n      <td>10.0</td>\n      <td>0.0</td>\n      <td>0.0</td>\n      <td>0.0</td>\n      <td>0.0</td>\n      <td>0.0</td>\n      <td>0.0</td>\n      <td>-40.0</td>\n    </tr>\n    <tr>\n      <th>210582</th>\n      <td>WJF12012541741741</td>\n      <td>1681719601435</td>\n      <td>WJF12012541741741#1681719602016#3254</td>\n      <td>B24DRF6EP2L01</td>\n      <td>SERES-X1</td>\n      <td>1681719601472</td>\n      <td>3.0</td>\n      <td>0.0</td>\n      <td>0.0</td>\n      <td>0.0</td>\n      <td>...</td>\n      <td>0.0</td>\n      <td>0.0</td>\n      <td>10.0</td>\n      <td>0.0</td>\n      <td>0.0</td>\n      <td>0.0</td>\n      <td>0.0</td>\n      <td>0.0</td>\n      <td>0.0</td>\n      <td>-40.0</td>\n    </tr>\n    <tr>\n      <th>210690</th>\n      <td>WJF12012541741741</td>\n      <td>1681719611439</td>\n      <td>WJF12012541741741#1681719612023#9908</td>\n      <td>B24DRF6EP2L01</td>\n      <td>SERES-X1</td>\n      <td>1681719611459</td>\n      <td>3.0</td>\n      <td>0.0</td>\n      <td>0.0</td>\n      <td>0.0</td>\n      <td>...</td>\n      <td>0.0</td>\n      <td>0.0</td>\n      <td>10.0</td>\n      <td>0.0</td>\n      <td>0.0</td>\n      <td>0.0</td>\n      <td>0.0</td>\n      <td>0.0</td>\n      <td>0.0</td>\n      <td>-40.0</td>\n    </tr>\n    <tr>\n      <th>210738</th>\n      <td>WJF12012541741741</td>\n      <td>1681719621434</td>\n      <td>WJF12012541741741#1681719622047#9409</td>\n      <td>B24DRF6EP2L01</td>\n      <td>SERES-X1</td>\n      <td>1681719621455</td>\n      <td>3.0</td>\n      <td>0.0</td>\n      <td>0.0</td>\n      <td>0.0</td>\n      <td>...</td>\n      <td>0.0</td>\n      <td>0.0</td>\n      <td>10.0</td>\n      <td>0.0</td>\n      <td>0.0</td>\n      <td>0.0</td>\n      <td>0.0</td>\n      <td>0.0</td>\n      <td>0.0</td>\n      <td>-40.0</td>\n    </tr>\n  </tbody>\n</table>\n<p>444 rows × 26 columns</p>\n</div>"
     },
     "execution_count": 46,
     "metadata": {},
     "output_type": "execute_result"
    }
   ],
   "source": [
    "data_3 = data_raw[data_raw.BCM_ebs_U_BATT == 3.]\n",
    "data_3"
   ],
   "metadata": {
    "collapsed": false,
    "ExecuteTime": {
     "start_time": "2023-04-18T15:45:38.108209Z",
     "end_time": "2023-04-18T15:45:38.134209Z"
    }
   }
  },
  {
   "cell_type": "code",
   "execution_count": 47,
   "outputs": [
    {
     "data": {
      "text/plain": "         collect_ts  BCM_ebs_U_BATT  BCM_ebs_SOC  BCM_ebs_SOH_SUL   \ncount  4.440000e+02           444.0        444.0            444.0  \\\nmean   1.681717e+12             3.0          0.0              0.0   \nstd    1.283163e+06             0.0          0.0              0.0   \nmin    1.681715e+12             3.0          0.0              0.0   \n25%    1.681716e+12             3.0          0.0              0.0   \n50%    1.681717e+12             3.0          0.0              0.0   \n75%    1.681719e+12             3.0          0.0              0.0   \nmax    1.681720e+12             3.0          0.0              0.0   \n\n       BCM_ebs_SOC_STATE  BCM_ebs_SOH_SUL_STATE  bcm_12VBatterySOC   \ncount              444.0                  444.0              444.0  \\\nmean                 0.0                    0.0                0.0   \nstd                  0.0                    0.0                0.0   \nmin                  0.0                    0.0                0.0   \n25%                  0.0                    0.0                0.0   \n50%                  0.0                    0.0                0.0   \n75%                  0.0                    0.0                0.0   \nmax                  0.0                    0.0                0.0   \n\n       dcdc_realOutputVoltage  dcdc_realOutputCurrent  DCDC_AlerState  ...   \ncount                   444.0                   444.0           444.0  ...  \\\nmean                      0.0                     0.0             0.0  ...   \nstd                       0.0                     0.0             0.0  ...   \nmin                       0.0                     0.0             0.0  ...   \n25%                       0.0                     0.0             0.0  ...   \n50%                       0.0                     0.0             0.0  ...   \n75%                       0.0                     0.0             0.0  ...   \nmax                       0.0                     0.0             0.0  ...   \n\n       DCDC_MaxPwrTime  vcu_dcdc_enable  vcu_dcdc_voltageReq   \ncount            444.0            444.0                444.0  \\\nmean               0.0              0.0                 10.0   \nstd                0.0              0.0                  0.0   \nmin                0.0              0.0                 10.0   \n25%                0.0              0.0                 10.0   \n50%                0.0              0.0                 10.0   \n75%                0.0              0.0                 10.0   \nmax                0.0              0.0                 10.0   \n\n       DCDC_MCU_HVIL_Warning  DCDC_BMS_HVIL_Warning  DCDC_HV_InterlockStatus1   \ncount                  444.0                  444.0                     444.0  \\\nmean                     0.0                    0.0                       0.0   \nstd                      0.0                    0.0                       0.0   \nmin                      0.0                    0.0                       0.0   \n25%                      0.0                    0.0                       0.0   \n50%                      0.0                    0.0                       0.0   \n75%                      0.0                    0.0                       0.0   \nmax                      0.0                    0.0                       0.0   \n\n       DCDC_HV_InterlockStatus  dcdc_systemStatus  dcdc_deratingStatus   \ncount                    444.0              444.0                444.0  \\\nmean                       0.0                0.0                  0.0   \nstd                        0.0                0.0                  0.0   \nmin                        0.0                0.0                  0.0   \n25%                        0.0                0.0                  0.0   \n50%                        0.0                0.0                  0.0   \n75%                        0.0                0.0                  0.0   \nmax                        0.0                0.0                  0.0   \n\n       dcdc_realTemperature  \ncount                 444.0  \nmean                  -40.0  \nstd                     0.0  \nmin                   -40.0  \n25%                   -40.0  \n50%                   -40.0  \n75%                   -40.0  \nmax                   -40.0  \n\n[8 rows x 21 columns]",
      "text/html": "<div>\n<style scoped>\n    .dataframe tbody tr th:only-of-type {\n        vertical-align: middle;\n    }\n\n    .dataframe tbody tr th {\n        vertical-align: top;\n    }\n\n    .dataframe thead th {\n        text-align: right;\n    }\n</style>\n<table border=\"1\" class=\"dataframe\">\n  <thead>\n    <tr style=\"text-align: right;\">\n      <th></th>\n      <th>collect_ts</th>\n      <th>BCM_ebs_U_BATT</th>\n      <th>BCM_ebs_SOC</th>\n      <th>BCM_ebs_SOH_SUL</th>\n      <th>BCM_ebs_SOC_STATE</th>\n      <th>BCM_ebs_SOH_SUL_STATE</th>\n      <th>bcm_12VBatterySOC</th>\n      <th>dcdc_realOutputVoltage</th>\n      <th>dcdc_realOutputCurrent</th>\n      <th>DCDC_AlerState</th>\n      <th>...</th>\n      <th>DCDC_MaxPwrTime</th>\n      <th>vcu_dcdc_enable</th>\n      <th>vcu_dcdc_voltageReq</th>\n      <th>DCDC_MCU_HVIL_Warning</th>\n      <th>DCDC_BMS_HVIL_Warning</th>\n      <th>DCDC_HV_InterlockStatus1</th>\n      <th>DCDC_HV_InterlockStatus</th>\n      <th>dcdc_systemStatus</th>\n      <th>dcdc_deratingStatus</th>\n      <th>dcdc_realTemperature</th>\n    </tr>\n  </thead>\n  <tbody>\n    <tr>\n      <th>count</th>\n      <td>4.440000e+02</td>\n      <td>444.0</td>\n      <td>444.0</td>\n      <td>444.0</td>\n      <td>444.0</td>\n      <td>444.0</td>\n      <td>444.0</td>\n      <td>444.0</td>\n      <td>444.0</td>\n      <td>444.0</td>\n      <td>...</td>\n      <td>444.0</td>\n      <td>444.0</td>\n      <td>444.0</td>\n      <td>444.0</td>\n      <td>444.0</td>\n      <td>444.0</td>\n      <td>444.0</td>\n      <td>444.0</td>\n      <td>444.0</td>\n      <td>444.0</td>\n    </tr>\n    <tr>\n      <th>mean</th>\n      <td>1.681717e+12</td>\n      <td>3.0</td>\n      <td>0.0</td>\n      <td>0.0</td>\n      <td>0.0</td>\n      <td>0.0</td>\n      <td>0.0</td>\n      <td>0.0</td>\n      <td>0.0</td>\n      <td>0.0</td>\n      <td>...</td>\n      <td>0.0</td>\n      <td>0.0</td>\n      <td>10.0</td>\n      <td>0.0</td>\n      <td>0.0</td>\n      <td>0.0</td>\n      <td>0.0</td>\n      <td>0.0</td>\n      <td>0.0</td>\n      <td>-40.0</td>\n    </tr>\n    <tr>\n      <th>std</th>\n      <td>1.283163e+06</td>\n      <td>0.0</td>\n      <td>0.0</td>\n      <td>0.0</td>\n      <td>0.0</td>\n      <td>0.0</td>\n      <td>0.0</td>\n      <td>0.0</td>\n      <td>0.0</td>\n      <td>0.0</td>\n      <td>...</td>\n      <td>0.0</td>\n      <td>0.0</td>\n      <td>0.0</td>\n      <td>0.0</td>\n      <td>0.0</td>\n      <td>0.0</td>\n      <td>0.0</td>\n      <td>0.0</td>\n      <td>0.0</td>\n      <td>0.0</td>\n    </tr>\n    <tr>\n      <th>min</th>\n      <td>1.681715e+12</td>\n      <td>3.0</td>\n      <td>0.0</td>\n      <td>0.0</td>\n      <td>0.0</td>\n      <td>0.0</td>\n      <td>0.0</td>\n      <td>0.0</td>\n      <td>0.0</td>\n      <td>0.0</td>\n      <td>...</td>\n      <td>0.0</td>\n      <td>0.0</td>\n      <td>10.0</td>\n      <td>0.0</td>\n      <td>0.0</td>\n      <td>0.0</td>\n      <td>0.0</td>\n      <td>0.0</td>\n      <td>0.0</td>\n      <td>-40.0</td>\n    </tr>\n    <tr>\n      <th>25%</th>\n      <td>1.681716e+12</td>\n      <td>3.0</td>\n      <td>0.0</td>\n      <td>0.0</td>\n      <td>0.0</td>\n      <td>0.0</td>\n      <td>0.0</td>\n      <td>0.0</td>\n      <td>0.0</td>\n      <td>0.0</td>\n      <td>...</td>\n      <td>0.0</td>\n      <td>0.0</td>\n      <td>10.0</td>\n      <td>0.0</td>\n      <td>0.0</td>\n      <td>0.0</td>\n      <td>0.0</td>\n      <td>0.0</td>\n      <td>0.0</td>\n      <td>-40.0</td>\n    </tr>\n    <tr>\n      <th>50%</th>\n      <td>1.681717e+12</td>\n      <td>3.0</td>\n      <td>0.0</td>\n      <td>0.0</td>\n      <td>0.0</td>\n      <td>0.0</td>\n      <td>0.0</td>\n      <td>0.0</td>\n      <td>0.0</td>\n      <td>0.0</td>\n      <td>...</td>\n      <td>0.0</td>\n      <td>0.0</td>\n      <td>10.0</td>\n      <td>0.0</td>\n      <td>0.0</td>\n      <td>0.0</td>\n      <td>0.0</td>\n      <td>0.0</td>\n      <td>0.0</td>\n      <td>-40.0</td>\n    </tr>\n    <tr>\n      <th>75%</th>\n      <td>1.681719e+12</td>\n      <td>3.0</td>\n      <td>0.0</td>\n      <td>0.0</td>\n      <td>0.0</td>\n      <td>0.0</td>\n      <td>0.0</td>\n      <td>0.0</td>\n      <td>0.0</td>\n      <td>0.0</td>\n      <td>...</td>\n      <td>0.0</td>\n      <td>0.0</td>\n      <td>10.0</td>\n      <td>0.0</td>\n      <td>0.0</td>\n      <td>0.0</td>\n      <td>0.0</td>\n      <td>0.0</td>\n      <td>0.0</td>\n      <td>-40.0</td>\n    </tr>\n    <tr>\n      <th>max</th>\n      <td>1.681720e+12</td>\n      <td>3.0</td>\n      <td>0.0</td>\n      <td>0.0</td>\n      <td>0.0</td>\n      <td>0.0</td>\n      <td>0.0</td>\n      <td>0.0</td>\n      <td>0.0</td>\n      <td>0.0</td>\n      <td>...</td>\n      <td>0.0</td>\n      <td>0.0</td>\n      <td>10.0</td>\n      <td>0.0</td>\n      <td>0.0</td>\n      <td>0.0</td>\n      <td>0.0</td>\n      <td>0.0</td>\n      <td>0.0</td>\n      <td>-40.0</td>\n    </tr>\n  </tbody>\n</table>\n<p>8 rows × 21 columns</p>\n</div>"
     },
     "execution_count": 47,
     "metadata": {},
     "output_type": "execute_result"
    }
   ],
   "source": [
    "# 很明显这部分数据要排除\n",
    "data_3.describe()"
   ],
   "metadata": {
    "collapsed": false,
    "ExecuteTime": {
     "start_time": "2023-04-18T15:45:42.869643Z",
     "end_time": "2023-04-18T15:45:42.920503Z"
    }
   }
  },
  {
   "cell_type": "code",
   "execution_count": 48,
   "outputs": [
    {
     "data": {
      "text/plain": "         collect_ts  BCM_ebs_U_BATT   BCM_ebs_SOC  BCM_ebs_SOH_SUL   \ncount  8.704400e+04    87044.000000  87044.000000     87044.000000  \\\nmean   1.681756e+12       14.105851     81.509445        88.293266   \nstd    3.274048e+07        0.369256     13.761865        12.054450   \nmin    1.681552e+12        7.016602      0.000000        17.000000   \n25%    1.681724e+12       14.121094     70.000000        81.000000   \n50%    1.681751e+12       14.173828     81.000000        89.000000   \n75%    1.681788e+12       14.202148     92.000000       100.000000   \nmax    1.681804e+12       18.999023    255.000000       255.000000   \n\n       BCM_ebs_SOC_STATE  BCM_ebs_SOH_SUL_STATE  bcm_12VBatterySOC   \ncount       87019.000000           87019.000000       87037.000000  \\\nmean            1.734288               0.699571          81.509163   \nstd             0.497254               0.459499          13.762928   \nmin             0.000000               0.000000           0.000000   \n25%             2.000000               0.000000          70.000000   \n50%             2.000000               1.000000          81.000000   \n75%             2.000000               1.000000          92.000000   \nmax             3.000000               3.000000         255.000000   \n\n       dcdc_realOutputVoltage  dcdc_realOutputCurrent  DCDC_AlerState  ...   \ncount            87044.000000            87044.000000    87044.000000  ...  \\\nmean                14.014090               22.872591        0.000954  ...   \nstd                  0.722972               17.155041        0.034051  ...   \nmin                  0.000000                0.000000        0.000000  ...   \n25%                 14.100000                9.800000        0.000000  ...   \n50%                 14.100000               20.100000        0.000000  ...   \n75%                 14.100000               30.799999        0.000000  ...   \nmax                 14.200000              141.899994        2.000000  ...   \n\n       DCDC_MaxPwrTime  vcu_dcdc_enable  vcu_dcdc_voltageReq   \ncount     80400.000000      5479.000000          5479.000000  \\\nmean        152.417725         0.969702            14.133345   \nstd         692.943787         0.171420             0.377125   \nmin           0.000000         0.000000            12.000000   \n25%           0.000000         1.000000            14.200000   \n50%           0.000000         1.000000            14.200000   \n75%           0.000000         1.000000            14.200000   \nmax        4095.000000         1.000000            14.200000   \n\n       DCDC_MCU_HVIL_Warning  DCDC_BMS_HVIL_Warning  DCDC_HV_InterlockStatus1   \ncount                87044.0                87044.0                   87044.0  \\\nmean                     0.0                    0.0                       0.0   \nstd                      0.0                    0.0                       0.0   \nmin                      0.0                    0.0                       0.0   \n25%                      0.0                    0.0                       0.0   \n50%                      0.0                    0.0                       0.0   \n75%                      0.0                    0.0                       0.0   \nmax                      0.0                    0.0                       0.0   \n\n       DCDC_HV_InterlockStatus  dcdc_systemStatus  dcdc_deratingStatus   \ncount                  87044.0       87044.000000         87044.000000  \\\nmean                       0.0           1.969257             0.000023   \nstd                        0.0           0.191430             0.004793   \nmin                        0.0           0.000000             0.000000   \n25%                        0.0           2.000000             0.000000   \n50%                        0.0           2.000000             0.000000   \n75%                        0.0           2.000000             0.000000   \nmax                        0.0           6.000000             1.000000   \n\n       dcdc_realTemperature  \ncount          87044.000000  \nmean              36.672165  \nstd                9.536016  \nmin              -40.000000  \n25%               29.000000  \n50%               37.000000  \n75%               41.000000  \nmax               63.000000  \n\n[8 rows x 21 columns]",
      "text/html": "<div>\n<style scoped>\n    .dataframe tbody tr th:only-of-type {\n        vertical-align: middle;\n    }\n\n    .dataframe tbody tr th {\n        vertical-align: top;\n    }\n\n    .dataframe thead th {\n        text-align: right;\n    }\n</style>\n<table border=\"1\" class=\"dataframe\">\n  <thead>\n    <tr style=\"text-align: right;\">\n      <th></th>\n      <th>collect_ts</th>\n      <th>BCM_ebs_U_BATT</th>\n      <th>BCM_ebs_SOC</th>\n      <th>BCM_ebs_SOH_SUL</th>\n      <th>BCM_ebs_SOC_STATE</th>\n      <th>BCM_ebs_SOH_SUL_STATE</th>\n      <th>bcm_12VBatterySOC</th>\n      <th>dcdc_realOutputVoltage</th>\n      <th>dcdc_realOutputCurrent</th>\n      <th>DCDC_AlerState</th>\n      <th>...</th>\n      <th>DCDC_MaxPwrTime</th>\n      <th>vcu_dcdc_enable</th>\n      <th>vcu_dcdc_voltageReq</th>\n      <th>DCDC_MCU_HVIL_Warning</th>\n      <th>DCDC_BMS_HVIL_Warning</th>\n      <th>DCDC_HV_InterlockStatus1</th>\n      <th>DCDC_HV_InterlockStatus</th>\n      <th>dcdc_systemStatus</th>\n      <th>dcdc_deratingStatus</th>\n      <th>dcdc_realTemperature</th>\n    </tr>\n  </thead>\n  <tbody>\n    <tr>\n      <th>count</th>\n      <td>8.704400e+04</td>\n      <td>87044.000000</td>\n      <td>87044.000000</td>\n      <td>87044.000000</td>\n      <td>87019.000000</td>\n      <td>87019.000000</td>\n      <td>87037.000000</td>\n      <td>87044.000000</td>\n      <td>87044.000000</td>\n      <td>87044.000000</td>\n      <td>...</td>\n      <td>80400.000000</td>\n      <td>5479.000000</td>\n      <td>5479.000000</td>\n      <td>87044.0</td>\n      <td>87044.0</td>\n      <td>87044.0</td>\n      <td>87044.0</td>\n      <td>87044.000000</td>\n      <td>87044.000000</td>\n      <td>87044.000000</td>\n    </tr>\n    <tr>\n      <th>mean</th>\n      <td>1.681756e+12</td>\n      <td>14.105851</td>\n      <td>81.509445</td>\n      <td>88.293266</td>\n      <td>1.734288</td>\n      <td>0.699571</td>\n      <td>81.509163</td>\n      <td>14.014090</td>\n      <td>22.872591</td>\n      <td>0.000954</td>\n      <td>...</td>\n      <td>152.417725</td>\n      <td>0.969702</td>\n      <td>14.133345</td>\n      <td>0.0</td>\n      <td>0.0</td>\n      <td>0.0</td>\n      <td>0.0</td>\n      <td>1.969257</td>\n      <td>0.000023</td>\n      <td>36.672165</td>\n    </tr>\n    <tr>\n      <th>std</th>\n      <td>3.274048e+07</td>\n      <td>0.369256</td>\n      <td>13.761865</td>\n      <td>12.054450</td>\n      <td>0.497254</td>\n      <td>0.459499</td>\n      <td>13.762928</td>\n      <td>0.722972</td>\n      <td>17.155041</td>\n      <td>0.034051</td>\n      <td>...</td>\n      <td>692.943787</td>\n      <td>0.171420</td>\n      <td>0.377125</td>\n      <td>0.0</td>\n      <td>0.0</td>\n      <td>0.0</td>\n      <td>0.0</td>\n      <td>0.191430</td>\n      <td>0.004793</td>\n      <td>9.536016</td>\n    </tr>\n    <tr>\n      <th>min</th>\n      <td>1.681552e+12</td>\n      <td>7.016602</td>\n      <td>0.000000</td>\n      <td>17.000000</td>\n      <td>0.000000</td>\n      <td>0.000000</td>\n      <td>0.000000</td>\n      <td>0.000000</td>\n      <td>0.000000</td>\n      <td>0.000000</td>\n      <td>...</td>\n      <td>0.000000</td>\n      <td>0.000000</td>\n      <td>12.000000</td>\n      <td>0.0</td>\n      <td>0.0</td>\n      <td>0.0</td>\n      <td>0.0</td>\n      <td>0.000000</td>\n      <td>0.000000</td>\n      <td>-40.000000</td>\n    </tr>\n    <tr>\n      <th>25%</th>\n      <td>1.681724e+12</td>\n      <td>14.121094</td>\n      <td>70.000000</td>\n      <td>81.000000</td>\n      <td>2.000000</td>\n      <td>0.000000</td>\n      <td>70.000000</td>\n      <td>14.100000</td>\n      <td>9.800000</td>\n      <td>0.000000</td>\n      <td>...</td>\n      <td>0.000000</td>\n      <td>1.000000</td>\n      <td>14.200000</td>\n      <td>0.0</td>\n      <td>0.0</td>\n      <td>0.0</td>\n      <td>0.0</td>\n      <td>2.000000</td>\n      <td>0.000000</td>\n      <td>29.000000</td>\n    </tr>\n    <tr>\n      <th>50%</th>\n      <td>1.681751e+12</td>\n      <td>14.173828</td>\n      <td>81.000000</td>\n      <td>89.000000</td>\n      <td>2.000000</td>\n      <td>1.000000</td>\n      <td>81.000000</td>\n      <td>14.100000</td>\n      <td>20.100000</td>\n      <td>0.000000</td>\n      <td>...</td>\n      <td>0.000000</td>\n      <td>1.000000</td>\n      <td>14.200000</td>\n      <td>0.0</td>\n      <td>0.0</td>\n      <td>0.0</td>\n      <td>0.0</td>\n      <td>2.000000</td>\n      <td>0.000000</td>\n      <td>37.000000</td>\n    </tr>\n    <tr>\n      <th>75%</th>\n      <td>1.681788e+12</td>\n      <td>14.202148</td>\n      <td>92.000000</td>\n      <td>100.000000</td>\n      <td>2.000000</td>\n      <td>1.000000</td>\n      <td>92.000000</td>\n      <td>14.100000</td>\n      <td>30.799999</td>\n      <td>0.000000</td>\n      <td>...</td>\n      <td>0.000000</td>\n      <td>1.000000</td>\n      <td>14.200000</td>\n      <td>0.0</td>\n      <td>0.0</td>\n      <td>0.0</td>\n      <td>0.0</td>\n      <td>2.000000</td>\n      <td>0.000000</td>\n      <td>41.000000</td>\n    </tr>\n    <tr>\n      <th>max</th>\n      <td>1.681804e+12</td>\n      <td>18.999023</td>\n      <td>255.000000</td>\n      <td>255.000000</td>\n      <td>3.000000</td>\n      <td>3.000000</td>\n      <td>255.000000</td>\n      <td>14.200000</td>\n      <td>141.899994</td>\n      <td>2.000000</td>\n      <td>...</td>\n      <td>4095.000000</td>\n      <td>1.000000</td>\n      <td>14.200000</td>\n      <td>0.0</td>\n      <td>0.0</td>\n      <td>0.0</td>\n      <td>0.0</td>\n      <td>6.000000</td>\n      <td>1.000000</td>\n      <td>63.000000</td>\n    </tr>\n  </tbody>\n</table>\n<p>8 rows × 21 columns</p>\n</div>"
     },
     "execution_count": 48,
     "metadata": {},
     "output_type": "execute_result"
    }
   ],
   "source": [
    "# 清除异常数据之后的数据\n",
    "data = data_raw[data_raw.BCM_ebs_U_BATT >= 7.]\n",
    "data.describe()"
   ],
   "metadata": {
    "collapsed": false,
    "ExecuteTime": {
     "start_time": "2023-04-18T15:45:58.013452Z",
     "end_time": "2023-04-18T15:45:58.122836Z"
    }
   }
  },
  {
   "cell_type": "code",
   "execution_count": 49,
   "outputs": [
    {
     "name": "stdout",
     "output_type": "stream",
     "text": [
      "<class 'pandas.core.frame.DataFrame'>\n",
      "Index: 87044 entries, 6036 to 777476\n",
      "Data columns (total 26 columns):\n",
      " #   Column                    Non-Null Count  Dtype  \n",
      "---  ------                    --------------  -----  \n",
      " 0   vin                       87044 non-null  object \n",
      " 1   collect_ts                87044 non-null  int64  \n",
      " 2   uuid                      87044 non-null  object \n",
      " 3   model_name                87044 non-null  object \n",
      " 4   series_code               87044 non-null  object \n",
      " 5   msg_create_time           87044 non-null  object \n",
      " 6   BCM_ebs_U_BATT            87044 non-null  float32\n",
      " 7   BCM_ebs_SOC               87044 non-null  float32\n",
      " 8   BCM_ebs_SOH_SUL           87044 non-null  float32\n",
      " 9   BCM_ebs_SOC_STATE         87019 non-null  float32\n",
      " 10  BCM_ebs_SOH_SUL_STATE     87019 non-null  float32\n",
      " 11  bcm_12VBatterySOC         87037 non-null  float32\n",
      " 12  dcdc_realOutputVoltage    87044 non-null  float32\n",
      " 13  dcdc_realOutputCurrent    87044 non-null  float32\n",
      " 14  DCDC_AlerState            87044 non-null  float32\n",
      " 15  DCDC_OutPwr               80400 non-null  float32\n",
      " 16  DCDC_MaxPwrTime           80400 non-null  float32\n",
      " 17  vcu_dcdc_enable           5479 non-null   float32\n",
      " 18  vcu_dcdc_voltageReq       5479 non-null   float32\n",
      " 19  DCDC_MCU_HVIL_Warning     87044 non-null  float32\n",
      " 20  DCDC_BMS_HVIL_Warning     87044 non-null  float32\n",
      " 21  DCDC_HV_InterlockStatus1  87044 non-null  float32\n",
      " 22  DCDC_HV_InterlockStatus   87044 non-null  float32\n",
      " 23  dcdc_systemStatus         87044 non-null  float32\n",
      " 24  dcdc_deratingStatus       87044 non-null  float32\n",
      " 25  dcdc_realTemperature      87044 non-null  float32\n",
      "dtypes: float32(20), int64(1), object(5)\n",
      "memory usage: 11.3+ MB\n"
     ]
    }
   ],
   "source": [
    "data.info()"
   ],
   "metadata": {
    "collapsed": false,
    "ExecuteTime": {
     "start_time": "2023-04-18T15:46:01.304379Z",
     "end_time": "2023-04-18T15:46:01.326817Z"
    }
   }
  },
  {
   "cell_type": "code",
   "execution_count": 52,
   "outputs": [
    {
     "data": {
      "text/plain": "vin\nLM8F7D890MAS00205    49\nLM8F7D89XMAS00244    48\nLM8F7D897MAS00198    42\nLM8F7D795MAS00332     3\nLM8F7D898MA008093     2\nLM8F7D992MAS00656     1\nName: count, dtype: int64"
     },
     "execution_count": 52,
     "metadata": {},
     "output_type": "execute_result"
    }
   ],
   "source": [
    "data[data[\"BCM_ebs_U_BATT\"] < 10.5][\"vin\"].value_counts()"
   ],
   "metadata": {
    "collapsed": false,
    "ExecuteTime": {
     "start_time": "2023-04-18T15:49:42.980048Z",
     "end_time": "2023-04-18T15:49:42.985162Z"
    }
   }
  },
  {
   "cell_type": "code",
   "execution_count": null,
   "outputs": [],
   "source": [],
   "metadata": {
    "collapsed": false
   }
  },
  {
   "cell_type": "code",
   "execution_count": null,
   "outputs": [],
   "source": [],
   "metadata": {
    "collapsed": false
   }
  }
 ],
 "metadata": {
  "kernelspec": {
   "display_name": "Python 3",
   "language": "python",
   "name": "python3"
  },
  "language_info": {
   "codemirror_mode": {
    "name": "ipython",
    "version": 2
   },
   "file_extension": ".py",
   "mimetype": "text/x-python",
   "name": "python",
   "nbconvert_exporter": "python",
   "pygments_lexer": "ipython2",
   "version": "2.7.6"
  }
 },
 "nbformat": 4,
 "nbformat_minor": 0
}
