{
 "cells": [
  {
   "cell_type": "code",
   "execution_count": 1,
   "metadata": {
    "collapsed": true,
    "ExecuteTime": {
     "start_time": "2023-04-17T23:04:35.498425Z",
     "end_time": "2023-04-17T23:04:35.778770Z"
    }
   },
   "outputs": [],
   "source": [
    "import numpy as np\n",
    "import pandas as pd"
   ]
  },
  {
   "cell_type": "code",
   "execution_count": 4,
   "outputs": [],
   "source": [
    "data = pd.read_parquet(\"datasets/data-0-1.parquet.gzip\")"
   ],
   "metadata": {
    "collapsed": false,
    "ExecuteTime": {
     "start_time": "2023-04-17T23:10:33.178121Z",
     "end_time": "2023-04-17T23:10:33.242602Z"
    }
   }
  },
  {
   "cell_type": "code",
   "execution_count": 5,
   "outputs": [
    {
     "name": "stdout",
     "output_type": "stream",
     "text": [
      "<class 'pandas.core.frame.DataFrame'>\n",
      "RangeIndex: 71850 entries, 0 to 71849\n",
      "Data columns (total 33 columns):\n",
      " #   Column                    Non-Null Count  Dtype  \n",
      "---  ------                    --------------  -----  \n",
      " 0   vin                       71850 non-null  object \n",
      " 1   collect_ts                71850 non-null  int64  \n",
      " 2   uuid                      71850 non-null  object \n",
      " 3   model_name                71850 non-null  object \n",
      " 4   series_code               71850 non-null  object \n",
      " 5   msg_create_time           71850 non-null  object \n",
      " 6   BCM_ebs_U_BATT            8507 non-null   float32\n",
      " 7   BCM_ebs_SOC               8507 non-null   float32\n",
      " 8   BCM_ebs_SOH_SUL           8507 non-null   float32\n",
      " 9   ebs_Q_Charge              8507 non-null   float32\n",
      " 10  ebs_Q_Discharge           8507 non-null   float32\n",
      " 11  BCM_ebs_SOC_STATE         8506 non-null   float32\n",
      " 12  BCM_ebs_SOH_SUL_STATE     8506 non-null   float32\n",
      " 13  BCM_ebs_I_BATT            8506 non-null   float32\n",
      " 14  bcm_12VBatterySOC         8832 non-null   float32\n",
      " 15  IC_LowBatteryvoltage      0 non-null      float32\n",
      " 16  dcdc_realOutputVoltage    71850 non-null  float32\n",
      " 17  dcdc_realOutputCurrent    71850 non-null  float32\n",
      " 18  dcdc_OverTemperature      71850 non-null  float32\n",
      " 19  DCDC_AlerState            71850 non-null  float32\n",
      " 20  DCDC_realInputVoltage     0 non-null      float32\n",
      " 21  DCDC_realInputCurrent     0 non-null      float32\n",
      " 22  DCDC_OutPwr               62070 non-null  float32\n",
      " 23  DCDC_MaxPwrTime           62070 non-null  float32\n",
      " 24  vcu_dcdc_enable           6881 non-null   float32\n",
      " 25  vcu_dcdc_voltageReq       6881 non-null   float32\n",
      " 26  DCDC_MCU_HVIL_Warning     71850 non-null  float32\n",
      " 27  DCDC_BMS_HVIL_Warning     71850 non-null  float32\n",
      " 28  DCDC_HV_InterlockStatus1  71850 non-null  float32\n",
      " 29  DCDC_HV_InterlockStatus   71850 non-null  float32\n",
      " 30  dcdc_systemStatus         71850 non-null  float32\n",
      " 31  dcdc_deratingStatus       71850 non-null  float32\n",
      " 32  dcdc_realTemperature      71850 non-null  float32\n",
      "dtypes: float32(27), int64(1), object(5)\n",
      "memory usage: 10.7+ MB\n"
     ]
    }
   ],
   "source": [
    "# 数据概览\n",
    "data.info()"
   ],
   "metadata": {
    "collapsed": false,
    "ExecuteTime": {
     "start_time": "2023-04-17T23:10:38.732001Z",
     "end_time": "2023-04-17T23:10:38.741582Z"
    }
   }
  },
  {
   "cell_type": "code",
   "execution_count": 6,
   "outputs": [
    {
     "data": {
      "text/plain": "                 vin     collect_ts                                  uuid   \n0  LM8F7D899MAS00526  1681704517244  LM8F7D899MAS00526#1681704518731#7099  \\\n1  LM8F7D899MAS00526  1681704518244  LM8F7D899MAS00526#1681704518731#7099   \n2  LM8F7D899MAS00526  1681704519244  LM8F7D899MAS00526#1681704518731#7099   \n3  LM8F7D895MAS00586  1681709881105  LM8F7D895MAS00586#1681709884215#8323   \n4  LM8F7D895MAS00586  1681709882105  LM8F7D895MAS00586#1681709884215#8323   \n\n      model_name series_code msg_create_time  BCM_ebs_U_BATT  BCM_ebs_SOC   \n0  B24DRF6EP2L01    SERES-X1   1681704518156             NaN          NaN  \\\n1  B24DRF6EP2L01    SERES-X1   1681704518156             NaN          NaN   \n2  B24DRF6EP2L01    SERES-X1   1681704518156       14.222656         82.0   \n3  B24DRF6EP2L01    SERES-X1   1681709883623             NaN          NaN   \n4  B24DRF6EP2L01    SERES-X1   1681709883623             NaN          NaN   \n\n   BCM_ebs_SOH_SUL  ebs_Q_Charge  ...  DCDC_MaxPwrTime  vcu_dcdc_enable   \n0              NaN           NaN  ...              0.0              NaN  \\\n1              NaN           NaN  ...              0.0              NaN   \n2             84.0           0.0  ...              0.0              NaN   \n3              NaN           NaN  ...              0.0              NaN   \n4              NaN           NaN  ...              0.0              NaN   \n\n   vcu_dcdc_voltageReq  DCDC_MCU_HVIL_Warning  DCDC_BMS_HVIL_Warning   \n0                  NaN                    0.0                    0.0  \\\n1                  NaN                    0.0                    0.0   \n2                  NaN                    0.0                    0.0   \n3                  NaN                    0.0                    0.0   \n4                  NaN                    0.0                    0.0   \n\n   DCDC_HV_InterlockStatus1  DCDC_HV_InterlockStatus  dcdc_systemStatus   \n0                       0.0                      0.0                2.0  \\\n1                       0.0                      0.0                2.0   \n2                       0.0                      0.0                2.0   \n3                       0.0                      0.0                2.0   \n4                       0.0                      0.0                2.0   \n\n   dcdc_deratingStatus  dcdc_realTemperature  \n0                  0.0                  36.0  \n1                  0.0                  36.0  \n2                  0.0                  36.0  \n3                  0.0                  54.0  \n4                  0.0                  54.0  \n\n[5 rows x 33 columns]",
      "text/html": "<div>\n<style scoped>\n    .dataframe tbody tr th:only-of-type {\n        vertical-align: middle;\n    }\n\n    .dataframe tbody tr th {\n        vertical-align: top;\n    }\n\n    .dataframe thead th {\n        text-align: right;\n    }\n</style>\n<table border=\"1\" class=\"dataframe\">\n  <thead>\n    <tr style=\"text-align: right;\">\n      <th></th>\n      <th>vin</th>\n      <th>collect_ts</th>\n      <th>uuid</th>\n      <th>model_name</th>\n      <th>series_code</th>\n      <th>msg_create_time</th>\n      <th>BCM_ebs_U_BATT</th>\n      <th>BCM_ebs_SOC</th>\n      <th>BCM_ebs_SOH_SUL</th>\n      <th>ebs_Q_Charge</th>\n      <th>...</th>\n      <th>DCDC_MaxPwrTime</th>\n      <th>vcu_dcdc_enable</th>\n      <th>vcu_dcdc_voltageReq</th>\n      <th>DCDC_MCU_HVIL_Warning</th>\n      <th>DCDC_BMS_HVIL_Warning</th>\n      <th>DCDC_HV_InterlockStatus1</th>\n      <th>DCDC_HV_InterlockStatus</th>\n      <th>dcdc_systemStatus</th>\n      <th>dcdc_deratingStatus</th>\n      <th>dcdc_realTemperature</th>\n    </tr>\n  </thead>\n  <tbody>\n    <tr>\n      <th>0</th>\n      <td>LM8F7D899MAS00526</td>\n      <td>1681704517244</td>\n      <td>LM8F7D899MAS00526#1681704518731#7099</td>\n      <td>B24DRF6EP2L01</td>\n      <td>SERES-X1</td>\n      <td>1681704518156</td>\n      <td>NaN</td>\n      <td>NaN</td>\n      <td>NaN</td>\n      <td>NaN</td>\n      <td>...</td>\n      <td>0.0</td>\n      <td>NaN</td>\n      <td>NaN</td>\n      <td>0.0</td>\n      <td>0.0</td>\n      <td>0.0</td>\n      <td>0.0</td>\n      <td>2.0</td>\n      <td>0.0</td>\n      <td>36.0</td>\n    </tr>\n    <tr>\n      <th>1</th>\n      <td>LM8F7D899MAS00526</td>\n      <td>1681704518244</td>\n      <td>LM8F7D899MAS00526#1681704518731#7099</td>\n      <td>B24DRF6EP2L01</td>\n      <td>SERES-X1</td>\n      <td>1681704518156</td>\n      <td>NaN</td>\n      <td>NaN</td>\n      <td>NaN</td>\n      <td>NaN</td>\n      <td>...</td>\n      <td>0.0</td>\n      <td>NaN</td>\n      <td>NaN</td>\n      <td>0.0</td>\n      <td>0.0</td>\n      <td>0.0</td>\n      <td>0.0</td>\n      <td>2.0</td>\n      <td>0.0</td>\n      <td>36.0</td>\n    </tr>\n    <tr>\n      <th>2</th>\n      <td>LM8F7D899MAS00526</td>\n      <td>1681704519244</td>\n      <td>LM8F7D899MAS00526#1681704518731#7099</td>\n      <td>B24DRF6EP2L01</td>\n      <td>SERES-X1</td>\n      <td>1681704518156</td>\n      <td>14.222656</td>\n      <td>82.0</td>\n      <td>84.0</td>\n      <td>0.0</td>\n      <td>...</td>\n      <td>0.0</td>\n      <td>NaN</td>\n      <td>NaN</td>\n      <td>0.0</td>\n      <td>0.0</td>\n      <td>0.0</td>\n      <td>0.0</td>\n      <td>2.0</td>\n      <td>0.0</td>\n      <td>36.0</td>\n    </tr>\n    <tr>\n      <th>3</th>\n      <td>LM8F7D895MAS00586</td>\n      <td>1681709881105</td>\n      <td>LM8F7D895MAS00586#1681709884215#8323</td>\n      <td>B24DRF6EP2L01</td>\n      <td>SERES-X1</td>\n      <td>1681709883623</td>\n      <td>NaN</td>\n      <td>NaN</td>\n      <td>NaN</td>\n      <td>NaN</td>\n      <td>...</td>\n      <td>0.0</td>\n      <td>NaN</td>\n      <td>NaN</td>\n      <td>0.0</td>\n      <td>0.0</td>\n      <td>0.0</td>\n      <td>0.0</td>\n      <td>2.0</td>\n      <td>0.0</td>\n      <td>54.0</td>\n    </tr>\n    <tr>\n      <th>4</th>\n      <td>LM8F7D895MAS00586</td>\n      <td>1681709882105</td>\n      <td>LM8F7D895MAS00586#1681709884215#8323</td>\n      <td>B24DRF6EP2L01</td>\n      <td>SERES-X1</td>\n      <td>1681709883623</td>\n      <td>NaN</td>\n      <td>NaN</td>\n      <td>NaN</td>\n      <td>NaN</td>\n      <td>...</td>\n      <td>0.0</td>\n      <td>NaN</td>\n      <td>NaN</td>\n      <td>0.0</td>\n      <td>0.0</td>\n      <td>0.0</td>\n      <td>0.0</td>\n      <td>2.0</td>\n      <td>0.0</td>\n      <td>54.0</td>\n    </tr>\n  </tbody>\n</table>\n<p>5 rows × 33 columns</p>\n</div>"
     },
     "execution_count": 6,
     "metadata": {},
     "output_type": "execute_result"
    }
   ],
   "source": [
    "# 显示前面5行\n",
    "data.head()"
   ],
   "metadata": {
    "collapsed": false,
    "ExecuteTime": {
     "start_time": "2023-04-17T23:11:04.459511Z",
     "end_time": "2023-04-17T23:11:04.481554Z"
    }
   }
  },
  {
   "cell_type": "code",
   "execution_count": 7,
   "outputs": [
    {
     "data": {
      "text/plain": "BCM_ebs_U_BATT\n3.000000     444\n14.243164    318\n14.244141    279\n14.218750    236\n14.208008    211\n            ... \n14.012695      1\n12.321289      1\n12.323242      1\n12.331055      1\n12.294922      1\nName: count, Length: 429, dtype: int64"
     },
     "execution_count": 7,
     "metadata": {},
     "output_type": "execute_result"
    }
   ],
   "source": [
    "data.BCM_ebs_U_BATT.value_counts()"
   ],
   "metadata": {
    "collapsed": false,
    "ExecuteTime": {
     "start_time": "2023-04-17T23:22:00.970144Z",
     "end_time": "2023-04-17T23:22:00.978843Z"
    }
   }
  },
  {
   "cell_type": "code",
   "execution_count": 10,
   "outputs": [
    {
     "data": {
      "text/plain": "                     vin     collect_ts                                  uuid   \n24514  LM8F7D992MAS00656  1681713513549  LM8F7D992MAS00656#1681713514619#9064  \\\n46932  LM8F7D898MA008093  1681715192990  LM8F7D898MA008093#1681715195334#1544   \n\n          model_name series_code msg_create_time  BCM_ebs_U_BATT  BCM_ebs_SOC   \n24514  B24DRF8JP2L01    SERES-X1   1681713514054       10.215820         21.0  \\\n46932  B24DRF6EP2L01    SERES-X1   1681715194750       10.464844         90.0   \n\n       BCM_ebs_SOH_SUL  ebs_Q_Charge  ...  DCDC_MaxPwrTime  vcu_dcdc_enable   \n24514            100.0           0.0  ...              0.0              NaN  \\\n46932            100.0           0.0  ...              0.0              NaN   \n\n       vcu_dcdc_voltageReq  DCDC_MCU_HVIL_Warning  DCDC_BMS_HVIL_Warning   \n24514                  NaN                    0.0                    0.0  \\\n46932                  NaN                    0.0                    0.0   \n\n       DCDC_HV_InterlockStatus1  DCDC_HV_InterlockStatus  dcdc_systemStatus   \n24514                       0.0                      0.0                1.0  \\\n46932                       0.0                      0.0                1.0   \n\n       dcdc_deratingStatus  dcdc_realTemperature  \n24514                  0.0                  33.0  \n46932                  0.0                  37.0  \n\n[2 rows x 33 columns]",
      "text/html": "<div>\n<style scoped>\n    .dataframe tbody tr th:only-of-type {\n        vertical-align: middle;\n    }\n\n    .dataframe tbody tr th {\n        vertical-align: top;\n    }\n\n    .dataframe thead th {\n        text-align: right;\n    }\n</style>\n<table border=\"1\" class=\"dataframe\">\n  <thead>\n    <tr style=\"text-align: right;\">\n      <th></th>\n      <th>vin</th>\n      <th>collect_ts</th>\n      <th>uuid</th>\n      <th>model_name</th>\n      <th>series_code</th>\n      <th>msg_create_time</th>\n      <th>BCM_ebs_U_BATT</th>\n      <th>BCM_ebs_SOC</th>\n      <th>BCM_ebs_SOH_SUL</th>\n      <th>ebs_Q_Charge</th>\n      <th>...</th>\n      <th>DCDC_MaxPwrTime</th>\n      <th>vcu_dcdc_enable</th>\n      <th>vcu_dcdc_voltageReq</th>\n      <th>DCDC_MCU_HVIL_Warning</th>\n      <th>DCDC_BMS_HVIL_Warning</th>\n      <th>DCDC_HV_InterlockStatus1</th>\n      <th>DCDC_HV_InterlockStatus</th>\n      <th>dcdc_systemStatus</th>\n      <th>dcdc_deratingStatus</th>\n      <th>dcdc_realTemperature</th>\n    </tr>\n  </thead>\n  <tbody>\n    <tr>\n      <th>24514</th>\n      <td>LM8F7D992MAS00656</td>\n      <td>1681713513549</td>\n      <td>LM8F7D992MAS00656#1681713514619#9064</td>\n      <td>B24DRF8JP2L01</td>\n      <td>SERES-X1</td>\n      <td>1681713514054</td>\n      <td>10.215820</td>\n      <td>21.0</td>\n      <td>100.0</td>\n      <td>0.0</td>\n      <td>...</td>\n      <td>0.0</td>\n      <td>NaN</td>\n      <td>NaN</td>\n      <td>0.0</td>\n      <td>0.0</td>\n      <td>0.0</td>\n      <td>0.0</td>\n      <td>1.0</td>\n      <td>0.0</td>\n      <td>33.0</td>\n    </tr>\n    <tr>\n      <th>46932</th>\n      <td>LM8F7D898MA008093</td>\n      <td>1681715192990</td>\n      <td>LM8F7D898MA008093#1681715195334#1544</td>\n      <td>B24DRF6EP2L01</td>\n      <td>SERES-X1</td>\n      <td>1681715194750</td>\n      <td>10.464844</td>\n      <td>90.0</td>\n      <td>100.0</td>\n      <td>0.0</td>\n      <td>...</td>\n      <td>0.0</td>\n      <td>NaN</td>\n      <td>NaN</td>\n      <td>0.0</td>\n      <td>0.0</td>\n      <td>0.0</td>\n      <td>0.0</td>\n      <td>1.0</td>\n      <td>0.0</td>\n      <td>37.0</td>\n    </tr>\n  </tbody>\n</table>\n<p>2 rows × 33 columns</p>\n</div>"
     },
     "execution_count": 10,
     "metadata": {},
     "output_type": "execute_result"
    }
   ],
   "source": [
    "# 找到两条数据\n",
    "# LM8F7D992MAS00656 1681713513549 10.215820\n",
    "# LM8F7D898MA008093 1681715192990 10.464844\n",
    "data[(data.BCM_ebs_U_BATT < 10.5) & (data.BCM_ebs_U_BATT>10)]"
   ],
   "metadata": {
    "collapsed": false,
    "ExecuteTime": {
     "start_time": "2023-04-17T23:26:44.228558Z",
     "end_time": "2023-04-17T23:26:44.258060Z"
    }
   }
  },
  {
   "cell_type": "markdown",
   "source": [],
   "metadata": {
    "collapsed": false
   }
  },
  {
   "cell_type": "code",
   "execution_count": 15,
   "outputs": [],
   "source": [
    "MAS00656 = data[data.vin == \"LM8F7D992MAS00656\"].sort_values(by = 'collect_ts')\n",
    "MA008093 = data[data.vin == \"LM8F7D898MA008093\"].sort_values(by = 'collect_ts')"
   ],
   "metadata": {
    "collapsed": false,
    "ExecuteTime": {
     "start_time": "2023-04-17T23:45:58.948139Z",
     "end_time": "2023-04-17T23:45:58.958581Z"
    }
   }
  },
  {
   "cell_type": "code",
   "execution_count": 16,
   "outputs": [
    {
     "data": {
      "text/plain": "                     vin     collect_ts                                  uuid   \n23782  LM8F7D992MAS00656  1681713424549  LM8F7D992MAS00656#1681713434584#2016  \\\n23783  LM8F7D992MAS00656  1681713425549  LM8F7D992MAS00656#1681713434584#2016   \n23836  LM8F7D992MAS00656  1681713426549  LM8F7D992MAS00656#1681713434584#2016   \n23837  LM8F7D992MAS00656  1681713427549  LM8F7D992MAS00656#1681713434584#2016   \n23838  LM8F7D992MAS00656  1681713428549  LM8F7D992MAS00656#1681713434584#2016   \n...                  ...            ...                                   ...   \n24514  LM8F7D992MAS00656  1681713513549  LM8F7D992MAS00656#1681713514619#9064   \n24570  LM8F7D992MAS00656  1681713514549  LM8F7D992MAS00656#1681713524618#6975   \n24571  LM8F7D992MAS00656  1681713515549  LM8F7D992MAS00656#1681713524618#6975   \n24572  LM8F7D992MAS00656  1681713516549  LM8F7D992MAS00656#1681713524618#6975   \n24573  LM8F7D992MAS00656  1681713517549  LM8F7D992MAS00656#1681713524618#6975   \n\n          model_name series_code msg_create_time  BCM_ebs_U_BATT  BCM_ebs_SOC   \n23782  B24DRF8JP2L01    SERES-X1   1681713434044             NaN          NaN  \\\n23783  B24DRF8JP2L01    SERES-X1   1681713434044             NaN          NaN   \n23836  B24DRF8JP2L01    SERES-X1   1681713434044             NaN          NaN   \n23837  B24DRF8JP2L01    SERES-X1   1681713434044             NaN          NaN   \n23838  B24DRF8JP2L01    SERES-X1   1681713434044             NaN          NaN   \n...              ...         ...             ...             ...          ...   \n24514  B24DRF8JP2L01    SERES-X1   1681713514054        10.21582         21.0   \n24570  B24DRF8JP2L01    SERES-X1   1681713524043             NaN          NaN   \n24571  B24DRF8JP2L01    SERES-X1   1681713524043             NaN          NaN   \n24572  B24DRF8JP2L01    SERES-X1   1681713524043             NaN          NaN   \n24573  B24DRF8JP2L01    SERES-X1   1681713524043             NaN          NaN   \n\n       BCM_ebs_SOH_SUL  ebs_Q_Charge  ...  DCDC_MaxPwrTime  vcu_dcdc_enable   \n23782              NaN           NaN  ...              0.0              NaN  \\\n23783              NaN           NaN  ...              0.0              NaN   \n23836              NaN           NaN  ...              0.0              NaN   \n23837              NaN           NaN  ...              0.0              NaN   \n23838              NaN           NaN  ...              0.0              NaN   \n...                ...           ...  ...              ...              ...   \n24514            100.0           0.0  ...              0.0              NaN   \n24570              NaN           NaN  ...              0.0              NaN   \n24571              NaN           NaN  ...              0.0              NaN   \n24572              NaN           NaN  ...              0.0              NaN   \n24573              NaN           NaN  ...              0.0              NaN   \n\n       vcu_dcdc_voltageReq  DCDC_MCU_HVIL_Warning  DCDC_BMS_HVIL_Warning   \n23782                  NaN                    0.0                    0.0  \\\n23783                  NaN                    0.0                    0.0   \n23836                  NaN                    0.0                    0.0   \n23837                  NaN                    0.0                    0.0   \n23838                  NaN                    0.0                    0.0   \n...                    ...                    ...                    ...   \n24514                  NaN                    0.0                    0.0   \n24570                  NaN                    0.0                    0.0   \n24571                  NaN                    0.0                    0.0   \n24572                  NaN                    0.0                    0.0   \n24573                  NaN                    0.0                    0.0   \n\n       DCDC_HV_InterlockStatus1  DCDC_HV_InterlockStatus  dcdc_systemStatus   \n23782                       0.0                      0.0                2.0  \\\n23783                       0.0                      0.0                2.0   \n23836                       0.0                      0.0                2.0   \n23837                       0.0                      0.0                2.0   \n23838                       0.0                      0.0                2.0   \n...                         ...                      ...                ...   \n24514                       0.0                      0.0                1.0   \n24570                       0.0                      0.0                1.0   \n24571                       0.0                      0.0                1.0   \n24572                       0.0                      0.0                6.0   \n24573                       0.0                      0.0                6.0   \n\n       dcdc_deratingStatus  dcdc_realTemperature  \n23782                  0.0                  33.0  \n23783                  0.0                  33.0  \n23836                  0.0                  33.0  \n23837                  0.0                  33.0  \n23838                  0.0                  33.0  \n...                    ...                   ...  \n24514                  0.0                  33.0  \n24570                  0.0                  33.0  \n24571                  0.0                  33.0  \n24572                  0.0                  33.0  \n24573                  0.0                  33.0  \n\n[94 rows x 33 columns]",
      "text/html": "<div>\n<style scoped>\n    .dataframe tbody tr th:only-of-type {\n        vertical-align: middle;\n    }\n\n    .dataframe tbody tr th {\n        vertical-align: top;\n    }\n\n    .dataframe thead th {\n        text-align: right;\n    }\n</style>\n<table border=\"1\" class=\"dataframe\">\n  <thead>\n    <tr style=\"text-align: right;\">\n      <th></th>\n      <th>vin</th>\n      <th>collect_ts</th>\n      <th>uuid</th>\n      <th>model_name</th>\n      <th>series_code</th>\n      <th>msg_create_time</th>\n      <th>BCM_ebs_U_BATT</th>\n      <th>BCM_ebs_SOC</th>\n      <th>BCM_ebs_SOH_SUL</th>\n      <th>ebs_Q_Charge</th>\n      <th>...</th>\n      <th>DCDC_MaxPwrTime</th>\n      <th>vcu_dcdc_enable</th>\n      <th>vcu_dcdc_voltageReq</th>\n      <th>DCDC_MCU_HVIL_Warning</th>\n      <th>DCDC_BMS_HVIL_Warning</th>\n      <th>DCDC_HV_InterlockStatus1</th>\n      <th>DCDC_HV_InterlockStatus</th>\n      <th>dcdc_systemStatus</th>\n      <th>dcdc_deratingStatus</th>\n      <th>dcdc_realTemperature</th>\n    </tr>\n  </thead>\n  <tbody>\n    <tr>\n      <th>23782</th>\n      <td>LM8F7D992MAS00656</td>\n      <td>1681713424549</td>\n      <td>LM8F7D992MAS00656#1681713434584#2016</td>\n      <td>B24DRF8JP2L01</td>\n      <td>SERES-X1</td>\n      <td>1681713434044</td>\n      <td>NaN</td>\n      <td>NaN</td>\n      <td>NaN</td>\n      <td>NaN</td>\n      <td>...</td>\n      <td>0.0</td>\n      <td>NaN</td>\n      <td>NaN</td>\n      <td>0.0</td>\n      <td>0.0</td>\n      <td>0.0</td>\n      <td>0.0</td>\n      <td>2.0</td>\n      <td>0.0</td>\n      <td>33.0</td>\n    </tr>\n    <tr>\n      <th>23783</th>\n      <td>LM8F7D992MAS00656</td>\n      <td>1681713425549</td>\n      <td>LM8F7D992MAS00656#1681713434584#2016</td>\n      <td>B24DRF8JP2L01</td>\n      <td>SERES-X1</td>\n      <td>1681713434044</td>\n      <td>NaN</td>\n      <td>NaN</td>\n      <td>NaN</td>\n      <td>NaN</td>\n      <td>...</td>\n      <td>0.0</td>\n      <td>NaN</td>\n      <td>NaN</td>\n      <td>0.0</td>\n      <td>0.0</td>\n      <td>0.0</td>\n      <td>0.0</td>\n      <td>2.0</td>\n      <td>0.0</td>\n      <td>33.0</td>\n    </tr>\n    <tr>\n      <th>23836</th>\n      <td>LM8F7D992MAS00656</td>\n      <td>1681713426549</td>\n      <td>LM8F7D992MAS00656#1681713434584#2016</td>\n      <td>B24DRF8JP2L01</td>\n      <td>SERES-X1</td>\n      <td>1681713434044</td>\n      <td>NaN</td>\n      <td>NaN</td>\n      <td>NaN</td>\n      <td>NaN</td>\n      <td>...</td>\n      <td>0.0</td>\n      <td>NaN</td>\n      <td>NaN</td>\n      <td>0.0</td>\n      <td>0.0</td>\n      <td>0.0</td>\n      <td>0.0</td>\n      <td>2.0</td>\n      <td>0.0</td>\n      <td>33.0</td>\n    </tr>\n    <tr>\n      <th>23837</th>\n      <td>LM8F7D992MAS00656</td>\n      <td>1681713427549</td>\n      <td>LM8F7D992MAS00656#1681713434584#2016</td>\n      <td>B24DRF8JP2L01</td>\n      <td>SERES-X1</td>\n      <td>1681713434044</td>\n      <td>NaN</td>\n      <td>NaN</td>\n      <td>NaN</td>\n      <td>NaN</td>\n      <td>...</td>\n      <td>0.0</td>\n      <td>NaN</td>\n      <td>NaN</td>\n      <td>0.0</td>\n      <td>0.0</td>\n      <td>0.0</td>\n      <td>0.0</td>\n      <td>2.0</td>\n      <td>0.0</td>\n      <td>33.0</td>\n    </tr>\n    <tr>\n      <th>23838</th>\n      <td>LM8F7D992MAS00656</td>\n      <td>1681713428549</td>\n      <td>LM8F7D992MAS00656#1681713434584#2016</td>\n      <td>B24DRF8JP2L01</td>\n      <td>SERES-X1</td>\n      <td>1681713434044</td>\n      <td>NaN</td>\n      <td>NaN</td>\n      <td>NaN</td>\n      <td>NaN</td>\n      <td>...</td>\n      <td>0.0</td>\n      <td>NaN</td>\n      <td>NaN</td>\n      <td>0.0</td>\n      <td>0.0</td>\n      <td>0.0</td>\n      <td>0.0</td>\n      <td>2.0</td>\n      <td>0.0</td>\n      <td>33.0</td>\n    </tr>\n    <tr>\n      <th>...</th>\n      <td>...</td>\n      <td>...</td>\n      <td>...</td>\n      <td>...</td>\n      <td>...</td>\n      <td>...</td>\n      <td>...</td>\n      <td>...</td>\n      <td>...</td>\n      <td>...</td>\n      <td>...</td>\n      <td>...</td>\n      <td>...</td>\n      <td>...</td>\n      <td>...</td>\n      <td>...</td>\n      <td>...</td>\n      <td>...</td>\n      <td>...</td>\n      <td>...</td>\n      <td>...</td>\n    </tr>\n    <tr>\n      <th>24514</th>\n      <td>LM8F7D992MAS00656</td>\n      <td>1681713513549</td>\n      <td>LM8F7D992MAS00656#1681713514619#9064</td>\n      <td>B24DRF8JP2L01</td>\n      <td>SERES-X1</td>\n      <td>1681713514054</td>\n      <td>10.21582</td>\n      <td>21.0</td>\n      <td>100.0</td>\n      <td>0.0</td>\n      <td>...</td>\n      <td>0.0</td>\n      <td>NaN</td>\n      <td>NaN</td>\n      <td>0.0</td>\n      <td>0.0</td>\n      <td>0.0</td>\n      <td>0.0</td>\n      <td>1.0</td>\n      <td>0.0</td>\n      <td>33.0</td>\n    </tr>\n    <tr>\n      <th>24570</th>\n      <td>LM8F7D992MAS00656</td>\n      <td>1681713514549</td>\n      <td>LM8F7D992MAS00656#1681713524618#6975</td>\n      <td>B24DRF8JP2L01</td>\n      <td>SERES-X1</td>\n      <td>1681713524043</td>\n      <td>NaN</td>\n      <td>NaN</td>\n      <td>NaN</td>\n      <td>NaN</td>\n      <td>...</td>\n      <td>0.0</td>\n      <td>NaN</td>\n      <td>NaN</td>\n      <td>0.0</td>\n      <td>0.0</td>\n      <td>0.0</td>\n      <td>0.0</td>\n      <td>1.0</td>\n      <td>0.0</td>\n      <td>33.0</td>\n    </tr>\n    <tr>\n      <th>24571</th>\n      <td>LM8F7D992MAS00656</td>\n      <td>1681713515549</td>\n      <td>LM8F7D992MAS00656#1681713524618#6975</td>\n      <td>B24DRF8JP2L01</td>\n      <td>SERES-X1</td>\n      <td>1681713524043</td>\n      <td>NaN</td>\n      <td>NaN</td>\n      <td>NaN</td>\n      <td>NaN</td>\n      <td>...</td>\n      <td>0.0</td>\n      <td>NaN</td>\n      <td>NaN</td>\n      <td>0.0</td>\n      <td>0.0</td>\n      <td>0.0</td>\n      <td>0.0</td>\n      <td>1.0</td>\n      <td>0.0</td>\n      <td>33.0</td>\n    </tr>\n    <tr>\n      <th>24572</th>\n      <td>LM8F7D992MAS00656</td>\n      <td>1681713516549</td>\n      <td>LM8F7D992MAS00656#1681713524618#6975</td>\n      <td>B24DRF8JP2L01</td>\n      <td>SERES-X1</td>\n      <td>1681713524043</td>\n      <td>NaN</td>\n      <td>NaN</td>\n      <td>NaN</td>\n      <td>NaN</td>\n      <td>...</td>\n      <td>0.0</td>\n      <td>NaN</td>\n      <td>NaN</td>\n      <td>0.0</td>\n      <td>0.0</td>\n      <td>0.0</td>\n      <td>0.0</td>\n      <td>6.0</td>\n      <td>0.0</td>\n      <td>33.0</td>\n    </tr>\n    <tr>\n      <th>24573</th>\n      <td>LM8F7D992MAS00656</td>\n      <td>1681713517549</td>\n      <td>LM8F7D992MAS00656#1681713524618#6975</td>\n      <td>B24DRF8JP2L01</td>\n      <td>SERES-X1</td>\n      <td>1681713524043</td>\n      <td>NaN</td>\n      <td>NaN</td>\n      <td>NaN</td>\n      <td>NaN</td>\n      <td>...</td>\n      <td>0.0</td>\n      <td>NaN</td>\n      <td>NaN</td>\n      <td>0.0</td>\n      <td>0.0</td>\n      <td>0.0</td>\n      <td>0.0</td>\n      <td>6.0</td>\n      <td>0.0</td>\n      <td>33.0</td>\n    </tr>\n  </tbody>\n</table>\n<p>94 rows × 33 columns</p>\n</div>"
     },
     "execution_count": 16,
     "metadata": {},
     "output_type": "execute_result"
    }
   ],
   "source": [
    "MAS00656"
   ],
   "metadata": {
    "collapsed": false,
    "ExecuteTime": {
     "start_time": "2023-04-17T23:45:59.489865Z",
     "end_time": "2023-04-17T23:45:59.510774Z"
    }
   }
  },
  {
   "cell_type": "code",
   "execution_count": 17,
   "outputs": [
    {
     "data": {
      "text/plain": "                     vin     collect_ts                                  uuid   \n101    LM8F7D898MA008093  1681709135660  LM8F7D898MA008093#1681709147234#2250  \\\n102    LM8F7D898MA008093  1681709136660  LM8F7D898MA008093#1681709147234#2250   \n103    LM8F7D898MA008093  1681709137660  LM8F7D898MA008093#1681709147234#2250   \n104    LM8F7D898MA008093  1681709138660  LM8F7D898MA008093#1681709147234#2250   \n105    LM8F7D898MA008093  1681709139660  LM8F7D898MA008093#1681709147234#2250   \n...                  ...            ...                                   ...   \n71683  LM8F7D898MA008093  1681719486697  LM8F7D898MA008093#1681719489769#9507   \n71684  LM8F7D898MA008093  1681719487697  LM8F7D898MA008093#1681719489769#9507   \n71740  LM8F7D898MA008093  1681719488697  LM8F7D898MA008093#1681719489769#9507   \n71741  LM8F7D898MA008093  1681719489697  LM8F7D898MA008093#1681719499676#5831   \n71849  LM8F7D898MA008093  1681719490697  LM8F7D898MA008093#1681719499676#5831   \n\n          model_name series_code msg_create_time  BCM_ebs_U_BATT  BCM_ebs_SOC   \n101    B24DRF6EP2L01    SERES-X1   1681709147036             NaN          NaN  \\\n102    B24DRF6EP2L01    SERES-X1   1681709147036             NaN          NaN   \n103    B24DRF6EP2L01    SERES-X1   1681709147036             NaN          NaN   \n104    B24DRF6EP2L01    SERES-X1   1681709147036             NaN          NaN   \n105    B24DRF6EP2L01    SERES-X1   1681709147036             NaN          NaN   \n...              ...         ...             ...             ...          ...   \n71683  B24DRF6EP2L01    SERES-X1   1681719489160             NaN          NaN   \n71684  B24DRF6EP2L01    SERES-X1   1681719489160             NaN          NaN   \n71740  B24DRF6EP2L01    SERES-X1   1681719489160        14.21875         81.0   \n71741  B24DRF6EP2L01    SERES-X1   1681719499150             NaN          NaN   \n71849  B24DRF6EP2L01    SERES-X1   1681719499150             NaN          NaN   \n\n       BCM_ebs_SOH_SUL  ebs_Q_Charge  ...  DCDC_MaxPwrTime  vcu_dcdc_enable   \n101                NaN           NaN  ...              0.0              NaN  \\\n102                NaN           NaN  ...              0.0              NaN   \n103                NaN           NaN  ...              0.0              NaN   \n104                NaN           NaN  ...              0.0              NaN   \n105                NaN           NaN  ...              0.0              NaN   \n...                ...           ...  ...              ...              ...   \n71683              NaN           NaN  ...              0.0              NaN   \n71684              NaN           NaN  ...              0.0              NaN   \n71740            100.0           0.0  ...              0.0              NaN   \n71741              NaN           NaN  ...              0.0              NaN   \n71849              NaN           NaN  ...              0.0              NaN   \n\n       vcu_dcdc_voltageReq  DCDC_MCU_HVIL_Warning  DCDC_BMS_HVIL_Warning   \n101                    NaN                    0.0                    0.0  \\\n102                    NaN                    0.0                    0.0   \n103                    NaN                    0.0                    0.0   \n104                    NaN                    0.0                    0.0   \n105                    NaN                    0.0                    0.0   \n...                    ...                    ...                    ...   \n71683                  NaN                    0.0                    0.0   \n71684                  NaN                    0.0                    0.0   \n71740                  NaN                    0.0                    0.0   \n71741                  NaN                    0.0                    0.0   \n71849                  NaN                    0.0                    0.0   \n\n       DCDC_HV_InterlockStatus1  DCDC_HV_InterlockStatus  dcdc_systemStatus   \n101                         0.0                      0.0                2.0  \\\n102                         0.0                      0.0                2.0   \n103                         0.0                      0.0                2.0   \n104                         0.0                      0.0                2.0   \n105                         0.0                      0.0                2.0   \n...                         ...                      ...                ...   \n71683                       0.0                      0.0                2.0   \n71684                       0.0                      0.0                2.0   \n71740                       0.0                      0.0                2.0   \n71741                       0.0                      0.0                2.0   \n71849                       0.0                      0.0                2.0   \n\n       dcdc_deratingStatus  dcdc_realTemperature  \n101                    0.0                  40.0  \n102                    0.0                  40.0  \n103                    0.0                  40.0  \n104                    0.0                  40.0  \n105                    0.0                  40.0  \n...                    ...                   ...  \n71683                  0.0                  41.0  \n71684                  0.0                  41.0  \n71740                  0.0                  41.0  \n71741                  0.0                  41.0  \n71849                  0.0                  41.0  \n\n[9172 rows x 33 columns]",
      "text/html": "<div>\n<style scoped>\n    .dataframe tbody tr th:only-of-type {\n        vertical-align: middle;\n    }\n\n    .dataframe tbody tr th {\n        vertical-align: top;\n    }\n\n    .dataframe thead th {\n        text-align: right;\n    }\n</style>\n<table border=\"1\" class=\"dataframe\">\n  <thead>\n    <tr style=\"text-align: right;\">\n      <th></th>\n      <th>vin</th>\n      <th>collect_ts</th>\n      <th>uuid</th>\n      <th>model_name</th>\n      <th>series_code</th>\n      <th>msg_create_time</th>\n      <th>BCM_ebs_U_BATT</th>\n      <th>BCM_ebs_SOC</th>\n      <th>BCM_ebs_SOH_SUL</th>\n      <th>ebs_Q_Charge</th>\n      <th>...</th>\n      <th>DCDC_MaxPwrTime</th>\n      <th>vcu_dcdc_enable</th>\n      <th>vcu_dcdc_voltageReq</th>\n      <th>DCDC_MCU_HVIL_Warning</th>\n      <th>DCDC_BMS_HVIL_Warning</th>\n      <th>DCDC_HV_InterlockStatus1</th>\n      <th>DCDC_HV_InterlockStatus</th>\n      <th>dcdc_systemStatus</th>\n      <th>dcdc_deratingStatus</th>\n      <th>dcdc_realTemperature</th>\n    </tr>\n  </thead>\n  <tbody>\n    <tr>\n      <th>101</th>\n      <td>LM8F7D898MA008093</td>\n      <td>1681709135660</td>\n      <td>LM8F7D898MA008093#1681709147234#2250</td>\n      <td>B24DRF6EP2L01</td>\n      <td>SERES-X1</td>\n      <td>1681709147036</td>\n      <td>NaN</td>\n      <td>NaN</td>\n      <td>NaN</td>\n      <td>NaN</td>\n      <td>...</td>\n      <td>0.0</td>\n      <td>NaN</td>\n      <td>NaN</td>\n      <td>0.0</td>\n      <td>0.0</td>\n      <td>0.0</td>\n      <td>0.0</td>\n      <td>2.0</td>\n      <td>0.0</td>\n      <td>40.0</td>\n    </tr>\n    <tr>\n      <th>102</th>\n      <td>LM8F7D898MA008093</td>\n      <td>1681709136660</td>\n      <td>LM8F7D898MA008093#1681709147234#2250</td>\n      <td>B24DRF6EP2L01</td>\n      <td>SERES-X1</td>\n      <td>1681709147036</td>\n      <td>NaN</td>\n      <td>NaN</td>\n      <td>NaN</td>\n      <td>NaN</td>\n      <td>...</td>\n      <td>0.0</td>\n      <td>NaN</td>\n      <td>NaN</td>\n      <td>0.0</td>\n      <td>0.0</td>\n      <td>0.0</td>\n      <td>0.0</td>\n      <td>2.0</td>\n      <td>0.0</td>\n      <td>40.0</td>\n    </tr>\n    <tr>\n      <th>103</th>\n      <td>LM8F7D898MA008093</td>\n      <td>1681709137660</td>\n      <td>LM8F7D898MA008093#1681709147234#2250</td>\n      <td>B24DRF6EP2L01</td>\n      <td>SERES-X1</td>\n      <td>1681709147036</td>\n      <td>NaN</td>\n      <td>NaN</td>\n      <td>NaN</td>\n      <td>NaN</td>\n      <td>...</td>\n      <td>0.0</td>\n      <td>NaN</td>\n      <td>NaN</td>\n      <td>0.0</td>\n      <td>0.0</td>\n      <td>0.0</td>\n      <td>0.0</td>\n      <td>2.0</td>\n      <td>0.0</td>\n      <td>40.0</td>\n    </tr>\n    <tr>\n      <th>104</th>\n      <td>LM8F7D898MA008093</td>\n      <td>1681709138660</td>\n      <td>LM8F7D898MA008093#1681709147234#2250</td>\n      <td>B24DRF6EP2L01</td>\n      <td>SERES-X1</td>\n      <td>1681709147036</td>\n      <td>NaN</td>\n      <td>NaN</td>\n      <td>NaN</td>\n      <td>NaN</td>\n      <td>...</td>\n      <td>0.0</td>\n      <td>NaN</td>\n      <td>NaN</td>\n      <td>0.0</td>\n      <td>0.0</td>\n      <td>0.0</td>\n      <td>0.0</td>\n      <td>2.0</td>\n      <td>0.0</td>\n      <td>40.0</td>\n    </tr>\n    <tr>\n      <th>105</th>\n      <td>LM8F7D898MA008093</td>\n      <td>1681709139660</td>\n      <td>LM8F7D898MA008093#1681709147234#2250</td>\n      <td>B24DRF6EP2L01</td>\n      <td>SERES-X1</td>\n      <td>1681709147036</td>\n      <td>NaN</td>\n      <td>NaN</td>\n      <td>NaN</td>\n      <td>NaN</td>\n      <td>...</td>\n      <td>0.0</td>\n      <td>NaN</td>\n      <td>NaN</td>\n      <td>0.0</td>\n      <td>0.0</td>\n      <td>0.0</td>\n      <td>0.0</td>\n      <td>2.0</td>\n      <td>0.0</td>\n      <td>40.0</td>\n    </tr>\n    <tr>\n      <th>...</th>\n      <td>...</td>\n      <td>...</td>\n      <td>...</td>\n      <td>...</td>\n      <td>...</td>\n      <td>...</td>\n      <td>...</td>\n      <td>...</td>\n      <td>...</td>\n      <td>...</td>\n      <td>...</td>\n      <td>...</td>\n      <td>...</td>\n      <td>...</td>\n      <td>...</td>\n      <td>...</td>\n      <td>...</td>\n      <td>...</td>\n      <td>...</td>\n      <td>...</td>\n      <td>...</td>\n    </tr>\n    <tr>\n      <th>71683</th>\n      <td>LM8F7D898MA008093</td>\n      <td>1681719486697</td>\n      <td>LM8F7D898MA008093#1681719489769#9507</td>\n      <td>B24DRF6EP2L01</td>\n      <td>SERES-X1</td>\n      <td>1681719489160</td>\n      <td>NaN</td>\n      <td>NaN</td>\n      <td>NaN</td>\n      <td>NaN</td>\n      <td>...</td>\n      <td>0.0</td>\n      <td>NaN</td>\n      <td>NaN</td>\n      <td>0.0</td>\n      <td>0.0</td>\n      <td>0.0</td>\n      <td>0.0</td>\n      <td>2.0</td>\n      <td>0.0</td>\n      <td>41.0</td>\n    </tr>\n    <tr>\n      <th>71684</th>\n      <td>LM8F7D898MA008093</td>\n      <td>1681719487697</td>\n      <td>LM8F7D898MA008093#1681719489769#9507</td>\n      <td>B24DRF6EP2L01</td>\n      <td>SERES-X1</td>\n      <td>1681719489160</td>\n      <td>NaN</td>\n      <td>NaN</td>\n      <td>NaN</td>\n      <td>NaN</td>\n      <td>...</td>\n      <td>0.0</td>\n      <td>NaN</td>\n      <td>NaN</td>\n      <td>0.0</td>\n      <td>0.0</td>\n      <td>0.0</td>\n      <td>0.0</td>\n      <td>2.0</td>\n      <td>0.0</td>\n      <td>41.0</td>\n    </tr>\n    <tr>\n      <th>71740</th>\n      <td>LM8F7D898MA008093</td>\n      <td>1681719488697</td>\n      <td>LM8F7D898MA008093#1681719489769#9507</td>\n      <td>B24DRF6EP2L01</td>\n      <td>SERES-X1</td>\n      <td>1681719489160</td>\n      <td>14.21875</td>\n      <td>81.0</td>\n      <td>100.0</td>\n      <td>0.0</td>\n      <td>...</td>\n      <td>0.0</td>\n      <td>NaN</td>\n      <td>NaN</td>\n      <td>0.0</td>\n      <td>0.0</td>\n      <td>0.0</td>\n      <td>0.0</td>\n      <td>2.0</td>\n      <td>0.0</td>\n      <td>41.0</td>\n    </tr>\n    <tr>\n      <th>71741</th>\n      <td>LM8F7D898MA008093</td>\n      <td>1681719489697</td>\n      <td>LM8F7D898MA008093#1681719499676#5831</td>\n      <td>B24DRF6EP2L01</td>\n      <td>SERES-X1</td>\n      <td>1681719499150</td>\n      <td>NaN</td>\n      <td>NaN</td>\n      <td>NaN</td>\n      <td>NaN</td>\n      <td>...</td>\n      <td>0.0</td>\n      <td>NaN</td>\n      <td>NaN</td>\n      <td>0.0</td>\n      <td>0.0</td>\n      <td>0.0</td>\n      <td>0.0</td>\n      <td>2.0</td>\n      <td>0.0</td>\n      <td>41.0</td>\n    </tr>\n    <tr>\n      <th>71849</th>\n      <td>LM8F7D898MA008093</td>\n      <td>1681719490697</td>\n      <td>LM8F7D898MA008093#1681719499676#5831</td>\n      <td>B24DRF6EP2L01</td>\n      <td>SERES-X1</td>\n      <td>1681719499150</td>\n      <td>NaN</td>\n      <td>NaN</td>\n      <td>NaN</td>\n      <td>NaN</td>\n      <td>...</td>\n      <td>0.0</td>\n      <td>NaN</td>\n      <td>NaN</td>\n      <td>0.0</td>\n      <td>0.0</td>\n      <td>0.0</td>\n      <td>0.0</td>\n      <td>2.0</td>\n      <td>0.0</td>\n      <td>41.0</td>\n    </tr>\n  </tbody>\n</table>\n<p>9172 rows × 33 columns</p>\n</div>"
     },
     "execution_count": 17,
     "metadata": {},
     "output_type": "execute_result"
    }
   ],
   "source": [
    "MA008093"
   ],
   "metadata": {
    "collapsed": false,
    "ExecuteTime": {
     "start_time": "2023-04-17T23:46:00.053129Z",
     "end_time": "2023-04-17T23:46:00.072946Z"
    }
   }
  },
  {
   "cell_type": "code",
   "execution_count": 18,
   "outputs": [
    {
     "data": {
      "text/plain": "BCM_ebs_U_BATT\n14.124023    2\n14.125977    1\n14.121094    1\n14.126953    1\n14.118164    1\n12.928711    1\n10.858398    1\n10.215820    1\nName: count, dtype: int64"
     },
     "execution_count": 18,
     "metadata": {},
     "output_type": "execute_result"
    }
   ],
   "source": [
    "MAS00656[\"BCM_ebs_U_BATT\"].value_counts()"
   ],
   "metadata": {
    "collapsed": false,
    "ExecuteTime": {
     "start_time": "2023-04-17T23:49:33.871303Z",
     "end_time": "2023-04-17T23:49:33.878428Z"
    }
   }
  },
  {
   "cell_type": "code",
   "execution_count": 19,
   "outputs": [
    {
     "data": {
      "text/plain": "BCM_ebs_U_BATT\n14.218750    190\n14.217773    189\n14.219727    143\n14.216797     92\n14.220703     38\n14.205078     31\n14.215820     26\n14.203125     19\n14.206055     18\n14.202148     17\n14.204102     17\n14.214844     13\n14.209961     12\n14.207031     10\n14.212891     10\n14.208008      9\n14.221680      8\n14.210938      7\n14.211914      7\n14.208984      7\n14.213867      6\n14.199219      5\n14.197266      4\n14.200195      3\n14.201172      3\n14.196289      3\n14.192383      2\n14.194336      2\n14.171875      2\n14.198242      2\n14.179688      1\n14.161133      1\n10.516602      1\n12.915039      1\n13.051758      1\n14.181641      1\n14.186523      1\n14.188477      1\n14.185547      1\n14.193359      1\n13.031250      1\n14.159180      1\n10.464844      1\n12.889648      1\n14.195312      1\n13.017578      1\n14.166992      1\n14.166016      1\n14.175781      1\n14.183594      1\n14.187500      1\n14.191406      1\n14.189453      1\nName: count, dtype: int64"
     },
     "execution_count": 19,
     "metadata": {},
     "output_type": "execute_result"
    }
   ],
   "source": [
    "MA008093[\"BCM_ebs_U_BATT\"].value_counts()"
   ],
   "metadata": {
    "collapsed": false,
    "ExecuteTime": {
     "start_time": "2023-04-17T23:50:18.814030Z",
     "end_time": "2023-04-17T23:50:18.820276Z"
    }
   }
  },
  {
   "cell_type": "code",
   "execution_count": null,
   "outputs": [],
   "source": [],
   "metadata": {
    "collapsed": false
   }
  }
 ],
 "metadata": {
  "kernelspec": {
   "display_name": "Python 3",
   "language": "python",
   "name": "python3"
  },
  "language_info": {
   "codemirror_mode": {
    "name": "ipython",
    "version": 2
   },
   "file_extension": ".py",
   "mimetype": "text/x-python",
   "name": "python",
   "nbconvert_exporter": "python",
   "pygments_lexer": "ipython2",
   "version": "2.7.6"
  }
 },
 "nbformat": 4,
 "nbformat_minor": 0
}
